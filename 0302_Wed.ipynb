{
  "nbformat": 4,
  "nbformat_minor": 0,
  "metadata": {
    "colab": {
      "name": "0302_Wed.ipynb",
      "provenance": [],
      "toc_visible": true,
      "mount_file_id": "1HURubwz65QitO-mNPYHD0DMvdeCMbWZ6",
      "authorship_tag": "ABX9TyMTiOi8w2hIR80FI3wzN85M",
      "include_colab_link": true
    },
    "kernelspec": {
      "name": "python3",
      "display_name": "Python 3"
    },
    "language_info": {
      "name": "python"
    },
    "accelerator": "GPU"
  },
  "cells": [
    {
      "cell_type": "markdown",
      "metadata": {
        "id": "view-in-github",
        "colab_type": "text"
      },
      "source": [
        "<a href=\"https://colab.research.google.com/github/SoYeoni621/mulcam/blob/master/0302_Wed.ipynb\" target=\"_parent\"><img src=\"https://colab.research.google.com/assets/colab-badge.svg\" alt=\"Open In Colab\"/></a>"
      ]
    },
    {
      "cell_type": "code",
      "execution_count": null,
      "metadata": {
        "id": "G_uQEoN_HUVL"
      },
      "outputs": [],
      "source": [
        "import tensorflow as tf\n",
        "import numpy as np"
      ]
    },
    {
      "cell_type": "code",
      "source": [
        "import pandas as pd\n",
        "\n",
        "df = pd.read_csv(\"/content/drive/MyDrive/통계기반자연어처리/news.csv\")"
      ],
      "metadata": {
        "id": "8YrpYBe1Haa_"
      },
      "execution_count": 1,
      "outputs": []
    },
    {
      "cell_type": "code",
      "source": [
        "df = df.dropna()"
      ],
      "metadata": {
        "id": "zJB5meXXHf-K"
      },
      "execution_count": 2,
      "outputs": []
    },
    {
      "cell_type": "code",
      "source": [
        "df['tokens'] = df['ngrams'].apply(lambda x : \" \".join([w.split('/')[0] for w in x.split(\",\")]))\n",
        "token_list = df['tokens'].tolist()"
      ],
      "metadata": {
        "id": "PBbvxEcBK5Mf"
      },
      "execution_count": 3,
      "outputs": []
    },
    {
      "cell_type": "code",
      "source": [
        "len(token_list)"
      ],
      "metadata": {
        "colab": {
          "base_uri": "https://localhost:8080/"
        },
        "id": "kF_6JDXHLBDI",
        "outputId": "9a9ad66e-e18c-48eb-dac4-bab46a6242df"
      },
      "execution_count": 6,
      "outputs": [
        {
          "output_type": "execute_result",
          "data": {
            "text/plain": [
              "261802"
            ]
          },
          "metadata": {},
          "execution_count": 6
        }
      ]
    },
    {
      "cell_type": "code",
      "source": [
        "token_list[:2]"
      ],
      "metadata": {
        "colab": {
          "base_uri": "https://localhost:8080/"
        },
        "id": "2-8AONzJLrva",
        "outputId": "a2562e0a-9999-4a02-950d-af16d4882c42"
      },
      "execution_count": 7,
      "outputs": [
        {
          "output_type": "execute_result",
          "data": {
            "text/plain": [
              "['만기 국채 수익률 fed fed 금리 인상 지속 따르 인플레이션 압력 완화 어렵 전망 인플레이션 제어 반면 만기 국채 수익률 fed 지속 금리 인상 수준 상승 예측 단기 국채 수익률 상승 나타나 반면 장기 국채 수익률 상승 제한 일드커브 플래트닝 가속 덧붙이 고용창출 호조 수입 증가 견인 고용시장 호전 소비자 지출 떠받치 단기 국채 일드커브 인플레이션 fed 고용창출 고용시장 수입 완화',\n",
              " '만기 국채 가격 최악 보내 만기 국채 수익률 수준 거래 마감 뉴욕 fed fed 금리 인상 했으나 인플레이션 제어 예상 만기 국채 수익률 소폭 수준 만기 국채 가격 fed 금리 인상 지속 최악 보내 덧붙이 fed 점진적 금리 인상 단행 fed 금리 인상 고용시장 동향 예의 주시 반면 고용창출 건수 호전 fed 공격적 금리 인상 정책 지속 가능성 강조 만기 국채 가격 포인트 오르 가격 움직이 수익률 떨어 만기 국채 수익률 기록 했었 만기 국채 가격 수익률 국채 인상']"
            ]
          },
          "metadata": {},
          "execution_count": 7
        }
      ]
    },
    {
      "cell_type": "code",
      "source": [
        "total_token_ls = [tokens.split() for tokens in token_list]"
      ],
      "metadata": {
        "id": "x0gckiZGLvDx"
      },
      "execution_count": 4,
      "outputs": []
    },
    {
      "cell_type": "code",
      "source": [
        "del df"
      ],
      "metadata": {
        "id": "tJKgJmI5P0VZ"
      },
      "execution_count": 5,
      "outputs": []
    },
    {
      "cell_type": "code",
      "source": [
        "del token_list"
      ],
      "metadata": {
        "id": "9UsBRf7oP12Z"
      },
      "execution_count": 6,
      "outputs": []
    },
    {
      "cell_type": "code",
      "source": [
        "!pip install glove-python-binary"
      ],
      "metadata": {
        "colab": {
          "base_uri": "https://localhost:8080/"
        },
        "id": "c5ST89wXL99I",
        "outputId": "9bbbe630-fdf9-4b86-ec16-c6af1e2f60b7"
      },
      "execution_count": 9,
      "outputs": [
        {
          "output_type": "stream",
          "name": "stdout",
          "text": [
            "Collecting glove-python-binary\n",
            "  Downloading glove_python_binary-0.2.0-cp37-cp37m-manylinux1_x86_64.whl (948 kB)\n",
            "\u001b[?25l\r\u001b[K     |▍                               | 10 kB 24.4 MB/s eta 0:00:01\r\u001b[K     |▊                               | 20 kB 29.0 MB/s eta 0:00:01\r\u001b[K     |█                               | 30 kB 33.9 MB/s eta 0:00:01\r\u001b[K     |█▍                              | 40 kB 13.3 MB/s eta 0:00:01\r\u001b[K     |█▊                              | 51 kB 12.3 MB/s eta 0:00:01\r\u001b[K     |██                              | 61 kB 13.6 MB/s eta 0:00:01\r\u001b[K     |██▍                             | 71 kB 12.4 MB/s eta 0:00:01\r\u001b[K     |██▊                             | 81 kB 13.4 MB/s eta 0:00:01\r\u001b[K     |███                             | 92 kB 14.8 MB/s eta 0:00:01\r\u001b[K     |███▌                            | 102 kB 11.1 MB/s eta 0:00:01\r\u001b[K     |███▉                            | 112 kB 11.1 MB/s eta 0:00:01\r\u001b[K     |████▏                           | 122 kB 11.1 MB/s eta 0:00:01\r\u001b[K     |████▌                           | 133 kB 11.1 MB/s eta 0:00:01\r\u001b[K     |████▉                           | 143 kB 11.1 MB/s eta 0:00:01\r\u001b[K     |█████▏                          | 153 kB 11.1 MB/s eta 0:00:01\r\u001b[K     |█████▌                          | 163 kB 11.1 MB/s eta 0:00:01\r\u001b[K     |█████▉                          | 174 kB 11.1 MB/s eta 0:00:01\r\u001b[K     |██████▏                         | 184 kB 11.1 MB/s eta 0:00:01\r\u001b[K     |██████▋                         | 194 kB 11.1 MB/s eta 0:00:01\r\u001b[K     |███████                         | 204 kB 11.1 MB/s eta 0:00:01\r\u001b[K     |███████▎                        | 215 kB 11.1 MB/s eta 0:00:01\r\u001b[K     |███████▋                        | 225 kB 11.1 MB/s eta 0:00:01\r\u001b[K     |████████                        | 235 kB 11.1 MB/s eta 0:00:01\r\u001b[K     |████████▎                       | 245 kB 11.1 MB/s eta 0:00:01\r\u001b[K     |████████▋                       | 256 kB 11.1 MB/s eta 0:00:01\r\u001b[K     |█████████                       | 266 kB 11.1 MB/s eta 0:00:01\r\u001b[K     |█████████▎                      | 276 kB 11.1 MB/s eta 0:00:01\r\u001b[K     |█████████▊                      | 286 kB 11.1 MB/s eta 0:00:01\r\u001b[K     |██████████                      | 296 kB 11.1 MB/s eta 0:00:01\r\u001b[K     |██████████▍                     | 307 kB 11.1 MB/s eta 0:00:01\r\u001b[K     |██████████▊                     | 317 kB 11.1 MB/s eta 0:00:01\r\u001b[K     |███████████                     | 327 kB 11.1 MB/s eta 0:00:01\r\u001b[K     |███████████▍                    | 337 kB 11.1 MB/s eta 0:00:01\r\u001b[K     |███████████▊                    | 348 kB 11.1 MB/s eta 0:00:01\r\u001b[K     |████████████                    | 358 kB 11.1 MB/s eta 0:00:01\r\u001b[K     |████████████▍                   | 368 kB 11.1 MB/s eta 0:00:01\r\u001b[K     |████████████▊                   | 378 kB 11.1 MB/s eta 0:00:01\r\u001b[K     |█████████████▏                  | 389 kB 11.1 MB/s eta 0:00:01\r\u001b[K     |█████████████▌                  | 399 kB 11.1 MB/s eta 0:00:01\r\u001b[K     |█████████████▉                  | 409 kB 11.1 MB/s eta 0:00:01\r\u001b[K     |██████████████▏                 | 419 kB 11.1 MB/s eta 0:00:01\r\u001b[K     |██████████████▌                 | 430 kB 11.1 MB/s eta 0:00:01\r\u001b[K     |██████████████▉                 | 440 kB 11.1 MB/s eta 0:00:01\r\u001b[K     |███████████████▏                | 450 kB 11.1 MB/s eta 0:00:01\r\u001b[K     |███████████████▌                | 460 kB 11.1 MB/s eta 0:00:01\r\u001b[K     |███████████████▉                | 471 kB 11.1 MB/s eta 0:00:01\r\u001b[K     |████████████████▎               | 481 kB 11.1 MB/s eta 0:00:01\r\u001b[K     |████████████████▋               | 491 kB 11.1 MB/s eta 0:00:01\r\u001b[K     |█████████████████               | 501 kB 11.1 MB/s eta 0:00:01\r\u001b[K     |█████████████████▎              | 512 kB 11.1 MB/s eta 0:00:01\r\u001b[K     |█████████████████▋              | 522 kB 11.1 MB/s eta 0:00:01\r\u001b[K     |██████████████████              | 532 kB 11.1 MB/s eta 0:00:01\r\u001b[K     |██████████████████▎             | 542 kB 11.1 MB/s eta 0:00:01\r\u001b[K     |██████████████████▋             | 552 kB 11.1 MB/s eta 0:00:01\r\u001b[K     |███████████████████             | 563 kB 11.1 MB/s eta 0:00:01\r\u001b[K     |███████████████████▍            | 573 kB 11.1 MB/s eta 0:00:01\r\u001b[K     |███████████████████▊            | 583 kB 11.1 MB/s eta 0:00:01\r\u001b[K     |████████████████████            | 593 kB 11.1 MB/s eta 0:00:01\r\u001b[K     |████████████████████▍           | 604 kB 11.1 MB/s eta 0:00:01\r\u001b[K     |████████████████████▊           | 614 kB 11.1 MB/s eta 0:00:01\r\u001b[K     |█████████████████████           | 624 kB 11.1 MB/s eta 0:00:01\r\u001b[K     |█████████████████████▍          | 634 kB 11.1 MB/s eta 0:00:01\r\u001b[K     |█████████████████████▊          | 645 kB 11.1 MB/s eta 0:00:01\r\u001b[K     |██████████████████████          | 655 kB 11.1 MB/s eta 0:00:01\r\u001b[K     |██████████████████████▌         | 665 kB 11.1 MB/s eta 0:00:01\r\u001b[K     |██████████████████████▉         | 675 kB 11.1 MB/s eta 0:00:01\r\u001b[K     |███████████████████████▏        | 686 kB 11.1 MB/s eta 0:00:01\r\u001b[K     |███████████████████████▌        | 696 kB 11.1 MB/s eta 0:00:01\r\u001b[K     |███████████████████████▉        | 706 kB 11.1 MB/s eta 0:00:01\r\u001b[K     |████████████████████████▏       | 716 kB 11.1 MB/s eta 0:00:01\r\u001b[K     |████████████████████████▌       | 727 kB 11.1 MB/s eta 0:00:01\r\u001b[K     |████████████████████████▉       | 737 kB 11.1 MB/s eta 0:00:01\r\u001b[K     |█████████████████████████▏      | 747 kB 11.1 MB/s eta 0:00:01\r\u001b[K     |█████████████████████████▌      | 757 kB 11.1 MB/s eta 0:00:01\r\u001b[K     |██████████████████████████      | 768 kB 11.1 MB/s eta 0:00:01\r\u001b[K     |██████████████████████████▎     | 778 kB 11.1 MB/s eta 0:00:01\r\u001b[K     |██████████████████████████▋     | 788 kB 11.1 MB/s eta 0:00:01\r\u001b[K     |███████████████████████████     | 798 kB 11.1 MB/s eta 0:00:01\r\u001b[K     |███████████████████████████▎    | 808 kB 11.1 MB/s eta 0:00:01\r\u001b[K     |███████████████████████████▋    | 819 kB 11.1 MB/s eta 0:00:01\r\u001b[K     |████████████████████████████    | 829 kB 11.1 MB/s eta 0:00:01\r\u001b[K     |████████████████████████████▎   | 839 kB 11.1 MB/s eta 0:00:01\r\u001b[K     |████████████████████████████▋   | 849 kB 11.1 MB/s eta 0:00:01\r\u001b[K     |█████████████████████████████   | 860 kB 11.1 MB/s eta 0:00:01\r\u001b[K     |█████████████████████████████▍  | 870 kB 11.1 MB/s eta 0:00:01\r\u001b[K     |█████████████████████████████▊  | 880 kB 11.1 MB/s eta 0:00:01\r\u001b[K     |██████████████████████████████  | 890 kB 11.1 MB/s eta 0:00:01\r\u001b[K     |██████████████████████████████▍ | 901 kB 11.1 MB/s eta 0:00:01\r\u001b[K     |██████████████████████████████▊ | 911 kB 11.1 MB/s eta 0:00:01\r\u001b[K     |███████████████████████████████ | 921 kB 11.1 MB/s eta 0:00:01\r\u001b[K     |███████████████████████████████▍| 931 kB 11.1 MB/s eta 0:00:01\r\u001b[K     |███████████████████████████████▊| 942 kB 11.1 MB/s eta 0:00:01\r\u001b[K     |████████████████████████████████| 948 kB 11.1 MB/s \n",
            "\u001b[?25hRequirement already satisfied: numpy in /usr/local/lib/python3.7/dist-packages (from glove-python-binary) (1.21.5)\n",
            "Requirement already satisfied: scipy in /usr/local/lib/python3.7/dist-packages (from glove-python-binary) (1.4.1)\n",
            "Installing collected packages: glove-python-binary\n",
            "Successfully installed glove-python-binary-0.2.0\n"
          ]
        }
      ]
    },
    {
      "cell_type": "markdown",
      "source": [
        "# Glove"
      ],
      "metadata": {
        "id": "6QDT17VLMZyl"
      }
    },
    {
      "cell_type": "code",
      "source": [
        "from glove import Corpus, Glove\n",
        "\n",
        "corpus = Corpus()\n",
        "# 말뭉치에서 동시 등장 행렬, 사전 만들기\n",
        "corpus.fit(total_token_ls[:1000], window=5)\n",
        "\n",
        "glove = Glove(no_components=100, learning_rate=0.05)\n",
        "# corpus.matrix - 동시 등장 행렬\n",
        "glove.fit(corpus.matrix, epochs=20, no_threads=4, verbose=True)\n",
        "glove.add_dictionary(corpus.dictionary)"
      ],
      "metadata": {
        "colab": {
          "base_uri": "https://localhost:8080/"
        },
        "id": "ChVY6JADMYD8",
        "outputId": "8d7ca3a2-daeb-4761-b0a3-ca70fb245cdd"
      },
      "execution_count": 10,
      "outputs": [
        {
          "output_type": "stream",
          "name": "stdout",
          "text": [
            "Performing 20 training epochs with 4 threads\n",
            "Epoch 0\n",
            "Epoch 1\n",
            "Epoch 2\n",
            "Epoch 3\n",
            "Epoch 4\n",
            "Epoch 5\n",
            "Epoch 6\n",
            "Epoch 7\n",
            "Epoch 8\n",
            "Epoch 9\n",
            "Epoch 10\n",
            "Epoch 11\n",
            "Epoch 12\n",
            "Epoch 13\n",
            "Epoch 14\n",
            "Epoch 15\n",
            "Epoch 16\n",
            "Epoch 17\n",
            "Epoch 18\n",
            "Epoch 19\n"
          ]
        }
      ]
    },
    {
      "cell_type": "code",
      "source": [
        "glove.most_similar(\"금리\")"
      ],
      "metadata": {
        "colab": {
          "base_uri": "https://localhost:8080/"
        },
        "id": "TdqLhAN4Ne2p",
        "outputId": "4ea10b0b-6e2b-4081-d415-32d62988b7aa"
      },
      "execution_count": 11,
      "outputs": [
        {
          "output_type": "execute_result",
          "data": {
            "text/plain": [
              "[('장단기', 0.9231854335426543),\n",
              " ('동결', 0.8985060270745877),\n",
              " ('부작용', 0.8937079498383667),\n",
              " ('더이상', 0.8881512459282781)]"
            ]
          },
          "metadata": {},
          "execution_count": 11
        }
      ]
    },
    {
      "cell_type": "code",
      "source": [
        "glove.most_similar(\"인플레이션\")"
      ],
      "metadata": {
        "colab": {
          "base_uri": "https://localhost:8080/"
        },
        "id": "c_Rgy5RhOBAY",
        "outputId": "301135a1-3e95-41d2-af77-270159ef0fa7"
      },
      "execution_count": 12,
      "outputs": [
        {
          "output_type": "execute_result",
          "data": {
            "text/plain": [
              "[('억제', 0.8989591789423227),\n",
              " ('제어', 0.8599113525956819),\n",
              " ('강화', 0.826238012588527),\n",
              " ('관측', 0.7949945777957133)]"
            ]
          },
          "metadata": {},
          "execution_count": 12
        }
      ]
    },
    {
      "cell_type": "markdown",
      "source": [
        "# Fast Text"
      ],
      "metadata": {
        "id": "u0j7A4I1OZic"
      }
    },
    {
      "cell_type": "code",
      "source": [
        "from gensim.models import FastText\n",
        "model = FastText(total_token_ls[:1000], size=100, window=4, min_count=2, sg=1, iter=100, min_n=3, max_n=6)"
      ],
      "metadata": {
        "id": "r6WuR1VCOQ5L"
      },
      "execution_count": 7,
      "outputs": []
    },
    {
      "cell_type": "code",
      "source": [
        "model.wv.most_similar(\"금리\")"
      ],
      "metadata": {
        "colab": {
          "base_uri": "https://localhost:8080/"
        },
        "id": "-qPqThqEO5TC",
        "outputId": "e4c52676-d3fb-4f4b-96ca-bfa45fba8390"
      },
      "execution_count": 8,
      "outputs": [
        {
          "output_type": "execute_result",
          "data": {
            "text/plain": [
              "[('맞췄으며', 0.6424842476844788),\n",
              " ('인하', 0.5950344800949097),\n",
              " ('정책수단', 0.5587774515151978),\n",
              " ('접근방법', 0.5508344769477844),\n",
              " ('초읽기', 0.5483018159866333),\n",
              " ('역작용', 0.5480170249938965),\n",
              " ('점쳐진다', 0.5463024377822876),\n",
              " ('인상', 0.5451970100402832),\n",
              " ('좁혀진', 0.537918210029602),\n",
              " ('밝힐', 0.5294908881187439)]"
            ]
          },
          "metadata": {},
          "execution_count": 8
        }
      ]
    },
    {
      "cell_type": "code",
      "source": [
        "model.wv.most_similar(\"인플레이션\")"
      ],
      "metadata": {
        "colab": {
          "base_uri": "https://localhost:8080/"
        },
        "id": "wpSooptuQOv1",
        "outputId": "a9852428-9c06-431a-9670-f545400b6990"
      },
      "execution_count": 9,
      "outputs": [
        {
          "output_type": "execute_result",
          "data": {
            "text/plain": [
              "[('fed', 0.61116623878479),\n",
              " ('제어', 0.5884134769439697),\n",
              " ('억제', 0.5842974185943604),\n",
              " ('대학', 0.5838243961334229),\n",
              " ('접근방법', 0.580815851688385),\n",
              " ('정책위원회', 0.5701059103012085),\n",
              " ('위로', 0.564884603023529),\n",
              " ('완전고용', 0.5541700124740601),\n",
              " ('물가', 0.5503969788551331),\n",
              " ('인상', 0.5501145720481873)]"
            ]
          },
          "metadata": {},
          "execution_count": 9
        }
      ]
    },
    {
      "cell_type": "markdown",
      "source": [
        "# 합성곱(CNN)"
      ],
      "metadata": {
        "id": "fStjOBIv1zcC"
      }
    },
    {
      "cell_type": "code",
      "source": [
        "import numpy as np\n",
        "import tensorflow as tf\n",
        "import matplotlib.pyplot as plt"
      ],
      "metadata": {
        "id": "1U3xLD8aQUXM"
      },
      "execution_count": 1,
      "outputs": []
    },
    {
      "cell_type": "code",
      "source": [
        "image = tf.constant([[[[1], [2], [3]], [[4], [5], [6]], [[7], [8], [9]]]], dtype=np.float32)"
      ],
      "metadata": {
        "id": "UYkiBE9z1vRh"
      },
      "execution_count": 3,
      "outputs": []
    },
    {
      "cell_type": "code",
      "source": [
        "image.shape"
      ],
      "metadata": {
        "colab": {
          "base_uri": "https://localhost:8080/"
        },
        "id": "mkPjhUY62O0O",
        "outputId": "e2ee4732-50c2-4725-cb38-4859ef3f05f4"
      },
      "execution_count": 4,
      "outputs": [
        {
          "output_type": "execute_result",
          "data": {
            "text/plain": [
              "TensorShape([1, 3, 3, 1])"
            ]
          },
          "metadata": {},
          "execution_count": 4
        }
      ]
    },
    {
      "cell_type": "code",
      "source": [
        "plt.imshow(image.numpy().reshape(3,3), cmap='Greys')\n",
        "plt.show()"
      ],
      "metadata": {
        "colab": {
          "base_uri": "https://localhost:8080/",
          "height": 269
        },
        "id": "LXURW_GD2Vcp",
        "outputId": "0884d197-139d-4962-a321-e3049bd45ce5"
      },
      "execution_count": 5,
      "outputs": [
        {
          "output_type": "display_data",
          "data": {
            "image/png": "[encoded data removed]",
            "text/plain": [
              "<Figure size 432x288 with 1 Axes>"
            ]
          },
          "metadata": {
            "needs_background": "light"
          }
        }
      ]
    },
    {
      "cell_type": "code",
      "source": [
        "weight = np.array([[[[1.]], [[1.]]], [[[1.]], [[1.]]]])"
      ],
      "metadata": {
        "id": "7wDzMAJo2dcO"
      },
      "execution_count": 8,
      "outputs": []
    },
    {
      "cell_type": "code",
      "source": [
        "weight.shape"
      ],
      "metadata": {
        "colab": {
          "base_uri": "https://localhost:8080/"
        },
        "id": "0eEf6bRu26S8",
        "outputId": "3bb04113-d5eb-4a27-a62e-4fa2f36e6ca0"
      },
      "execution_count": 9,
      "outputs": [
        {
          "output_type": "execute_result",
          "data": {
            "text/plain": [
              "(2, 2, 1, 1)"
            ]
          },
          "metadata": {},
          "execution_count": 9
        }
      ]
    },
    {
      "cell_type": "code",
      "source": [
        "weight_init = tf.constant_initializer(weight)\n",
        "conv2d = tf.keras.layers.Conv2D(filters=1, kernel_size=2, padding='valid', kernel_initializer=weight_init)(image)\n",
        "conv2d.shape"
      ],
      "metadata": {
        "colab": {
          "base_uri": "https://localhost:8080/"
        },
        "id": "fdlGrlN327Ya",
        "outputId": "db789344-a472-4c28-a79b-8545f11cce23"
      },
      "execution_count": 10,
      "outputs": [
        {
          "output_type": "execute_result",
          "data": {
            "text/plain": [
              "TensorShape([1, 2, 2, 1])"
            ]
          },
          "metadata": {},
          "execution_count": 10
        }
      ]
    },
    {
      "cell_type": "code",
      "source": [
        "plt.imshow(conv2d.numpy().reshape(2,2), cmap='Greys')\n",
        "plt.show()"
      ],
      "metadata": {
        "colab": {
          "base_uri": "https://localhost:8080/",
          "height": 269
        },
        "id": "x8uU704l4osx",
        "outputId": "c5fb576a-7a6e-42bb-8757-669e5465ad9c"
      },
      "execution_count": 11,
      "outputs": [
        {
          "output_type": "display_data",
          "data": {
            "image/png": "[encoded data removed]",
            "text/plain": [
              "<Figure size 432x288 with 1 Axes>"
            ]
          },
          "metadata": {
            "needs_background": "light"
          }
        }
      ]
    },
    {
      "cell_type": "code",
      "source": [
        "weight_init = tf.constant_initializer(weight)\n",
        "conv2d = tf.keras.layers.Conv2D(filters=1, kernel_size=2, padding='same', kernel_initializer=weight_init)(image)\n",
        "conv2d.shape"
      ],
      "metadata": {
        "colab": {
          "base_uri": "https://localhost:8080/"
        },
        "id": "fZl5oI994vgf",
        "outputId": "411fbce7-beda-46bb-b830-8622365f2679"
      },
      "execution_count": 12,
      "outputs": [
        {
          "output_type": "execute_result",
          "data": {
            "text/plain": [
              "TensorShape([1, 3, 3, 1])"
            ]
          },
          "metadata": {},
          "execution_count": 12
        }
      ]
    },
    {
      "cell_type": "code",
      "source": [
        "plt.imshow(conv2d.numpy().reshape(3,3), cmap='Greys')\n",
        "plt.show()"
      ],
      "metadata": {
        "colab": {
          "base_uri": "https://localhost:8080/",
          "height": 269
        },
        "id": "yfM6F4w75QPQ",
        "outputId": "abaa25b8-e6f5-4002-e55b-e1041f4b743f"
      },
      "execution_count": 13,
      "outputs": [
        {
          "output_type": "display_data",
          "data": {
            "image/png": "[encoded data removed]",
            "text/plain": [
              "<Figure size 432x288 with 1 Axes>"
            ]
          },
          "metadata": {
            "needs_background": "light"
          }
        }
      ]
    },
    {
      "cell_type": "code",
      "source": [
        "weight = np.array([[[[1., 10, -1]], [[1., 10, -1]]], [[[1., 10, -1]], [[1., 10, -1]]]])\n",
        "weight.shape"
      ],
      "metadata": {
        "colab": {
          "base_uri": "https://localhost:8080/"
        },
        "id": "6p95AINY69hY",
        "outputId": "d47ab346-9943-4043-c0ae-07f988b90844"
      },
      "execution_count": 14,
      "outputs": [
        {
          "output_type": "execute_result",
          "data": {
            "text/plain": [
              "(2, 2, 1, 3)"
            ]
          },
          "metadata": {},
          "execution_count": 14
        }
      ]
    },
    {
      "cell_type": "code",
      "source": [
        "weight_init = tf.constant_initializer(weight)\n",
        "conv2d = tf.keras.layers.Conv2D(filters=3, kernel_size=2, padding='same', kernel_initializer=weight_init)(image)\n",
        "conv2d.shape"
      ],
      "metadata": {
        "colab": {
          "base_uri": "https://localhost:8080/"
        },
        "id": "Jw78ts2x7aIv",
        "outputId": "f7980b9f-bad6-4e17-a5fd-3e3ede3b5d59"
      },
      "execution_count": 16,
      "outputs": [
        {
          "output_type": "execute_result",
          "data": {
            "text/plain": [
              "TensorShape([1, 3, 3, 3])"
            ]
          },
          "metadata": {},
          "execution_count": 16
        }
      ]
    },
    {
      "cell_type": "code",
      "source": [
        "feature_maps = np.swapaxes(conv2d, 0, 3)\n",
        "print(\"feature_maps shape : \", feature_maps.shape)\n",
        "for i, feature_map in enumerate(feature_maps):\n",
        "    plt.subplot(1, 3, i+1)\n",
        "    plt.imshow(feature_map.reshape(3,3), cmap='Greys')\n",
        "\n",
        "plt.show()"
      ],
      "metadata": {
        "colab": {
          "base_uri": "https://localhost:8080/",
          "height": 163
        },
        "id": "SL9DVE5Q7jlf",
        "outputId": "58a91eb8-e687-4a76-b32a-981b54b6d7ab"
      },
      "execution_count": 17,
      "outputs": [
        {
          "output_type": "stream",
          "name": "stdout",
          "text": [
            "feature_maps shape :  (3, 3, 3, 1)\n"
          ]
        },
        {
          "output_type": "display_data",
          "data": {
            "image/png": "[encoded data removed]",
            "text/plain": [
              "<Figure size 432x288 with 3 Axes>"
            ]
          },
          "metadata": {
            "needs_background": "light"
          }
        }
      ]
    },
    {
      "cell_type": "code",
      "source": [
        "image = tf.constant([[[[4], [3]], [[2], [1]]]], dtype=np.float32)\n",
        "image.shape"
      ],
      "metadata": {
        "colab": {
          "base_uri": "https://localhost:8080/"
        },
        "id": "6Jn64XsU8X_v",
        "outputId": "9f734235-936f-4b8e-bf2d-8360afb1e03c"
      },
      "execution_count": 18,
      "outputs": [
        {
          "output_type": "execute_result",
          "data": {
            "text/plain": [
              "TensorShape([1, 2, 2, 1])"
            ]
          },
          "metadata": {},
          "execution_count": 18
        }
      ]
    },
    {
      "cell_type": "code",
      "source": [
        "plt.imshow(image.numpy().reshape(2,2), cmap='Greys')\n",
        "plt.show()"
      ],
      "metadata": {
        "colab": {
          "base_uri": "https://localhost:8080/",
          "height": 269
        },
        "id": "QG4f662e9KsI",
        "outputId": "663715e5-8bfd-4ef8-b8d1-9d2bbbc9df86"
      },
      "execution_count": 19,
      "outputs": [
        {
          "output_type": "display_data",
          "data": {
            "image/png": "[encoded data removed]",
            "text/plain": [
              "<Figure size 432x288 with 1 Axes>"
            ]
          },
          "metadata": {
            "needs_background": "light"
          }
        }
      ]
    },
    {
      "cell_type": "code",
      "source": [
        "pool = tf.keras.layers.MaxPool2D(pool_size=(2, 2), strides=1, padding='valid')(image)\n",
        "print(pool.shape)\n",
        "print(pool.numpy())"
      ],
      "metadata": {
        "colab": {
          "base_uri": "https://localhost:8080/"
        },
        "id": "pIIxFxE19R-F",
        "outputId": "010c8de2-cb78-4ac7-cd19-cf42da3b342d"
      },
      "execution_count": 20,
      "outputs": [
        {
          "output_type": "stream",
          "name": "stdout",
          "text": [
            "(1, 1, 1, 1)\n",
            "[[[[4.]]]]\n"
          ]
        }
      ]
    },
    {
      "cell_type": "code",
      "source": [
        "from tensorflow.keras.datasets import mnist\n",
        "\n",
        "(train_images, train_labels), (test_images, test_labels) = mnist.load_data()"
      ],
      "metadata": {
        "colab": {
          "base_uri": "https://localhost:8080/"
        },
        "id": "Hf6BvdBf-Egs",
        "outputId": "330d7010-a204-46fd-f099-fbeb68bf0a03"
      },
      "execution_count": 21,
      "outputs": [
        {
          "output_type": "stream",
          "name": "stdout",
          "text": [
            "Downloading data from https://storage.googleapis.com/tensorflow/tf-keras-datasets/mnist.npz\n",
            "11493376/11490434 [==============================] - 0s 0us/step\n",
            "11501568/11490434 [==============================] - 0s 0us/step\n"
          ]
        }
      ]
    },
    {
      "cell_type": "code",
      "source": [
        "train_images.shape"
      ],
      "metadata": {
        "colab": {
          "base_uri": "https://localhost:8080/"
        },
        "id": "saOsvL6HDH4x",
        "outputId": "c248d407-d9f0-44d4-8232-54b3b9a10861"
      },
      "execution_count": 22,
      "outputs": [
        {
          "output_type": "execute_result",
          "data": {
            "text/plain": [
              "(60000, 28, 28)"
            ]
          },
          "metadata": {},
          "execution_count": 22
        }
      ]
    },
    {
      "cell_type": "code",
      "source": [
        "train_images = train_images/255\n",
        "test_images = test_images/255"
      ],
      "metadata": {
        "id": "PdDlGi3cDO1u"
      },
      "execution_count": 23,
      "outputs": []
    },
    {
      "cell_type": "code",
      "source": [
        "img = train_images[5]\n",
        "plt.imshow(img, cmap='gray')"
      ],
      "metadata": {
        "colab": {
          "base_uri": "https://localhost:8080/",
          "height": 282
        },
        "id": "ExRKSbLqDegD",
        "outputId": "27ed82a4-62ae-46bf-d686-4574c4a529f3"
      },
      "execution_count": 24,
      "outputs": [
        {
          "output_type": "execute_result",
          "data": {
            "text/plain": [
              "<matplotlib.image.AxesImage at 0x7fb00e683810>"
            ]
          },
          "metadata": {},
          "execution_count": 24
        },
        {
          "output_type": "display_data",
          "data": {
            "image/png": "[encoded data removed]",
            "text/plain": [
              "<Figure size 432x288 with 1 Axes>"
            ]
          },
          "metadata": {
            "needs_background": "light"
          }
        }
      ]
    },
    {
      "cell_type": "code",
      "source": [
        "img = img.reshape(-1, 28, 28, 1)\n",
        "img = tf.convert_to_tensor(img)"
      ],
      "metadata": {
        "id": "JfoYgkn1DuRb"
      },
      "execution_count": 25,
      "outputs": []
    },
    {
      "cell_type": "code",
      "source": [
        "weight_init = tf.keras.initializers.RandomNormal(stddev=0.01)\n",
        "conv2d = tf.keras.layers.Conv2D(filters=5, kernel_size=(3, 3), strides=(2,2), padding='same', kernel_initializer=weight_init)(img)"
      ],
      "metadata": {
        "id": "7BS7gqGUESK-"
      },
      "execution_count": 26,
      "outputs": []
    },
    {
      "cell_type": "code",
      "source": [
        "conv2d.shape"
      ],
      "metadata": {
        "colab": {
          "base_uri": "https://localhost:8080/"
        },
        "id": "37FfWFjPE1NC",
        "outputId": "3d58a392-0090-4953-f38d-c65258abb58e"
      },
      "execution_count": 27,
      "outputs": [
        {
          "output_type": "execute_result",
          "data": {
            "text/plain": [
              "TensorShape([1, 14, 14, 5])"
            ]
          },
          "metadata": {},
          "execution_count": 27
        }
      ]
    },
    {
      "cell_type": "code",
      "source": [
        "def display(conv2d, n, w, h):\n",
        "    feature_maps = np.swapaxes(conv2d, 0, 3)\n",
        "    for i, feature_map in enumerate(feature_maps):\n",
        "        plt.subplot(1, n, i + 1)\n",
        "        plt.imshow(feature_map.reshape(w, h), cmap='Greys')\n",
        "    plt.show()"
      ],
      "metadata": {
        "id": "2TRQPk8WE6DU"
      },
      "execution_count": 29,
      "outputs": []
    },
    {
      "cell_type": "code",
      "source": [
        "display(conv2d, 5, 14, 14)"
      ],
      "metadata": {
        "colab": {
          "base_uri": "https://localhost:8080/",
          "height": 108
        },
        "id": "21vk99vfGf7j",
        "outputId": "39a6be09-c101-4cea-9100-7ecac0225b86"
      },
      "execution_count": 30,
      "outputs": [
        {
          "output_type": "display_data",
          "data": {
            "image/png": "[encoded data removed]",
            "text/plain": [
              "<Figure size 432x288 with 5 Axes>"
            ]
          },
          "metadata": {
            "needs_background": "light"
          }
        }
      ]
    },
    {
      "cell_type": "code",
      "source": [
        "pool = tf.keras.layers.MaxPool2D(pool_size=(2, 2), strides=(2, 2), padding='same')(conv2d)\n",
        "pool.shape"
      ],
      "metadata": {
        "colab": {
          "base_uri": "https://localhost:8080/"
        },
        "id": "GsU5qvI1GonE",
        "outputId": "8a02ad66-62a8-4fcf-d2cf-33d34c58c45a"
      },
      "execution_count": 31,
      "outputs": [
        {
          "output_type": "execute_result",
          "data": {
            "text/plain": [
              "TensorShape([1, 7, 7, 5])"
            ]
          },
          "metadata": {},
          "execution_count": 31
        }
      ]
    },
    {
      "cell_type": "code",
      "source": [
        "display(pool, 5, 7, 7)"
      ],
      "metadata": {
        "colab": {
          "base_uri": "https://localhost:8080/",
          "height": 106
        },
        "id": "0IN-dnwZHBcR",
        "outputId": "9d9957aa-d6e3-40ff-d6d2-09599d06e2fa"
      },
      "execution_count": 32,
      "outputs": [
        {
          "output_type": "display_data",
          "data": {
            "image/png": "[encoded data removed]",
            "text/plain": [
              "<Figure size 432x288 with 5 Axes>"
            ]
          },
          "metadata": {
            "needs_background": "light"
          }
        }
      ]
    },
    {
      "cell_type": "code",
      "source": [
        "from tensorflow.keras.datasets import mnist\n",
        "from sklearn.model_selection import train_test_split\n",
        "\n",
        "(train_images, train_labels), (test_images, test_labels) = mnist.load_data()\n",
        "train_images = train_images.reshape((-1, 28, 28, 1))\n",
        "test_images = test_images.reshape((-1, 28, 28, 1))\n",
        "\n",
        "train_images = train_images/255.\n",
        "test_images = test_images/255.\n",
        "\n",
        "valid_images, test_images, valid_labels, test_labels = train_test_split(test_images, test_labels, test_size=0.15, shuffle=True)"
      ],
      "metadata": {
        "colab": {
          "base_uri": "https://localhost:8080/"
        },
        "id": "QV5u5u1LHnTE",
        "outputId": "22c7b6bc-b989-4e7d-c124-09b69516414d"
      },
      "execution_count": 1,
      "outputs": [
        {
          "output_type": "stream",
          "name": "stdout",
          "text": [
            "Downloading data from https://storage.googleapis.com/tensorflow/tf-keras-datasets/mnist.npz\n",
            "11493376/11490434 [==============================] - 0s 0us/step\n",
            "11501568/11490434 [==============================] - 0s 0us/step\n"
          ]
        }
      ]
    },
    {
      "cell_type": "code",
      "source": [
        "print(\"train_images.shape : \", train_images.shape)\n",
        "print(\"valid_images.shape : \", valid_images.shape)\n",
        "print(\"test_images.shape : \", test_images.shape)"
      ],
      "metadata": {
        "colab": {
          "base_uri": "https://localhost:8080/"
        },
        "id": "jLExanHtRZ2A",
        "outputId": "e0313f90-f344-4e65-cfea-0651d0f4f4bd"
      },
      "execution_count": 34,
      "outputs": [
        {
          "output_type": "stream",
          "name": "stdout",
          "text": [
            "train_images.shape :  (60000, 28, 28, 1)\n",
            "valid_images.shape :  (8500, 28, 28, 1)\n",
            "test_images.shape :  (1500, 28, 28, 1)\n"
          ]
        }
      ]
    },
    {
      "cell_type": "code",
      "source": [
        "from tensorflow.keras.models import Sequential\n",
        "from tensorflow.keras.layers import Conv2D, MaxPool2D, Flatten, Dense\n",
        "\n",
        "model = Sequential()\n",
        "model.add(Conv2D(32, (3, 3), activation='relu', input_shape=(28, 28, 1))) # 320 = 32(필터의 개수) * 9(3, 3) + 32(bias 개수)\n",
        "model.add(MaxPool2D((2, 2)))\n",
        "model.add(Conv2D(64, (3, 3), activation='relu')) # 18496 = 32(입력의 개수) * 64(필터의 개수) * 3 * 3 + 64(bias)\n",
        "model.add(MaxPool2D((2, 2)))\n",
        "model.add(Conv2D(64, (3, 3), activation='relu')) # 36928 = 64 * 64 * 9 + 64\n",
        "\n",
        "model.add(Flatten())\n",
        "model.add(Dense(64, activation='relu'))\n",
        "model.add(Dense(10, activation='softmax'))\n",
        "\n",
        "model.summary()"
      ],
      "metadata": {
        "colab": {
          "base_uri": "https://localhost:8080/"
        },
        "id": "jNS0R7w6Rr97",
        "outputId": "e09814c7-2ba8-4894-d166-d2a47b299b93"
      },
      "execution_count": 2,
      "outputs": [
        {
          "output_type": "stream",
          "name": "stdout",
          "text": [
            "Model: \"sequential\"\n",
            "_________________________________________________________________\n",
            " Layer (type)                Output Shape              Param #   \n",
            "=================================================================\n",
            " conv2d (Conv2D)             (None, 26, 26, 32)        320       \n",
            "                                                                 \n",
            " max_pooling2d (MaxPooling2D  (None, 13, 13, 32)       0         \n",
            " )                                                               \n",
            "                                                                 \n",
            " conv2d_1 (Conv2D)           (None, 11, 11, 64)        18496     \n",
            "                                                                 \n",
            " max_pooling2d_1 (MaxPooling  (None, 5, 5, 64)         0         \n",
            " 2D)                                                             \n",
            "                                                                 \n",
            " conv2d_2 (Conv2D)           (None, 3, 3, 64)          36928     \n",
            "                                                                 \n",
            " flatten (Flatten)           (None, 576)               0         \n",
            "                                                                 \n",
            " dense (Dense)               (None, 64)                36928     \n",
            "                                                                 \n",
            " dense_1 (Dense)             (None, 10)                650       \n",
            "                                                                 \n",
            "=================================================================\n",
            "Total params: 93,322\n",
            "Trainable params: 93,322\n",
            "Non-trainable params: 0\n",
            "_________________________________________________________________\n"
          ]
        }
      ]
    },
    {
      "cell_type": "code",
      "source": [
        "import tensorflow as tf\n",
        "from tensorflow.keras.models import Model\n",
        "from tensorflow.keras.layers import Input\n",
        "\n",
        "inputs = Input(shape=(28, 28, 1))\n",
        "conv1 = Conv2D(32, (3, 3), activation=tf.nn.relu)(inputs)\n",
        "pool1 = MaxPool2D((2, 2))(conv1)\n",
        "\n",
        "conv2 = Conv2D(64, (3, 3), activation=tf.nn.relu)(pool1)\n",
        "pool2 = MaxPool2D((2, 2))(conv2)\n",
        "\n",
        "conv3 = Conv2D(64, (3, 3), activation=tf.nn.relu)(pool2)\n",
        "flat = Flatten()(conv3)\n",
        "\n",
        "dense4 = Dense(64, activation='relu')(flat)\n",
        "outputs = Dense(10, activation='softmax')(dense4)\n",
        "\n",
        "model = Model(inputs=inputs, outputs=outputs)\n",
        "model.summary()"
      ],
      "metadata": {
        "colab": {
          "base_uri": "https://localhost:8080/"
        },
        "id": "as1eryuqS7Vv",
        "outputId": "c84ba11a-d17e-49cf-e948-d1458e5428dd"
      },
      "execution_count": 38,
      "outputs": [
        {
          "output_type": "stream",
          "name": "stdout",
          "text": [
            "Model: \"model_1\"\n",
            "_________________________________________________________________\n",
            " Layer (type)                Output Shape              Param #   \n",
            "=================================================================\n",
            " input_3 (InputLayer)        [(None, 28, 28, 1)]       0         \n",
            "                                                                 \n",
            " conv2d_14 (Conv2D)          (None, 26, 26, 32)        320       \n",
            "                                                                 \n",
            " max_pooling2d_8 (MaxPooling  (None, 13, 13, 32)       0         \n",
            " 2D)                                                             \n",
            "                                                                 \n",
            " conv2d_15 (Conv2D)          (None, 11, 11, 64)        18496     \n",
            "                                                                 \n",
            " max_pooling2d_9 (MaxPooling  (None, 5, 5, 64)         0         \n",
            " 2D)                                                             \n",
            "                                                                 \n",
            " conv2d_16 (Conv2D)          (None, 3, 3, 64)          36928     \n",
            "                                                                 \n",
            " flatten_3 (Flatten)         (None, 576)               0         \n",
            "                                                                 \n",
            " dense_4 (Dense)             (None, 64)                36928     \n",
            "                                                                 \n",
            " dense_5 (Dense)             (None, 10)                650       \n",
            "                                                                 \n",
            "=================================================================\n",
            "Total params: 93,322\n",
            "Trainable params: 93,322\n",
            "Non-trainable params: 0\n",
            "_________________________________________________________________\n"
          ]
        }
      ]
    },
    {
      "cell_type": "code",
      "source": [
        "model.compile(optimizer='adam', loss='sparse_categorical_crossentropy', metrics=['accuracy'])\n",
        "hist = model.fit(train_images, train_labels,\n",
        "                 validation_data=(valid_images, valid_labels),\n",
        "                 epochs=100, batch_size=200)"
      ],
      "metadata": {
        "colab": {
          "base_uri": "https://localhost:8080/"
        },
        "id": "uUZMIKxsWFtR",
        "outputId": "652ab59b-cc63-45c8-c753-653090a08a6c"
      },
      "execution_count": 3,
      "outputs": [
        {
          "output_type": "stream",
          "name": "stdout",
          "text": [
            "Epoch 1/100\n",
            "300/300 [==============================] - 15s 17ms/step - loss: 0.3257 - accuracy: 0.9029 - val_loss: 0.0880 - val_accuracy: 0.9721\n",
            "Epoch 2/100\n",
            "300/300 [==============================] - 4s 14ms/step - loss: 0.0725 - accuracy: 0.9778 - val_loss: 0.0484 - val_accuracy: 0.9846\n",
            "Epoch 3/100\n",
            "300/300 [==============================] - 4s 14ms/step - loss: 0.0503 - accuracy: 0.9845 - val_loss: 0.0349 - val_accuracy: 0.9878\n",
            "Epoch 4/100\n",
            "300/300 [==============================] - 4s 14ms/step - loss: 0.0376 - accuracy: 0.9881 - val_loss: 0.0338 - val_accuracy: 0.9893\n",
            "Epoch 5/100\n",
            "300/300 [==============================] - 4s 14ms/step - loss: 0.0317 - accuracy: 0.9899 - val_loss: 0.0329 - val_accuracy: 0.9894\n",
            "Epoch 6/100\n",
            "300/300 [==============================] - 4s 14ms/step - loss: 0.0258 - accuracy: 0.9918 - val_loss: 0.0278 - val_accuracy: 0.9905\n",
            "Epoch 7/100\n",
            "300/300 [==============================] - 4s 14ms/step - loss: 0.0218 - accuracy: 0.9933 - val_loss: 0.0272 - val_accuracy: 0.9898\n",
            "Epoch 8/100\n",
            "300/300 [==============================] - 4s 14ms/step - loss: 0.0200 - accuracy: 0.9937 - val_loss: 0.0262 - val_accuracy: 0.9912\n",
            "Epoch 9/100\n",
            "300/300 [==============================] - 4s 14ms/step - loss: 0.0162 - accuracy: 0.9949 - val_loss: 0.0266 - val_accuracy: 0.9905\n",
            "Epoch 10/100\n",
            "300/300 [==============================] - 4s 14ms/step - loss: 0.0152 - accuracy: 0.9952 - val_loss: 0.0252 - val_accuracy: 0.9916\n",
            "Epoch 11/100\n",
            "300/300 [==============================] - 4s 14ms/step - loss: 0.0124 - accuracy: 0.9961 - val_loss: 0.0298 - val_accuracy: 0.9899\n",
            "Epoch 12/100\n",
            "300/300 [==============================] - 4s 14ms/step - loss: 0.0118 - accuracy: 0.9961 - val_loss: 0.0296 - val_accuracy: 0.9904\n",
            "Epoch 13/100\n",
            "300/300 [==============================] - 4s 14ms/step - loss: 0.0106 - accuracy: 0.9963 - val_loss: 0.0267 - val_accuracy: 0.9925\n",
            "Epoch 14/100\n",
            "300/300 [==============================] - 4s 14ms/step - loss: 0.0094 - accuracy: 0.9971 - val_loss: 0.0296 - val_accuracy: 0.9918\n",
            "Epoch 15/100\n",
            "300/300 [==============================] - 6s 19ms/step - loss: 0.0077 - accuracy: 0.9974 - val_loss: 0.0298 - val_accuracy: 0.9914\n",
            "Epoch 16/100\n",
            "300/300 [==============================] - 4s 14ms/step - loss: 0.0073 - accuracy: 0.9976 - val_loss: 0.0306 - val_accuracy: 0.9918\n",
            "Epoch 17/100\n",
            "300/300 [==============================] - 4s 14ms/step - loss: 0.0067 - accuracy: 0.9974 - val_loss: 0.0284 - val_accuracy: 0.9928\n",
            "Epoch 18/100\n",
            "300/300 [==============================] - 4s 14ms/step - loss: 0.0053 - accuracy: 0.9983 - val_loss: 0.0314 - val_accuracy: 0.9901\n",
            "Epoch 19/100\n",
            "300/300 [==============================] - 4s 14ms/step - loss: 0.0061 - accuracy: 0.9978 - val_loss: 0.0282 - val_accuracy: 0.9916\n",
            "Epoch 20/100\n",
            "300/300 [==============================] - 4s 14ms/step - loss: 0.0044 - accuracy: 0.9985 - val_loss: 0.0344 - val_accuracy: 0.9912\n",
            "Epoch 21/100\n",
            "300/300 [==============================] - 4s 14ms/step - loss: 0.0066 - accuracy: 0.9977 - val_loss: 0.0376 - val_accuracy: 0.9919\n",
            "Epoch 22/100\n",
            "300/300 [==============================] - 4s 14ms/step - loss: 0.0069 - accuracy: 0.9977 - val_loss: 0.0430 - val_accuracy: 0.9891\n",
            "Epoch 23/100\n",
            "300/300 [==============================] - 4s 14ms/step - loss: 0.0044 - accuracy: 0.9985 - val_loss: 0.0319 - val_accuracy: 0.9928\n",
            "Epoch 24/100\n",
            "300/300 [==============================] - 4s 14ms/step - loss: 0.0040 - accuracy: 0.9986 - val_loss: 0.0298 - val_accuracy: 0.9922\n",
            "Epoch 25/100\n",
            "300/300 [==============================] - 4s 14ms/step - loss: 0.0032 - accuracy: 0.9991 - val_loss: 0.0342 - val_accuracy: 0.9915\n",
            "Epoch 26/100\n",
            "300/300 [==============================] - 4s 14ms/step - loss: 0.0032 - accuracy: 0.9990 - val_loss: 0.0415 - val_accuracy: 0.9905\n",
            "Epoch 27/100\n",
            "300/300 [==============================] - 4s 14ms/step - loss: 0.0045 - accuracy: 0.9985 - val_loss: 0.0335 - val_accuracy: 0.9929\n",
            "Epoch 28/100\n",
            "300/300 [==============================] - 4s 14ms/step - loss: 0.0040 - accuracy: 0.9985 - val_loss: 0.0328 - val_accuracy: 0.9928\n",
            "Epoch 29/100\n",
            "300/300 [==============================] - 4s 14ms/step - loss: 0.0020 - accuracy: 0.9992 - val_loss: 0.0403 - val_accuracy: 0.9918\n",
            "Epoch 30/100\n",
            "300/300 [==============================] - 4s 14ms/step - loss: 0.0058 - accuracy: 0.9980 - val_loss: 0.0355 - val_accuracy: 0.9927\n",
            "Epoch 31/100\n",
            "300/300 [==============================] - 4s 14ms/step - loss: 0.0029 - accuracy: 0.9990 - val_loss: 0.0470 - val_accuracy: 0.9912\n",
            "Epoch 32/100\n",
            "300/300 [==============================] - 4s 14ms/step - loss: 0.0025 - accuracy: 0.9992 - val_loss: 0.0365 - val_accuracy: 0.9924\n",
            "Epoch 33/100\n",
            "300/300 [==============================] - 4s 14ms/step - loss: 0.0028 - accuracy: 0.9992 - val_loss: 0.0375 - val_accuracy: 0.9928\n",
            "Epoch 34/100\n",
            "300/300 [==============================] - 4s 14ms/step - loss: 0.0044 - accuracy: 0.9986 - val_loss: 0.0357 - val_accuracy: 0.9918\n",
            "Epoch 35/100\n",
            "300/300 [==============================] - 4s 14ms/step - loss: 0.0019 - accuracy: 0.9994 - val_loss: 0.0403 - val_accuracy: 0.9916\n",
            "Epoch 36/100\n",
            "300/300 [==============================] - 4s 14ms/step - loss: 0.0017 - accuracy: 0.9995 - val_loss: 0.0391 - val_accuracy: 0.9933\n",
            "Epoch 37/100\n",
            "300/300 [==============================] - 4s 14ms/step - loss: 1.2421e-04 - accuracy: 1.0000 - val_loss: 0.0372 - val_accuracy: 0.9935\n",
            "Epoch 38/100\n",
            "300/300 [==============================] - 4s 14ms/step - loss: 3.1670e-05 - accuracy: 1.0000 - val_loss: 0.0380 - val_accuracy: 0.9936\n",
            "Epoch 39/100\n",
            "300/300 [==============================] - 4s 14ms/step - loss: 2.0147e-05 - accuracy: 1.0000 - val_loss: 0.0385 - val_accuracy: 0.9938\n",
            "Epoch 40/100\n",
            "300/300 [==============================] - 4s 14ms/step - loss: 1.4384e-05 - accuracy: 1.0000 - val_loss: 0.0390 - val_accuracy: 0.9938\n",
            "Epoch 41/100\n",
            "300/300 [==============================] - 4s 14ms/step - loss: 1.1059e-05 - accuracy: 1.0000 - val_loss: 0.0396 - val_accuracy: 0.9939\n",
            "Epoch 42/100\n",
            "300/300 [==============================] - 4s 14ms/step - loss: 9.5259e-06 - accuracy: 1.0000 - val_loss: 0.0400 - val_accuracy: 0.9936\n",
            "Epoch 43/100\n",
            "300/300 [==============================] - 4s 14ms/step - loss: 7.6889e-06 - accuracy: 1.0000 - val_loss: 0.0406 - val_accuracy: 0.9938\n",
            "Epoch 44/100\n",
            "300/300 [==============================] - 4s 14ms/step - loss: 6.4569e-06 - accuracy: 1.0000 - val_loss: 0.0410 - val_accuracy: 0.9938\n",
            "Epoch 45/100\n",
            "300/300 [==============================] - 4s 14ms/step - loss: 5.2565e-06 - accuracy: 1.0000 - val_loss: 0.0414 - val_accuracy: 0.9938\n",
            "Epoch 46/100\n",
            "300/300 [==============================] - 4s 14ms/step - loss: 4.3511e-06 - accuracy: 1.0000 - val_loss: 0.0419 - val_accuracy: 0.9938\n",
            "Epoch 47/100\n",
            "300/300 [==============================] - 4s 14ms/step - loss: 3.7086e-06 - accuracy: 1.0000 - val_loss: 0.0423 - val_accuracy: 0.9938\n",
            "Epoch 48/100\n",
            "300/300 [==============================] - 4s 14ms/step - loss: 3.1519e-06 - accuracy: 1.0000 - val_loss: 0.0427 - val_accuracy: 0.9938\n",
            "Epoch 49/100\n",
            "300/300 [==============================] - 4s 14ms/step - loss: 2.6723e-06 - accuracy: 1.0000 - val_loss: 0.0431 - val_accuracy: 0.9938\n",
            "Epoch 50/100\n",
            "300/300 [==============================] - 4s 14ms/step - loss: 2.2749e-06 - accuracy: 1.0000 - val_loss: 0.0438 - val_accuracy: 0.9935\n",
            "Epoch 51/100\n",
            "300/300 [==============================] - 4s 14ms/step - loss: 1.9825e-06 - accuracy: 1.0000 - val_loss: 0.0440 - val_accuracy: 0.9936\n",
            "Epoch 52/100\n",
            "300/300 [==============================] - 4s 14ms/step - loss: 1.6313e-06 - accuracy: 1.0000 - val_loss: 0.0445 - val_accuracy: 0.9935\n",
            "Epoch 53/100\n",
            "300/300 [==============================] - 4s 14ms/step - loss: 1.4227e-06 - accuracy: 1.0000 - val_loss: 0.0450 - val_accuracy: 0.9936\n",
            "Epoch 54/100\n",
            "300/300 [==============================] - 4s 14ms/step - loss: 1.2268e-06 - accuracy: 1.0000 - val_loss: 0.0454 - val_accuracy: 0.9936\n",
            "Epoch 55/100\n",
            "300/300 [==============================] - 4s 14ms/step - loss: 1.0122e-06 - accuracy: 1.0000 - val_loss: 0.0461 - val_accuracy: 0.9936\n",
            "Epoch 56/100\n",
            "300/300 [==============================] - 4s 14ms/step - loss: 9.7287e-07 - accuracy: 1.0000 - val_loss: 0.0464 - val_accuracy: 0.9935\n",
            "Epoch 57/100\n",
            "300/300 [==============================] - 6s 19ms/step - loss: 7.4925e-07 - accuracy: 1.0000 - val_loss: 0.0470 - val_accuracy: 0.9935\n",
            "Epoch 58/100\n",
            "300/300 [==============================] - 6s 21ms/step - loss: 6.2741e-07 - accuracy: 1.0000 - val_loss: 0.0474 - val_accuracy: 0.9936\n",
            "Epoch 59/100\n",
            "300/300 [==============================] - 5s 18ms/step - loss: 5.3672e-07 - accuracy: 1.0000 - val_loss: 0.0479 - val_accuracy: 0.9935\n",
            "Epoch 60/100\n",
            "300/300 [==============================] - 5s 17ms/step - loss: 4.8367e-07 - accuracy: 1.0000 - val_loss: 0.0482 - val_accuracy: 0.9935\n",
            "Epoch 61/100\n",
            "300/300 [==============================] - 8s 27ms/step - loss: 3.9181e-07 - accuracy: 1.0000 - val_loss: 0.0488 - val_accuracy: 0.9936\n",
            "Epoch 62/100\n",
            "300/300 [==============================] - 6s 21ms/step - loss: 3.4763e-07 - accuracy: 1.0000 - val_loss: 0.0493 - val_accuracy: 0.9936\n",
            "Epoch 63/100\n",
            "300/300 [==============================] - 6s 21ms/step - loss: 2.8775e-07 - accuracy: 1.0000 - val_loss: 0.0500 - val_accuracy: 0.9936\n",
            "Epoch 64/100\n",
            "300/300 [==============================] - 5s 18ms/step - loss: 2.4626e-07 - accuracy: 1.0000 - val_loss: 0.0503 - val_accuracy: 0.9936\n",
            "Epoch 65/100\n",
            "300/300 [==============================] - 6s 20ms/step - loss: 2.1517e-07 - accuracy: 1.0000 - val_loss: 0.0509 - val_accuracy: 0.9936\n",
            "Epoch 66/100\n",
            "300/300 [==============================] - 5s 18ms/step - loss: 1.8915e-07 - accuracy: 1.0000 - val_loss: 0.0512 - val_accuracy: 0.9935\n",
            "Epoch 67/100\n",
            "300/300 [==============================] - 6s 21ms/step - loss: 1.6732e-07 - accuracy: 1.0000 - val_loss: 0.0512 - val_accuracy: 0.9939\n",
            "Epoch 68/100\n",
            "300/300 [==============================] - 8s 25ms/step - loss: 0.0148 - accuracy: 0.9961 - val_loss: 0.0330 - val_accuracy: 0.9918\n",
            "Epoch 69/100\n",
            "300/300 [==============================] - 8s 27ms/step - loss: 0.0043 - accuracy: 0.9986 - val_loss: 0.0394 - val_accuracy: 0.9911\n",
            "Epoch 70/100\n",
            "300/300 [==============================] - 7s 24ms/step - loss: 0.0037 - accuracy: 0.9987 - val_loss: 0.0351 - val_accuracy: 0.9932\n",
            "Epoch 71/100\n",
            "300/300 [==============================] - 8s 25ms/step - loss: 0.0012 - accuracy: 0.9996 - val_loss: 0.0353 - val_accuracy: 0.9928\n",
            "Epoch 72/100\n",
            "300/300 [==============================] - 7s 22ms/step - loss: 0.0013 - accuracy: 0.9996 - val_loss: 0.0370 - val_accuracy: 0.9936\n",
            "Epoch 73/100\n",
            "300/300 [==============================] - 6s 21ms/step - loss: 7.6388e-04 - accuracy: 0.9998 - val_loss: 0.0537 - val_accuracy: 0.9904\n",
            "Epoch 74/100\n",
            "300/300 [==============================] - 6s 21ms/step - loss: 0.0052 - accuracy: 0.9984 - val_loss: 0.0418 - val_accuracy: 0.9918\n",
            "Epoch 75/100\n",
            "300/300 [==============================] - 6s 20ms/step - loss: 0.0022 - accuracy: 0.9992 - val_loss: 0.0419 - val_accuracy: 0.9918\n",
            "Epoch 76/100\n",
            "300/300 [==============================] - 6s 21ms/step - loss: 0.0015 - accuracy: 0.9995 - val_loss: 0.0467 - val_accuracy: 0.9926\n",
            "Epoch 77/100\n",
            "300/300 [==============================] - 6s 21ms/step - loss: 0.0022 - accuracy: 0.9993 - val_loss: 0.0419 - val_accuracy: 0.9919\n",
            "Epoch 78/100\n",
            "300/300 [==============================] - 6s 20ms/step - loss: 1.7316e-04 - accuracy: 1.0000 - val_loss: 0.0404 - val_accuracy: 0.9934\n",
            "Epoch 79/100\n",
            "300/300 [==============================] - 6s 20ms/step - loss: 2.3094e-04 - accuracy: 1.0000 - val_loss: 0.0374 - val_accuracy: 0.9938\n",
            "Epoch 80/100\n",
            "300/300 [==============================] - 6s 21ms/step - loss: 1.5667e-05 - accuracy: 1.0000 - val_loss: 0.0382 - val_accuracy: 0.9938\n",
            "Epoch 81/100\n",
            "300/300 [==============================] - 6s 21ms/step - loss: 1.1239e-05 - accuracy: 1.0000 - val_loss: 0.0388 - val_accuracy: 0.9938\n",
            "Epoch 82/100\n",
            "300/300 [==============================] - 7s 22ms/step - loss: 8.7550e-06 - accuracy: 1.0000 - val_loss: 0.0393 - val_accuracy: 0.9936\n",
            "Epoch 83/100\n",
            "300/300 [==============================] - 5s 16ms/step - loss: 7.0772e-06 - accuracy: 1.0000 - val_loss: 0.0398 - val_accuracy: 0.9935\n",
            "Epoch 84/100\n",
            "300/300 [==============================] - 5s 18ms/step - loss: 5.8189e-06 - accuracy: 1.0000 - val_loss: 0.0403 - val_accuracy: 0.9935\n",
            "Epoch 85/100\n",
            "300/300 [==============================] - 5s 17ms/step - loss: 4.8100e-06 - accuracy: 1.0000 - val_loss: 0.0408 - val_accuracy: 0.9936\n",
            "Epoch 86/100\n",
            "300/300 [==============================] - 5s 17ms/step - loss: 3.9847e-06 - accuracy: 1.0000 - val_loss: 0.0414 - val_accuracy: 0.9936\n",
            "Epoch 87/100\n",
            "300/300 [==============================] - 5s 17ms/step - loss: 3.3068e-06 - accuracy: 1.0000 - val_loss: 0.0421 - val_accuracy: 0.9936\n",
            "Epoch 88/100\n",
            "300/300 [==============================] - 4s 14ms/step - loss: 2.7414e-06 - accuracy: 1.0000 - val_loss: 0.0429 - val_accuracy: 0.9936\n",
            "Epoch 89/100\n",
            "300/300 [==============================] - 4s 14ms/step - loss: 2.2332e-06 - accuracy: 1.0000 - val_loss: 0.0444 - val_accuracy: 0.9938\n",
            "Epoch 90/100\n",
            "300/300 [==============================] - 4s 15ms/step - loss: 1.7181e-06 - accuracy: 1.0000 - val_loss: 0.0452 - val_accuracy: 0.9939\n",
            "Epoch 91/100\n",
            "300/300 [==============================] - 4s 15ms/step - loss: 1.3479e-06 - accuracy: 1.0000 - val_loss: 0.0476 - val_accuracy: 0.9940\n",
            "Epoch 92/100\n",
            "300/300 [==============================] - 4s 14ms/step - loss: 1.0629e-06 - accuracy: 1.0000 - val_loss: 0.0480 - val_accuracy: 0.9940\n",
            "Epoch 93/100\n",
            "300/300 [==============================] - 5s 17ms/step - loss: 8.6636e-07 - accuracy: 1.0000 - val_loss: 0.0488 - val_accuracy: 0.9940\n",
            "Epoch 94/100\n",
            "300/300 [==============================] - 7s 23ms/step - loss: 7.3970e-07 - accuracy: 1.0000 - val_loss: 0.0491 - val_accuracy: 0.9941\n",
            "Epoch 95/100\n",
            "300/300 [==============================] - 7s 23ms/step - loss: 6.1151e-07 - accuracy: 1.0000 - val_loss: 0.0507 - val_accuracy: 0.9941\n",
            "Epoch 96/100\n",
            "300/300 [==============================] - 6s 19ms/step - loss: 5.3882e-07 - accuracy: 1.0000 - val_loss: 0.0510 - val_accuracy: 0.9941\n",
            "Epoch 97/100\n",
            "300/300 [==============================] - 5s 15ms/step - loss: 4.5357e-07 - accuracy: 1.0000 - val_loss: 0.0513 - val_accuracy: 0.9941\n",
            "Epoch 98/100\n",
            "300/300 [==============================] - 4s 15ms/step - loss: 3.7534e-07 - accuracy: 1.0000 - val_loss: 0.0524 - val_accuracy: 0.9940\n",
            "Epoch 99/100\n",
            "300/300 [==============================] - 4s 15ms/step - loss: 3.3563e-07 - accuracy: 1.0000 - val_loss: 0.0524 - val_accuracy: 0.9940\n",
            "Epoch 100/100\n",
            "300/300 [==============================] - 6s 20ms/step - loss: 2.9110e-07 - accuracy: 1.0000 - val_loss: 0.0533 - val_accuracy: 0.9940\n"
          ]
        }
      ]
    },
    {
      "cell_type": "code",
      "source": [
        "import matplotlib.pyplot as plt\n",
        "\n",
        "fig, loss_ax = plt.subplots()\n",
        "acc_ax = loss_ax.twinx()\n",
        "\n",
        "loss_ax.plot(hist.history['loss'], 'y', label='train_loss')\n",
        "loss_ax.plot(hist.history['val_loss'], 'r', label='valid_loss')\n",
        "loss_ax.set_xlabel('epochs')\n",
        "loss_ax.set_ylabel('loss')\n",
        "loss_ax.legend(loc='upper left')\n",
        "\n",
        "loss_ax.plot(hist.history['accuracy'], 'b', label='train_accuracy')\n",
        "loss_ax.plot(hist.history['val_accuracy'], 'g', label='valid_accuracy')\n",
        "loss_ax.set_xlabel('epochs')\n",
        "loss_ax.set_ylabel('loss')\n",
        "loss_ax.legend(loc='upper roght', bbox_to_anchor=(1, 0.5))\n",
        "\n",
        "plt.show()"
      ],
      "metadata": {
        "colab": {
          "base_uri": "https://localhost:8080/",
          "height": 546
        },
        "id": "cGcUZyNWW8vg",
        "outputId": "966df491-5fca-47ff-97c5-52b4d54e9fc7"
      },
      "execution_count": 5,
      "outputs": [
        {
          "output_type": "stream",
          "name": "stderr",
          "text": [
            "/usr/local/lib/python3.7/dist-packages/ipykernel_launcher.py:16: MatplotlibDeprecationWarning: Unrecognized location 'upper roght'. Falling back on 'best'; valid locations are\n",
            "\tbest\n",
            "\tupper right\n",
            "\tupper left\n",
            "\tlower left\n",
            "\tlower right\n",
            "\tright\n",
            "\tcenter left\n",
            "\tcenter right\n",
            "\tlower center\n",
            "\tupper center\n",
            "\tcenter\n",
            "This will raise an exception in 3.3.\n",
            "  app.launch_new_instance()\n"
          ]
        },
        {
          "output_type": "display_data",
          "data": {
            "image/png": "[encoded data removed]",
            "text/plain": [
              "<Figure size 432x288 with 2 Axes>"
            ]
          },
          "metadata": {
            "needs_background": "light"
          }
        }
      ]
    },
    {
      "cell_type": "code",
      "source": [
        ""
      ],
      "metadata": {
        "id": "AWmJ8CyAZ8VO"
      },
      "execution_count": null,
      "outputs": []
    }
  ]
}