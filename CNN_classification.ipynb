{
  "nbformat": 4,
  "nbformat_minor": 0,
  "metadata": {
    "colab": {
      "name": "CNN_classification.ipynb",
      "provenance": [],
      "include_colab_link": true
    },
    "kernelspec": {
      "name": "python3",
      "display_name": "Python 3"
    },
    "language_info": {
      "name": "python"
    },
    "accelerator": "GPU"
  },
  "cells": [
    {
      "cell_type": "markdown",
      "metadata": {
        "id": "view-in-github",
        "colab_type": "text"
      },
      "source": [
        "<a href=\"https://colab.research.google.com/github/SoYeoni621/mulcam/blob/master/CNN_classification.ipynb\" target=\"_parent\"><img src=\"https://colab.research.google.com/assets/colab-badge.svg\" alt=\"Open In Colab\"/></a>"
      ]
    },
    {
      "cell_type": "code",
      "source": [
        "from google.colab import drive\n",
        "drive.mount('/content/drive')"
      ],
      "metadata": {
        "colab": {
          "base_uri": "https://localhost:8080/"
        },
        "id": "nxbGtTR764g2",
        "outputId": "3248291c-14f2-40cd-c0c9-93201c46bd5f"
      },
      "execution_count": null,
      "outputs": [
        {
          "output_type": "stream",
          "name": "stdout",
          "text": [
            "Mounted at /content/drive\n"
          ]
        }
      ]
    },
    {
      "cell_type": "code",
      "execution_count": null,
      "metadata": {
        "id": "fN3eyJZY6zRP"
      },
      "outputs": [],
      "source": [
        "import numpy as np\n",
        "import pandas as pd\n",
        "import matplotlib.pyplot as plt\n",
        "import seaborn as sns\n",
        "import json\n",
        "%matplotlib inline\n",
        "\n",
        "from keras.preprocessing.text import Tokenizer\n",
        "from keras.preprocessing.sequence import pad_sequences\n",
        "from keras.models import Model\n",
        "from keras.layers import *\n",
        "from keras.utils.np_utils import to_categorical\n",
        "from keras.initializers import Constant\n",
        "from keras import regularizers\n",
        "from keras.callbacks import EarlyStopping, ModelCheckpoint"
      ]
    },
    {
      "cell_type": "code",
      "source": [
        "data_path = '/content/drive/MyDrive/python/'\n",
        "Input_train_data = 'nsmc_train_input.npy'\n",
        "Label_train_data = 'nsmc_train_label.npy'\n",
        "Data_configs = 'data_configs.json'\n",
        "\n",
        "X_train = np.load(open(data_path + Input_train_data, 'rb'))\n",
        "X_train = pad_sequences(X_train, maxlen=X_train.shape[1])\n",
        "y_train = np.load(open(data_path + Label_train_data, 'rb'))\n",
        "prepro_configs = json.load(open(data_path + Data_configs, 'r'))"
      ],
      "metadata": {
        "id": "5B7iyTf17gn0"
      },
      "execution_count": null,
      "outputs": []
    },
    {
      "cell_type": "code",
      "source": [
        "INPUT_TEST_DATA = 'nsmc_test_input.npy'\n",
        "LABEL_TEST_DATA = 'nsmc_test_label.npy'\n",
        "SAVE_FILE_NAME = 'weights.h5'\n",
        "\n",
        "X_test = np.load(open(data_path + INPUT_TEST_DATA, 'rb'))\n",
        "X_test = pad_sequences(X_test, maxlen=X_test.shape[1])\n",
        "y_test = np.load(open(data_path + LABEL_TEST_DATA, 'rb'))"
      ],
      "metadata": {
        "id": "kx1qkDP67jWi"
      },
      "execution_count": null,
      "outputs": []
    },
    {
      "cell_type": "code",
      "source": [
        "embedd = 'nsmc_embbedding_matrix.npy'\n",
        "\n",
        "embedding_matrix = np.load(open(data_path + embedd, 'rb'))"
      ],
      "metadata": {
        "id": "GvnuD_iv7zEi"
      },
      "execution_count": null,
      "outputs": []
    },
    {
      "cell_type": "markdown",
      "source": [
        "# NonStatic CNN"
      ],
      "metadata": {
        "id": "g5zM2QgV9h0I"
      }
    },
    {
      "cell_type": "code",
      "source": [
        "from keras.models import Model\n",
        "from keras.layers import *\n",
        "from keras.utils.np_utils import to_categorical\n",
        "\n",
        "embedding_dim = 300\n",
        "num_filters = 100\n",
        "\n",
        "inputs = Input(shape=(maxlen, ), dtype='int32')\n",
        "\n",
        "embedding_layer = Embedding(vocab_size, \n",
        "                            embedding_dim,\n",
        "                            embeddings_initializer=Constant(embedding_matrix),\n",
        "                            input_length=maxlen,\n",
        "                            trainable=True)(inputs)\n",
        "reshape = Reshape((maxlen, embedding_dim, 1))(embedding_layer)\n",
        "conv1 = Conv2D(num_filters, kernel_size=(3, embedding_dim), activation='relu', kernel_regularizer=regularizers.l2(3))(reshape)\n",
        "conv2 = Conv2D(num_filters, kernel_size=(4, embedding_dim), activation='relu', kernel_regularizer=regularizers.l2(3))(reshape)\n",
        "conv3 = Conv2D(num_filters, kernel_size=(5, embedding_dim), activation='relu', kernel_regularizer=regularizers.l2(3))(reshape)\n",
        "\n",
        "maxpool1 = MaxPool2D(pool_size=(maxlen - 3 +1, 1), strides=(1,1), padding='valid')(conv1)\n",
        "maxpool2 = MaxPool2D(pool_size=(maxlen - 4 +1, 1), strides=(1,1), padding='valid')(conv2)\n",
        "maxpool3 = MaxPool2D(pool_size=(maxlen - 5 +1, 1), strides=(1,1), padding='valid')(conv3)\n",
        "\n",
        "concatenated = Concatenate(axis=1)([maxpool1, maxpool2, maxpool3])\n",
        "flatten = Flatten()(concatenated)\n",
        "\n",
        "dropout = Dropout(0.5)(flatten)\n",
        "output = Dense(units=1, activation='softmax')(dropout)"
      ],
      "metadata": {
        "id": "q7oOLG1071Fx"
      },
      "execution_count": null,
      "outputs": []
    },
    {
      "cell_type": "code",
      "source": [
        "NonStatic = Model(inputs=inputs, outputs=output)\n",
        "NonStatic.compile(loss='categorical_crossentropy', optimizer='adam', metrics=['accuracy'])\n",
        "NonStatic.summary()"
      ],
      "metadata": {
        "colab": {
          "base_uri": "https://localhost:8080/"
        },
        "id": "LoAroy7776Sj",
        "outputId": "9a9dd45e-db52-4485-f696-3a31646c0205"
      },
      "execution_count": null,
      "outputs": [
        {
          "output_type": "stream",
          "name": "stdout",
          "text": [
            "Model: \"model_1\"\n",
            "__________________________________________________________________________________________________\n",
            " Layer (type)                   Output Shape         Param #     Connected to                     \n",
            "==================================================================================================\n",
            " input_7 (InputLayer)           [(None, 47)]         0           []                               \n",
            "                                                                                                  \n",
            " embedding_5 (Embedding)        (None, 47, 300)      14983500    ['input_7[0][0]']                \n",
            "                                                                                                  \n",
            " reshape_5 (Reshape)            (None, 47, 300, 1)   0           ['embedding_5[0][0]']            \n",
            "                                                                                                  \n",
            " conv2d_3 (Conv2D)              (None, 45, 1, 100)   90100       ['reshape_5[0][0]']              \n",
            "                                                                                                  \n",
            " conv2d_4 (Conv2D)              (None, 44, 1, 100)   120100      ['reshape_5[0][0]']              \n",
            "                                                                                                  \n",
            " conv2d_5 (Conv2D)              (None, 43, 1, 100)   150100      ['reshape_5[0][0]']              \n",
            "                                                                                                  \n",
            " max_pooling2d_3 (MaxPooling2D)  (None, 1, 1, 100)   0           ['conv2d_3[0][0]']               \n",
            "                                                                                                  \n",
            " max_pooling2d_4 (MaxPooling2D)  (None, 1, 1, 100)   0           ['conv2d_4[0][0]']               \n",
            "                                                                                                  \n",
            " max_pooling2d_5 (MaxPooling2D)  (None, 1, 1, 100)   0           ['conv2d_5[0][0]']               \n",
            "                                                                                                  \n",
            " concatenate_1 (Concatenate)    (None, 3, 1, 100)    0           ['max_pooling2d_3[0][0]',        \n",
            "                                                                  'max_pooling2d_4[0][0]',        \n",
            "                                                                  'max_pooling2d_5[0][0]']        \n",
            "                                                                                                  \n",
            " flatten_1 (Flatten)            (None, 300)          0           ['concatenate_1[0][0]']          \n",
            "                                                                                                  \n",
            " dropout_1 (Dropout)            (None, 300)          0           ['flatten_1[0][0]']              \n",
            "                                                                                                  \n",
            " dense_1 (Dense)                (None, 1)            301         ['dropout_1[0][0]']              \n",
            "                                                                                                  \n",
            "==================================================================================================\n",
            "Total params: 15,344,101\n",
            "Trainable params: 15,344,101\n",
            "Non-trainable params: 0\n",
            "__________________________________________________________________________________________________\n"
          ]
        }
      ]
    },
    {
      "cell_type": "code",
      "source": [
        "# validation set 30000건 분리(전체 data의 약 20%)\n",
        "X_val = X_train[:30000]   \n",
        "y_val = y_train[:30000]\n",
        "\n",
        "# validation set을 제외한 나머지 118182건\n",
        "partial_X_train = X_train[30000:]  \n",
        "partial_y_train = y_train[30000:]\n",
        "\n",
        "print(partial_X_train.shape)\n",
        "print(partial_y_train.shape)"
      ],
      "metadata": {
        "colab": {
          "base_uri": "https://localhost:8080/"
        },
        "id": "zdDBkzgX9CNj",
        "outputId": "d035d489-34bb-4525-8eb8-f7b8a56ed434"
      },
      "execution_count": null,
      "outputs": [
        {
          "output_type": "stream",
          "name": "stdout",
          "text": [
            "(119995, 47)\n",
            "(119995,)\n"
          ]
        }
      ]
    },
    {
      "cell_type": "code",
      "source": [
        "epochs = 20\n",
        "\n",
        "cb_early_stopping = EarlyStopping(monitor='val_accuracy', min_delta=0.0001, patience=4)\n",
        "\n",
        "MODEL_SAVE_FOLDER = '/content/drive/MyDrive/python/'\n",
        "checkpoint_path = MODEL_SAVE_FOLDER +  '/non-static-cnn-weights.h5'\n",
        "cb_checkpoint = ModelCheckpoint(checkpoint_path, monitor='val_accuracy', verbose=1, save_best_only=True, save_weights_only=True)\n",
        "cb_model_path = MODEL_SAVE_FOLDER + 'nonstatic-best-model.h5'\n",
        "model_cb = ModelCheckpoint(cb_model_path, monitor='val_accuracy', verbose=1, save_best_only=True)\n",
        "\n",
        "history = NonStatic.fit(partial_X_train, partial_y_train, \n",
        "                 batch_size=256, epochs=epochs, validation_data=(X_val, y_val), \n",
        "                 callbacks=[model_cb, cb_early_stopping])"
      ],
      "metadata": {
        "colab": {
          "base_uri": "https://localhost:8080/"
        },
        "id": "T-Cnkk-z83Fi",
        "outputId": "e29eb5b1-1842-4d59-ac1e-58b0fd9384d9"
      },
      "execution_count": null,
      "outputs": [
        {
          "output_type": "stream",
          "name": "stdout",
          "text": [
            "Epoch 1/20\n",
            "469/469 [==============================] - ETA: 0s - loss: 1377.1005 - accuracy: 0.4989\n",
            "Epoch 1: val_accuracy improved from -inf to 0.49853, saving model to /content/drive/MyDrive/python/nonstatic-best-model.h5\n",
            "469/469 [==============================] - 67s 123ms/step - loss: 1377.1005 - accuracy: 0.4989 - val_loss: 6288.9780 - val_accuracy: 0.4985\n",
            "Epoch 2/20\n",
            "469/469 [==============================] - ETA: 0s - loss: 31791.3086 - accuracy: 0.4989\n",
            "Epoch 2: val_accuracy did not improve from 0.49853\n",
            "469/469 [==============================] - 34s 72ms/step - loss: 31791.3086 - accuracy: 0.4989 - val_loss: 77456.9062 - val_accuracy: 0.4985\n",
            "Epoch 3/20\n",
            "469/469 [==============================] - ETA: 0s - loss: 179066.4688 - accuracy: 0.4989\n",
            "Epoch 3: val_accuracy did not improve from 0.49853\n",
            "469/469 [==============================] - 33s 70ms/step - loss: 179066.4688 - accuracy: 0.4989 - val_loss: 321391.5625 - val_accuracy: 0.4985\n",
            "Epoch 4/20\n",
            "469/469 [==============================] - ETA: 0s - loss: 553182.5625 - accuracy: 0.4989\n",
            "Epoch 4: val_accuracy did not improve from 0.49853\n",
            "469/469 [==============================] - 34s 72ms/step - loss: 553182.5625 - accuracy: 0.4989 - val_loss: 843840.6875 - val_accuracy: 0.4985\n",
            "Epoch 5/20\n",
            "469/469 [==============================] - ETA: 0s - loss: 1241929.6250 - accuracy: 0.4989\n",
            "Epoch 5: val_accuracy did not improve from 0.49853\n",
            "469/469 [==============================] - 32s 68ms/step - loss: 1241929.6250 - accuracy: 0.4989 - val_loss: 1727163.8750 - val_accuracy: 0.4985\n"
          ]
        }
      ]
    },
    {
      "cell_type": "code",
      "source": [
        "def plot_graphs(hist, string):\n",
        "    plt.plot(hist.history[string])\n",
        "    plt.plot(hist.history['val_'+string])\n",
        "    plt.xlabel('Epochs')\n",
        "    plt.ylabel(string)\n",
        "    plt.legend([string, 'val_'+string])\n",
        "    plt.show()\n",
        "\n",
        "plot_graphs(history, 'accuracy')\n",
        "plot_graphs(history, 'loss')"
      ],
      "metadata": {
        "colab": {
          "base_uri": "https://localhost:8080/",
          "height": 552
        },
        "id": "IMhvyE72-GF0",
        "outputId": "12ff01fc-eb82-45f8-fe14-a181109dd1a2"
      },
      "execution_count": null,
      "outputs": [
        {
          "output_type": "display_data",
          "data": {
            "image/png": "[encoded data removed]",
            "text/plain": [
              "<Figure size 432x288 with 1 Axes>"
            ]
          },
          "metadata": {
            "needs_background": "light"
          }
        },
        {
          "output_type": "display_data",
          "data": {
            "image/png": "[encoded data removed]",
            "text/plain": [
              "<Figure size 432x288 with 1 Axes>"
            ]
          },
          "metadata": {
            "needs_background": "light"
          }
        }
      ]
    },
    {
      "cell_type": "code",
      "source": [
        "# 50.35% 성능\n",
        "NonStatic.evaluate(X_test, y_test)"
      ],
      "metadata": {
        "colab": {
          "base_uri": "https://localhost:8080/"
        },
        "id": "K3WOH2r39Ene",
        "outputId": "0871209a-6f6b-412b-d316-fd91f000a011"
      },
      "execution_count": null,
      "outputs": [
        {
          "output_type": "stream",
          "name": "stdout",
          "text": [
            "1563/1563 [==============================] - 10s 6ms/step - loss: 1727155.3750 - accuracy: 0.5035\n"
          ]
        },
        {
          "output_type": "execute_result",
          "data": {
            "text/plain": [
              "[1727155.375, 0.5034502148628235]"
            ]
          },
          "metadata": {},
          "execution_count": 28
        }
      ]
    },
    {
      "cell_type": "markdown",
      "source": [
        "# Static CNN"
      ],
      "metadata": {
        "id": "-wSg8YML9pvx"
      }
    },
    {
      "cell_type": "code",
      "source": [
        "from keras.models import Model\n",
        "from keras.layers import *\n",
        "from keras.utils.np_utils import to_categorical\n",
        "\n",
        "embedding_dim = 300\n",
        "num_filters = 100\n",
        "\n",
        "inputs2 = Input(shape=(maxlen, ), dtype='int32')\n",
        "\n",
        "embedding_layer2 = Embedding(vocab_size, \n",
        "                            embedding_dim,\n",
        "                            embeddings_initializer=Constant(embedding_matrix),\n",
        "                            input_length=maxlen,\n",
        "                            trainable=False)(inputs2)\n",
        "reshape2 = Reshape((maxlen, embedding_dim, 1))(embedding_layer2)\n",
        "conv2_1 = Conv2D(num_filters, kernel_size=(3, embedding_dim), activation='relu', kernel_regularizer=regularizers.l2(3))(reshape2)\n",
        "conv2_2 = Conv2D(num_filters, kernel_size=(4, embedding_dim), activation='relu', kernel_regularizer=regularizers.l2(3))(reshape2)\n",
        "conv2_3 = Conv2D(num_filters, kernel_size=(5, embedding_dim), activation='relu', kernel_regularizer=regularizers.l2(3))(reshape2)\n",
        "\n",
        "maxpool2_1 = MaxPool2D(pool_size=(maxlen - 3 +1, 1), strides=(1,1), padding='valid')(conv2_1)\n",
        "maxpool2_2 = MaxPool2D(pool_size=(maxlen - 4 +1, 1), strides=(1,1), padding='valid')(conv2_2)\n",
        "maxpool2_3 = MaxPool2D(pool_size=(maxlen - 5 +1, 1), strides=(1,1), padding='valid')(conv2_3)\n",
        "\n",
        "concatenated2 = Concatenate(axis=1)([maxpool2_1, maxpool2_2, maxpool2_3])\n",
        "flatten2 = Flatten()(concatenated2)\n",
        "\n",
        "dropout2 = Dropout(0.5)(flatten2)\n",
        "output2 = Dense(units=1, activation='softmax')(dropout2)"
      ],
      "metadata": {
        "id": "BGYwcmQv9nFG"
      },
      "execution_count": null,
      "outputs": []
    },
    {
      "cell_type": "code",
      "source": [
        "Static = Model(inputs=inputs2, outputs=output2)\n",
        "Static.compile(loss='categorical_crossentropy', optimizer='adam', metrics=['accuracy'])\n",
        "Static.summary()"
      ],
      "metadata": {
        "colab": {
          "base_uri": "https://localhost:8080/"
        },
        "id": "6m5F0Acv-Lia",
        "outputId": "7a9734f9-02c1-4d48-eb9e-36633445ef79"
      },
      "execution_count": null,
      "outputs": [
        {
          "output_type": "stream",
          "name": "stdout",
          "text": [
            "Model: \"model_2\"\n",
            "__________________________________________________________________________________________________\n",
            " Layer (type)                   Output Shape         Param #     Connected to                     \n",
            "==================================================================================================\n",
            " input_9 (InputLayer)           [(None, 47)]         0           []                               \n",
            "                                                                                                  \n",
            " embedding_7 (Embedding)        (None, 47, 300)      14983500    ['input_9[0][0]']                \n",
            "                                                                                                  \n",
            " reshape_7 (Reshape)            (None, 47, 300, 1)   0           ['embedding_7[0][0]']            \n",
            "                                                                                                  \n",
            " conv2d_9 (Conv2D)              (None, 45, 1, 100)   90100       ['reshape_7[0][0]']              \n",
            "                                                                                                  \n",
            " conv2d_10 (Conv2D)             (None, 44, 1, 100)   120100      ['reshape_7[0][0]']              \n",
            "                                                                                                  \n",
            " conv2d_11 (Conv2D)             (None, 43, 1, 100)   150100      ['reshape_7[0][0]']              \n",
            "                                                                                                  \n",
            " max_pooling2d_9 (MaxPooling2D)  (None, 1, 1, 100)   0           ['conv2d_9[0][0]']               \n",
            "                                                                                                  \n",
            " max_pooling2d_10 (MaxPooling2D  (None, 1, 1, 100)   0           ['conv2d_10[0][0]']              \n",
            " )                                                                                                \n",
            "                                                                                                  \n",
            " max_pooling2d_11 (MaxPooling2D  (None, 1, 1, 100)   0           ['conv2d_11[0][0]']              \n",
            " )                                                                                                \n",
            "                                                                                                  \n",
            " concatenate_3 (Concatenate)    (None, 3, 1, 100)    0           ['max_pooling2d_9[0][0]',        \n",
            "                                                                  'max_pooling2d_10[0][0]',       \n",
            "                                                                  'max_pooling2d_11[0][0]']       \n",
            "                                                                                                  \n",
            " flatten_3 (Flatten)            (None, 300)          0           ['concatenate_3[0][0]']          \n",
            "                                                                                                  \n",
            " dropout_3 (Dropout)            (None, 300)          0           ['flatten_3[0][0]']              \n",
            "                                                                                                  \n",
            " dense_3 (Dense)                (None, 1)            301         ['dropout_3[0][0]']              \n",
            "                                                                                                  \n",
            "==================================================================================================\n",
            "Total params: 15,344,101\n",
            "Trainable params: 360,601\n",
            "Non-trainable params: 14,983,500\n",
            "__________________________________________________________________________________________________\n"
          ]
        }
      ]
    },
    {
      "cell_type": "code",
      "source": [
        "epochs = 20\n",
        "\n",
        "cb_early_stopping = EarlyStopping(monitor='val_accuracy', min_delta=0.0001, patience=4)\n",
        "\n",
        "MODEL_SAVE_FOLDER = '/content/drive/MyDrive/python/'\n",
        "checkpoint_path = MODEL_SAVE_FOLDER +  '/static-cnn-weights.h5'\n",
        "cb_checkpoint = ModelCheckpoint(checkpoint_path, monitor='val_accuracy', verbose=1, save_best_only=True, save_weights_only=True)\n",
        "cb_model_path = MODEL_SAVE_FOLDER + 'nonstatic-best-model.h5'\n",
        "model_cb = ModelCheckpoint(cb_model_path, monitor='val_accuracy', verbose=1, save_best_only=True)\n",
        "\n",
        "history = Static.fit(partial_X_train, partial_y_train, \n",
        "                 batch_size=256, epochs=epochs, validation_data=(X_val, y_val), \n",
        "                 callbacks=[model_cb, cb_early_stopping])"
      ],
      "metadata": {
        "colab": {
          "base_uri": "https://localhost:8080/"
        },
        "id": "32efmgMb-qL3",
        "outputId": "64e687c5-bffb-47dc-f91b-e9322c68436d"
      },
      "execution_count": null,
      "outputs": [
        {
          "output_type": "stream",
          "name": "stdout",
          "text": [
            "Epoch 1/20\n",
            "468/469 [============================>.] - ETA: 0s - loss: 233.2208 - accuracy: 0.4988\n",
            "Epoch 1: val_accuracy improved from -inf to 0.49853, saving model to /content/drive/MyDrive/python/nonstatic-best-model.h5\n",
            "469/469 [==============================] - 49s 103ms/step - loss: 233.9938 - accuracy: 0.4989 - val_loss: 729.4559 - val_accuracy: 0.4985\n",
            "Epoch 2/20\n",
            "469/469 [==============================] - ETA: 0s - loss: 1558.1616 - accuracy: 0.4989\n",
            "Epoch 2: val_accuracy did not improve from 0.49853\n",
            "469/469 [==============================] - 19s 40ms/step - loss: 1558.1616 - accuracy: 0.4989 - val_loss: 2644.1433 - val_accuracy: 0.4985\n",
            "Epoch 3/20\n",
            "469/469 [==============================] - ETA: 0s - loss: 4084.8997 - accuracy: 0.4989\n",
            "Epoch 3: val_accuracy did not improve from 0.49853\n",
            "469/469 [==============================] - 18s 39ms/step - loss: 4084.8997 - accuracy: 0.4989 - val_loss: 5654.3735 - val_accuracy: 0.4985\n",
            "Epoch 4/20\n",
            "469/469 [==============================] - ETA: 0s - loss: 7609.2236 - accuracy: 0.4989\n",
            "Epoch 4: val_accuracy did not improve from 0.49853\n",
            "469/469 [==============================] - 18s 39ms/step - loss: 7609.2236 - accuracy: 0.4989 - val_loss: 9753.1240 - val_accuracy: 0.4985\n",
            "Epoch 5/20\n",
            "469/469 [==============================] - ETA: 0s - loss: 12062.7998 - accuracy: 0.4989\n",
            "Epoch 5: val_accuracy did not improve from 0.49853\n",
            "469/469 [==============================] - 18s 39ms/step - loss: 12062.7998 - accuracy: 0.4989 - val_loss: 15117.0371 - val_accuracy: 0.4985\n"
          ]
        }
      ]
    },
    {
      "cell_type": "code",
      "source": [
        "plot_graphs(history, 'accuracy')\n",
        "plot_graphs(history, 'loss')"
      ],
      "metadata": {
        "colab": {
          "base_uri": "https://localhost:8080/",
          "height": 541
        },
        "id": "FCMx3tEO-K7f",
        "outputId": "5d1bec21-e1af-4303-e055-5a40a9ee3327"
      },
      "execution_count": null,
      "outputs": [
        {
          "output_type": "display_data",
          "data": {
            "image/png": "[encoded data removed]",
            "text/plain": [
              "<Figure size 432x288 with 1 Axes>"
            ]
          },
          "metadata": {
            "needs_background": "light"
          }
        },
        {
          "output_type": "display_data",
          "data": {
            "image/png": "[encoded data removed]",
            "text/plain": [
              "<Figure size 432x288 with 1 Axes>"
            ]
          },
          "metadata": {
            "needs_background": "light"
          }
        }
      ]
    },
    {
      "cell_type": "code",
      "source": [
        "Static.evaluate(X_test, y_test)"
      ],
      "metadata": {
        "colab": {
          "base_uri": "https://localhost:8080/"
        },
        "id": "yvh1fcc7-2-2",
        "outputId": "bb683ce0-f9e7-4346-81f2-01ff10001abc"
      },
      "execution_count": null,
      "outputs": [
        {
          "output_type": "stream",
          "name": "stdout",
          "text": [
            "1563/1563 [==============================] - 10s 6ms/step - loss: 15117.2939 - accuracy: 0.5035\n"
          ]
        },
        {
          "output_type": "execute_result",
          "data": {
            "text/plain": [
              "[15117.2939453125, 0.5034502148628235]"
            ]
          },
          "metadata": {},
          "execution_count": 34
        }
      ]
    }
  ]
}