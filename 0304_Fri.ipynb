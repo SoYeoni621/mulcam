{
  "nbformat": 4,
  "nbformat_minor": 0,
  "metadata": {
    "colab": {
      "name": "0304_Fri.ipynb",
      "provenance": [],
      "mount_file_id": "1OeZSdYfa35GZMIL3HT10uVrYgxfXudBo",
      "authorship_tag": "ABX9TyMoqXg4g40t9NMkrqiB/LGK",
      "include_colab_link": true
    },
    "kernelspec": {
      "name": "python3",
      "display_name": "Python 3"
    },
    "language_info": {
      "name": "python"
    },
    "accelerator": "GPU"
  },
  "cells": [
    {
      "cell_type": "markdown",
      "metadata": {
        "id": "view-in-github",
        "colab_type": "text"
      },
      "source": [
        "<a href=\"https://colab.research.google.com/github/SoYeoni621/mulcam/blob/master/0304_Fri.ipynb\" target=\"_parent\"><img src=\"https://colab.research.google.com/assets/colab-badge.svg\" alt=\"Open In Colab\"/></a>"
      ]
    },
    {
      "cell_type": "code",
      "execution_count": 1,
      "metadata": {
        "id": "RElRXwjpIxaR"
      },
      "outputs": [],
      "source": [
        "from tensorflow.keras.datasets import mnist\n",
        "from sklearn.model_selection import train_test_split\n",
        "\n",
        "(train_images, train_labels), (test_images, test_labels) = mnist.load_data()\n",
        "train_images = train_images.reshape((-1, 28, 28, 1))\n",
        "test_images = test_images.reshape((-1, 28, 28, 1))\n",
        "\n",
        "# normalization\n",
        "train_images = train_images/255.\n",
        "test_images = test_images/255.\n",
        "\n",
        "valid_images, test_images, valid_labels, test_labels = train_test_split(test_images, test_labels, test_size=0.15, shuffle=True)"
      ]
    },
    {
      "cell_type": "code",
      "source": [
        "import tensorflow as tf\n",
        "from tensorflow.keras.models import Model\n",
        "from tensorflow.keras.layers import Input, Conv2D, MaxPool2D, Flatten, Dense, Dropout, BatchNormalization\n",
        "\n",
        "class ConvBNRelu(Model):\n",
        "    def __init__(self, filters, kernel_size=3, strides=(1,1), padding='same'):\n",
        "        super(ConvBNRelu, self).__init__()\n",
        "        self.conv = Conv2D(filters=filters, kernel_size=kernel_size, strides=strides,\n",
        "                           padding=padding, kernel_initializer='glorot_normal')\n",
        "        \n",
        "        self.batchnorm = BatchNormalization()\n",
        "\n",
        "    def call(self, inputs, training=False):\n",
        "        layer = self.conv(inputs)\n",
        "        layer = self.batchnorm(layer)\n",
        "        layer = tf.nn.relu(layer)\n",
        "\n",
        "        return layer\n",
        "        "
      ],
      "metadata": {
        "id": "ggzoTwuEKfew"
      },
      "execution_count": 2,
      "outputs": []
    },
    {
      "cell_type": "code",
      "source": [
        "# Dense에 Batchnorm 적용\n",
        "class DenseBNRelu(Model):\n",
        "    def __init__(self, units):\n",
        "        super(DenseBNRelu, self).__init__()\n",
        "        self.dense = Dense(units=units, kernel_initializer='glorot_normal')\n",
        "        self.batchnorm = BatchNormalization()\n",
        "\n",
        "    def call(self, inputs, training=False):\n",
        "        layer = self.dense(inputs)\n",
        "        layer = self.batchnorm(layer)\n",
        "        layer = tf.nn.relu(layer)\n",
        "\n",
        "        return layer\n"
      ],
      "metadata": {
        "id": "CQnwcB0ML4tX"
      },
      "execution_count": 3,
      "outputs": []
    },
    {
      "cell_type": "code",
      "source": [
        "class MNISTModel(Model):\n",
        "    def __init__(self):\n",
        "        super(MNISTModel, self).__init__()\n",
        "        self.conv1 = ConvBNRelu(filters=32, kernel_size=(3, 3), padding='valid')\n",
        "        self.pool1 = MaxPool2D()\n",
        "        self.conv2 = ConvBNRelu(filters=64, kernel_size=(3, 3), padding='valid')\n",
        "        self.pool2 = MaxPool2D()\n",
        "        self.conv3 = ConvBNRelu(filters=64, kernel_size=(3, 3), padding='valid')\n",
        "        self.flat = Flatten()\n",
        "        self.dense4 = DenseBNRelu(units=64)\n",
        "        self.drop = Dropout(0.2)\n",
        "        self.outputs = Dense(10, activation='softmax')\n",
        "\n",
        "    def call(self, inputs, training=False):\n",
        "        net = self.conv1(inputs)\n",
        "        net = self.pool1(net)\n",
        "        net = self.conv2(net)\n",
        "        net = self.pool2(net)\n",
        "        net = self.conv3(net)\n",
        "        net = self.flat(net)\n",
        "        net = self.dense4(net)\n",
        "        net = self.drop(net)\n",
        "        net = self.outputs(net)\n",
        "\n",
        "        return net"
      ],
      "metadata": {
        "id": "WoAyhmC0Ms8T"
      },
      "execution_count": 4,
      "outputs": []
    },
    {
      "cell_type": "code",
      "source": [
        "model = MNISTModel()\n",
        "model(Input(shape=(28, 28, 1)))\n",
        "model.summary()"
      ],
      "metadata": {
        "colab": {
          "base_uri": "https://localhost:8080/"
        },
        "id": "nByi-C_dOl5b",
        "outputId": "27e51c51-111b-450b-c2f2-f76575a13f85"
      },
      "execution_count": 5,
      "outputs": [
        {
          "output_type": "stream",
          "name": "stdout",
          "text": [
            "Model: \"mnist_model\"\n",
            "_________________________________________________________________\n",
            " Layer (type)                Output Shape              Param #   \n",
            "=================================================================\n",
            " conv_bn_relu (ConvBNRelu)   multiple                  448       \n",
            "                                                                 \n",
            " max_pooling2d (MaxPooling2D  multiple                 0         \n",
            " )                                                               \n",
            "                                                                 \n",
            " conv_bn_relu_1 (ConvBNRelu)  multiple                 18752     \n",
            "                                                                 \n",
            " max_pooling2d_1 (MaxPooling  multiple                 0         \n",
            " 2D)                                                             \n",
            "                                                                 \n",
            " conv_bn_relu_2 (ConvBNRelu)  multiple                 37184     \n",
            "                                                                 \n",
            " flatten (Flatten)           multiple                  0         \n",
            "                                                                 \n",
            " dense_bn_relu (DenseBNRelu)  multiple                 37184     \n",
            "                                                                 \n",
            " dropout (Dropout)           multiple                  0         \n",
            "                                                                 \n",
            " dense_1 (Dense)             multiple                  650       \n",
            "                                                                 \n",
            "=================================================================\n",
            "Total params: 94,218\n",
            "Trainable params: 93,770\n",
            "Non-trainable params: 448\n",
            "_________________________________________________________________\n"
          ]
        }
      ]
    },
    {
      "cell_type": "code",
      "source": [
        "!rm '/content/drive/MyDrive/딥러닝 NLP/models'*"
      ],
      "metadata": {
        "colab": {
          "base_uri": "https://localhost:8080/"
        },
        "id": "JfTgvs1tQhKI",
        "outputId": "509607cf-d118-43dc-f86c-1b2bf0e5429d"
      },
      "execution_count": 6,
      "outputs": [
        {
          "output_type": "stream",
          "name": "stdout",
          "text": [
            "rm: cannot remove '/content/drive/MyDrive/딥러닝 NLP/models': Is a directory\n"
          ]
        }
      ]
    },
    {
      "cell_type": "code",
      "source": [
        "from tensorflow.keras.callbacks import ModelCheckpoint, EarlyStopping\n",
        "\n",
        "MODEL_SAVE_FOLDER = '/content/drive/MyDrive/딥러닝 NLP/models/'\n",
        "model_path = f\"{MODEL_SAVE_FOLDER}mmist-{{epoch:d}}-{{val_loss:.5f}}-{{val_accuracy:.5f}}.hdf5\"\n",
        "\n",
        "cb_checkpoint = ModelCheckpoint(filepath=model_path, \n",
        "                                monitor='val_accuracy',\n",
        "                                save_weights_only=True,\n",
        "                                verbose=1,\n",
        "                                save_best_only=True)\n",
        "cb_early_stopping= EarlyStopping(monitor='val_accuracy',patience=6) # did not imporoved가 연속으로 6번 나오면 학습 stop"
      ],
      "metadata": {
        "id": "XrNuuEwfO-Kg"
      },
      "execution_count": 3,
      "outputs": []
    },
    {
      "cell_type": "code",
      "source": [
        "learning_rate = 0.001\n",
        "batch_size = 200\n",
        "\n",
        "lr_decay = tf.keras.optimizers.schedules.ExponentialDecay(learning_rate, train_images.shape[0]/batch_size*5, 0.5, staircase=True)\n",
        "optimizer = tf.keras.optimizers.Adam(learning_rate=lr_decay)\n",
        "model.compile(optimizer=optimizer, loss='sparse_categorical_crossentropy', metrics=['accuracy'])"
      ],
      "metadata": {
        "id": "7W_HwJoDQoqF"
      },
      "execution_count": 8,
      "outputs": []
    },
    {
      "cell_type": "code",
      "source": [
        "hist = model.fit(train_images, train_labels, validation_data=(valid_images, valid_labels),\n",
        "                 epochs=100, batch_size=batch_size, \n",
        "                 callbacks=[cb_checkpoint, cb_early_stopping])"
      ],
      "metadata": {
        "colab": {
          "base_uri": "https://localhost:8080/"
        },
        "id": "X1LOLLSKRvAg",
        "outputId": "c4181021-fab4-48f1-a3ac-85e49453e667"
      },
      "execution_count": 9,
      "outputs": [
        {
          "output_type": "stream",
          "name": "stdout",
          "text": [
            "Epoch 1/100\n",
            "300/300 [==============================] - ETA: 0s - loss: 0.2082 - accuracy: 0.9510\n",
            "Epoch 1: val_accuracy improved from -inf to 0.11294, saving model to /content/drive/MyDrive/딥러닝 NLP/models/mmist-1-4.40705-0.11294.hdf5\n",
            "300/300 [==============================] - 13s 26ms/step - loss: 0.2082 - accuracy: 0.9510 - val_loss: 4.4071 - val_accuracy: 0.1129\n",
            "Epoch 2/100\n",
            "298/300 [============================>.] - ETA: 0s - loss: 0.0525 - accuracy: 0.9864\n",
            "Epoch 2: val_accuracy improved from 0.11294 to 0.98282, saving model to /content/drive/MyDrive/딥러닝 NLP/models/mmist-2-0.05850-0.98282.hdf5\n",
            "300/300 [==============================] - 6s 20ms/step - loss: 0.0523 - accuracy: 0.9864 - val_loss: 0.0585 - val_accuracy: 0.9828\n",
            "Epoch 3/100\n",
            "298/300 [============================>.] - ETA: 0s - loss: 0.0356 - accuracy: 0.9898\n",
            "Epoch 3: val_accuracy did not improve from 0.98282\n",
            "300/300 [==============================] - 6s 19ms/step - loss: 0.0356 - accuracy: 0.9899 - val_loss: 0.0649 - val_accuracy: 0.9793\n",
            "Epoch 4/100\n",
            "298/300 [============================>.] - ETA: 0s - loss: 0.0270 - accuracy: 0.9926\n",
            "Epoch 4: val_accuracy improved from 0.98282 to 0.99106, saving model to /content/drive/MyDrive/딥러닝 NLP/models/mmist-4-0.02817-0.99106.hdf5\n",
            "300/300 [==============================] - 6s 19ms/step - loss: 0.0270 - accuracy: 0.9926 - val_loss: 0.0282 - val_accuracy: 0.9911\n",
            "Epoch 5/100\n",
            "300/300 [==============================] - ETA: 0s - loss: 0.0213 - accuracy: 0.9940\n",
            "Epoch 5: val_accuracy did not improve from 0.99106\n",
            "300/300 [==============================] - 6s 19ms/step - loss: 0.0213 - accuracy: 0.9940 - val_loss: 0.0280 - val_accuracy: 0.9904\n",
            "Epoch 6/100\n",
            "298/300 [============================>.] - ETA: 0s - loss: 0.0119 - accuracy: 0.9970\n",
            "Epoch 6: val_accuracy improved from 0.99106 to 0.99118, saving model to /content/drive/MyDrive/딥러닝 NLP/models/mmist-6-0.02524-0.99118.hdf5\n",
            "300/300 [==============================] - 6s 20ms/step - loss: 0.0119 - accuracy: 0.9970 - val_loss: 0.0252 - val_accuracy: 0.9912\n",
            "Epoch 7/100\n",
            "298/300 [============================>.] - ETA: 0s - loss: 0.0092 - accuracy: 0.9977\n",
            "Epoch 7: val_accuracy improved from 0.99118 to 0.99329, saving model to /content/drive/MyDrive/딥러닝 NLP/models/mmist-7-0.02285-0.99329.hdf5\n",
            "300/300 [==============================] - 6s 20ms/step - loss: 0.0093 - accuracy: 0.9977 - val_loss: 0.0229 - val_accuracy: 0.9933\n",
            "Epoch 8/100\n",
            "298/300 [============================>.] - ETA: 0s - loss: 0.0081 - accuracy: 0.9980\n",
            "Epoch 8: val_accuracy did not improve from 0.99329\n",
            "300/300 [==============================] - 6s 19ms/step - loss: 0.0081 - accuracy: 0.9979 - val_loss: 0.0227 - val_accuracy: 0.9927\n",
            "Epoch 9/100\n",
            "298/300 [============================>.] - ETA: 0s - loss: 0.0074 - accuracy: 0.9982\n",
            "Epoch 9: val_accuracy did not improve from 0.99329\n",
            "300/300 [==============================] - 6s 19ms/step - loss: 0.0075 - accuracy: 0.9982 - val_loss: 0.0276 - val_accuracy: 0.9919\n",
            "Epoch 10/100\n",
            "298/300 [============================>.] - ETA: 0s - loss: 0.0063 - accuracy: 0.9986\n",
            "Epoch 10: val_accuracy did not improve from 0.99329\n",
            "300/300 [==============================] - 6s 19ms/step - loss: 0.0063 - accuracy: 0.9986 - val_loss: 0.0305 - val_accuracy: 0.9915\n",
            "Epoch 11/100\n",
            "298/300 [============================>.] - ETA: 0s - loss: 0.0039 - accuracy: 0.9994\n",
            "Epoch 11: val_accuracy did not improve from 0.99329\n",
            "300/300 [==============================] - 6s 20ms/step - loss: 0.0038 - accuracy: 0.9994 - val_loss: 0.0226 - val_accuracy: 0.9929\n",
            "Epoch 12/100\n",
            "298/300 [============================>.] - ETA: 0s - loss: 0.0029 - accuracy: 0.9995\n",
            "Epoch 12: val_accuracy did not improve from 0.99329\n",
            "300/300 [==============================] - 6s 19ms/step - loss: 0.0029 - accuracy: 0.9995 - val_loss: 0.0226 - val_accuracy: 0.9927\n",
            "Epoch 13/100\n",
            "298/300 [============================>.] - ETA: 0s - loss: 0.0030 - accuracy: 0.9994\n",
            "Epoch 13: val_accuracy improved from 0.99329 to 0.99341, saving model to /content/drive/MyDrive/딥러닝 NLP/models/mmist-13-0.02251-0.99341.hdf5\n",
            "300/300 [==============================] - 6s 20ms/step - loss: 0.0029 - accuracy: 0.9994 - val_loss: 0.0225 - val_accuracy: 0.9934\n",
            "Epoch 14/100\n",
            "298/300 [============================>.] - ETA: 0s - loss: 0.0026 - accuracy: 0.9996\n",
            "Epoch 14: val_accuracy did not improve from 0.99341\n",
            "300/300 [==============================] - 6s 20ms/step - loss: 0.0026 - accuracy: 0.9996 - val_loss: 0.0236 - val_accuracy: 0.9931\n",
            "Epoch 15/100\n",
            "300/300 [==============================] - ETA: 0s - loss: 0.0024 - accuracy: 0.9996\n",
            "Epoch 15: val_accuracy did not improve from 0.99341\n",
            "300/300 [==============================] - 6s 21ms/step - loss: 0.0024 - accuracy: 0.9996 - val_loss: 0.0244 - val_accuracy: 0.9933\n",
            "Epoch 16/100\n",
            "298/300 [============================>.] - ETA: 0s - loss: 0.0017 - accuracy: 0.9998\n",
            "Epoch 16: val_accuracy did not improve from 0.99341\n",
            "300/300 [==============================] - 6s 20ms/step - loss: 0.0017 - accuracy: 0.9998 - val_loss: 0.0223 - val_accuracy: 0.9931\n",
            "Epoch 17/100\n",
            "299/300 [============================>.] - ETA: 0s - loss: 0.0015 - accuracy: 0.9998\n",
            "Epoch 17: val_accuracy did not improve from 0.99341\n",
            "300/300 [==============================] - 6s 20ms/step - loss: 0.0015 - accuracy: 0.9998 - val_loss: 0.0220 - val_accuracy: 0.9929\n",
            "Epoch 18/100\n",
            "299/300 [============================>.] - ETA: 0s - loss: 0.0014 - accuracy: 0.9999\n",
            "Epoch 18: val_accuracy improved from 0.99341 to 0.99376, saving model to /content/drive/MyDrive/딥러닝 NLP/models/mmist-18-0.02067-0.99376.hdf5\n",
            "300/300 [==============================] - 6s 20ms/step - loss: 0.0014 - accuracy: 0.9999 - val_loss: 0.0207 - val_accuracy: 0.9938\n",
            "Epoch 19/100\n",
            "298/300 [============================>.] - ETA: 0s - loss: 0.0013 - accuracy: 0.9999\n",
            "Epoch 19: val_accuracy did not improve from 0.99376\n",
            "300/300 [==============================] - 6s 19ms/step - loss: 0.0013 - accuracy: 0.9999 - val_loss: 0.0238 - val_accuracy: 0.9933\n",
            "Epoch 20/100\n",
            "298/300 [============================>.] - ETA: 0s - loss: 0.0012 - accuracy: 0.9999\n",
            "Epoch 20: val_accuracy did not improve from 0.99376\n",
            "300/300 [==============================] - 6s 19ms/step - loss: 0.0012 - accuracy: 0.9999 - val_loss: 0.0235 - val_accuracy: 0.9933\n",
            "Epoch 21/100\n",
            "298/300 [============================>.] - ETA: 0s - loss: 0.0011 - accuracy: 0.9999\n",
            "Epoch 21: val_accuracy did not improve from 0.99376\n",
            "300/300 [==============================] - 6s 19ms/step - loss: 0.0011 - accuracy: 0.9999 - val_loss: 0.0223 - val_accuracy: 0.9934\n",
            "Epoch 22/100\n",
            "298/300 [============================>.] - ETA: 0s - loss: 0.0010 - accuracy: 0.9999\n",
            "Epoch 22: val_accuracy did not improve from 0.99376\n",
            "300/300 [==============================] - 6s 19ms/step - loss: 0.0010 - accuracy: 0.9999 - val_loss: 0.0227 - val_accuracy: 0.9934\n",
            "Epoch 23/100\n",
            "298/300 [============================>.] - ETA: 0s - loss: 9.3057e-04 - accuracy: 0.9999\n",
            "Epoch 23: val_accuracy did not improve from 0.99376\n",
            "300/300 [==============================] - 6s 19ms/step - loss: 9.3219e-04 - accuracy: 0.9999 - val_loss: 0.0232 - val_accuracy: 0.9933\n",
            "Epoch 24/100\n",
            "298/300 [============================>.] - ETA: 0s - loss: 8.1792e-04 - accuracy: 1.0000\n",
            "Epoch 24: val_accuracy did not improve from 0.99376\n",
            "300/300 [==============================] - 6s 20ms/step - loss: 8.1695e-04 - accuracy: 1.0000 - val_loss: 0.0231 - val_accuracy: 0.9933\n"
          ]
        }
      ]
    },
    {
      "cell_type": "code",
      "source": [
        "import matplotlib.pyplot as plt\n",
        "\n",
        "fig, loss_ax = plt.subplots()\n",
        "acc_ax = loss_ax.twinx()\n",
        "\n",
        "loss_ax.plot(hist.history['loss'], 'y', label='train_loss')\n",
        "loss_ax.plot(hist.history['val_loss'], 'r', label='valid_loss')\n",
        "loss_ax.set_xlabel('epochs')\n",
        "loss_ax.set_ylabel('loss')\n",
        "loss_ax.legend(loc='upper left')\n",
        "\n",
        "acc_ax.plot(hist.history['accuracy'], 'b', label='train_accuracy')\n",
        "acc_ax.plot(hist.history['val_accuracy'], 'g', label='valid_accuracy')\n",
        "acc_ax.set_xlabel('epochs')\n",
        "acc_ax.set_ylabel('accuracy')\n",
        "acc_ax.legend(loc='upper right', bbox_to_anchor=(1, 0.5))\n",
        "\n",
        "plt.show()"
      ],
      "metadata": {
        "colab": {
          "base_uri": "https://localhost:8080/",
          "height": 279
        },
        "id": "DJTax8X0SRrp",
        "outputId": "9c908bc0-57ab-4157-a7b2-a7c567cd90ea"
      },
      "execution_count": 10,
      "outputs": [
        {
          "output_type": "display_data",
          "data": {
            "image/png": "[encoded data removed]",
            "text/plain": [
              "<Figure size 432x288 with 2 Axes>"
            ]
          },
          "metadata": {
            "needs_background": "light"
          }
        }
      ]
    },
    {
      "cell_type": "markdown",
      "source": [
        "# VGG16 실습(사전 학습 모델pre-trained model)"
      ],
      "metadata": {
        "id": "p2H3SAt8egqi"
      }
    },
    {
      "cell_type": "code",
      "source": [
        "import numpy as np\n",
        "from tensorflow.keras.applications import VGG16\n",
        "from tensorflow.keras.datasets import mnist\n",
        "from sklearn.model_selection import train_test_split"
      ],
      "metadata": {
        "id": "yp2Z3Xt3Tw0b"
      },
      "execution_count": 1,
      "outputs": []
    },
    {
      "cell_type": "code",
      "source": [
        "(train_images, train_labels), (test_images, test_labels) = mnist.load_data()\n",
        "print(train_images.shape, test_images.shape)"
      ],
      "metadata": {
        "colab": {
          "base_uri": "https://localhost:8080/"
        },
        "id": "gRbqc9UpsZHL",
        "outputId": "1ab34132-61ed-4c5f-dddc-3998a85959ae"
      },
      "execution_count": 2,
      "outputs": [
        {
          "output_type": "stream",
          "name": "stdout",
          "text": [
            "(60000, 28, 28) (10000, 28, 28)\n"
          ]
        }
      ]
    },
    {
      "cell_type": "code",
      "source": [
        "# 3 채널로 만들기 위한 작업\n",
        "train_images = train_images.reshape(-1, 784)\n",
        "test_images = test_images.reshape(-1, 784)\n",
        "\n",
        "print(train_images.shape, test_images.shape)"
      ],
      "metadata": {
        "colab": {
          "base_uri": "https://localhost:8080/"
        },
        "id": "7mOGdQnEa1pJ",
        "outputId": "dcb8b72a-5162-47d5-8129-84ec98ef444c"
      },
      "execution_count": 3,
      "outputs": [
        {
          "output_type": "stream",
          "name": "stdout",
          "text": [
            "(60000, 784) (10000, 784)\n"
          ]
        }
      ]
    },
    {
      "cell_type": "code",
      "source": [
        "# 3 채널로 만들기\n",
        "train_images = np.dstack([train_images]*3)\n",
        "test_images = np.dstack([test_images]*3)"
      ],
      "metadata": {
        "id": "WjKk3v-0bHjy"
      },
      "execution_count": 5,
      "outputs": []
    },
    {
      "cell_type": "code",
      "source": [
        "train_images.shape, test_images.shape"
      ],
      "metadata": {
        "colab": {
          "base_uri": "https://localhost:8080/"
        },
        "id": "p2TgczLobOxK",
        "outputId": "4e34ddad-1bc4-47c4-f487-c08e8afa76f1"
      },
      "execution_count": 6,
      "outputs": [
        {
          "output_type": "execute_result",
          "data": {
            "text/plain": [
              "((60000, 784, 3), (10000, 784, 3))"
            ]
          },
          "metadata": {},
          "execution_count": 6
        }
      ]
    },
    {
      "cell_type": "code",
      "source": [
        "# 이미지 형식으로 변경\n",
        "train_images = train_images.reshape(-1, 28, 28, 3)\n",
        "test_images = test_images.reshape(-1, 28, 28, 3)\n"
      ],
      "metadata": {
        "id": "LnBGJECRb1Jm"
      },
      "execution_count": 7,
      "outputs": []
    },
    {
      "cell_type": "code",
      "source": [
        "train_images.shape, test_images.shape"
      ],
      "metadata": {
        "colab": {
          "base_uri": "https://localhost:8080/"
        },
        "id": "jQ99biFrcRs1",
        "outputId": "ec574d18-4141-447e-d1cc-44ab751eec97"
      },
      "execution_count": 8,
      "outputs": [
        {
          "output_type": "execute_result",
          "data": {
            "text/plain": [
              "((60000, 28, 28, 3), (10000, 28, 28, 3))"
            ]
          },
          "metadata": {},
          "execution_count": 8
        }
      ]
    },
    {
      "cell_type": "code",
      "source": [
        "train_images[0][0]"
      ],
      "metadata": {
        "colab": {
          "base_uri": "https://localhost:8080/"
        },
        "id": "2sT1PBQTc37q",
        "outputId": "e276d89b-2fcb-4b02-82e1-2874d04e1712"
      },
      "execution_count": 9,
      "outputs": [
        {
          "output_type": "execute_result",
          "data": {
            "text/plain": [
              "array([[0, 0, 0],\n",
              "       [0, 0, 0],\n",
              "       [0, 0, 0],\n",
              "       [0, 0, 0],\n",
              "       [0, 0, 0],\n",
              "       [0, 0, 0],\n",
              "       [0, 0, 0],\n",
              "       [0, 0, 0],\n",
              "       [0, 0, 0],\n",
              "       [0, 0, 0],\n",
              "       [0, 0, 0],\n",
              "       [0, 0, 0],\n",
              "       [0, 0, 0],\n",
              "       [0, 0, 0],\n",
              "       [0, 0, 0],\n",
              "       [0, 0, 0],\n",
              "       [0, 0, 0],\n",
              "       [0, 0, 0],\n",
              "       [0, 0, 0],\n",
              "       [0, 0, 0],\n",
              "       [0, 0, 0],\n",
              "       [0, 0, 0],\n",
              "       [0, 0, 0],\n",
              "       [0, 0, 0],\n",
              "       [0, 0, 0],\n",
              "       [0, 0, 0],\n",
              "       [0, 0, 0],\n",
              "       [0, 0, 0]], dtype=uint8)"
            ]
          },
          "metadata": {},
          "execution_count": 9
        }
      ]
    },
    {
      "cell_type": "code",
      "source": [
        "from tensorflow.keras.preprocessing.image import img_to_array, array_to_img\n",
        "\n",
        "#48*48 사이즈로 변경\n",
        "\n",
        "train_images = np.asarray([img_to_array(array_to_img(im, scale=False).resize((48, 48))) for im in train_images])\n",
        "test_images = np.asarray([img_to_array(array_to_img(im, scale=False).resize((48, 48))) for im in test_images])"
      ],
      "metadata": {
        "id": "yLzqBNAHcTUp"
      },
      "execution_count": 10,
      "outputs": []
    },
    {
      "cell_type": "code",
      "source": [
        "train_images.shape,  test_images.shape"
      ],
      "metadata": {
        "colab": {
          "base_uri": "https://localhost:8080/"
        },
        "id": "IZwzm1Hvdsfs",
        "outputId": "ba96df12-e7f5-4382-fa0a-5c6903388bb7"
      },
      "execution_count": 11,
      "outputs": [
        {
          "output_type": "execute_result",
          "data": {
            "text/plain": [
              "((60000, 48, 48, 3), (10000, 48, 48, 3))"
            ]
          },
          "metadata": {},
          "execution_count": 11
        }
      ]
    },
    {
      "cell_type": "code",
      "source": [
        "train_images = train_images/ 255.\n",
        "test_images = test_images / 255.\n"
      ],
      "metadata": {
        "id": "CbsfDsCRs8cH"
      },
      "execution_count": 12,
      "outputs": []
    },
    {
      "cell_type": "code",
      "source": [
        "valid_images, test_images, valid_labels, test_labels = train_test_split(test_images, test_labels, test_size=0.15, shuffle=True)"
      ],
      "metadata": {
        "id": "i97sUDZBs_PZ"
      },
      "execution_count": 13,
      "outputs": []
    },
    {
      "cell_type": "code",
      "source": [
        "# 사전 학습된 VGG모델 가져오기\n",
        "vgg_model = VGG16(weights='imagenet', include_top=False, input_shape=(48, 48, 3))\n",
        "vgg_model.summary()"
      ],
      "metadata": {
        "colab": {
          "base_uri": "https://localhost:8080/"
        },
        "id": "XD4Oea_jg5km",
        "outputId": "73067396-6d4d-4962-b379-6a7a1a7f9099"
      },
      "execution_count": 14,
      "outputs": [
        {
          "output_type": "stream",
          "name": "stdout",
          "text": [
            "Model: \"vgg16\"\n",
            "_________________________________________________________________\n",
            " Layer (type)                Output Shape              Param #   \n",
            "=================================================================\n",
            " input_1 (InputLayer)        [(None, 48, 48, 3)]       0         \n",
            "                                                                 \n",
            " block1_conv1 (Conv2D)       (None, 48, 48, 64)        1792      \n",
            "                                                                 \n",
            " block1_conv2 (Conv2D)       (None, 48, 48, 64)        36928     \n",
            "                                                                 \n",
            " block1_pool (MaxPooling2D)  (None, 24, 24, 64)        0         \n",
            "                                                                 \n",
            " block2_conv1 (Conv2D)       (None, 24, 24, 128)       73856     \n",
            "                                                                 \n",
            " block2_conv2 (Conv2D)       (None, 24, 24, 128)       147584    \n",
            "                                                                 \n",
            " block2_pool (MaxPooling2D)  (None, 12, 12, 128)       0         \n",
            "                                                                 \n",
            " block3_conv1 (Conv2D)       (None, 12, 12, 256)       295168    \n",
            "                                                                 \n",
            " block3_conv2 (Conv2D)       (None, 12, 12, 256)       590080    \n",
            "                                                                 \n",
            " block3_conv3 (Conv2D)       (None, 12, 12, 256)       590080    \n",
            "                                                                 \n",
            " block3_pool (MaxPooling2D)  (None, 6, 6, 256)         0         \n",
            "                                                                 \n",
            " block4_conv1 (Conv2D)       (None, 6, 6, 512)         1180160   \n",
            "                                                                 \n",
            " block4_conv2 (Conv2D)       (None, 6, 6, 512)         2359808   \n",
            "                                                                 \n",
            " block4_conv3 (Conv2D)       (None, 6, 6, 512)         2359808   \n",
            "                                                                 \n",
            " block4_pool (MaxPooling2D)  (None, 3, 3, 512)         0         \n",
            "                                                                 \n",
            " block5_conv1 (Conv2D)       (None, 3, 3, 512)         2359808   \n",
            "                                                                 \n",
            " block5_conv2 (Conv2D)       (None, 3, 3, 512)         2359808   \n",
            "                                                                 \n",
            " block5_conv3 (Conv2D)       (None, 3, 3, 512)         2359808   \n",
            "                                                                 \n",
            " block5_pool (MaxPooling2D)  (None, 1, 1, 512)         0         \n",
            "                                                                 \n",
            "=================================================================\n",
            "Total params: 14,714,688\n",
            "Trainable params: 14,714,688\n",
            "Non-trainable params: 0\n",
            "_________________________________________________________________\n"
          ]
        }
      ]
    },
    {
      "cell_type": "code",
      "source": [
        "# 모델 레이어 데이터화\n",
        "layer_dict = {layer.name : layer for layer in vgg_model.layers}\n",
        "layer_dict"
      ],
      "metadata": {
        "colab": {
          "base_uri": "https://localhost:8080/"
        },
        "id": "k8DiIEjue4Zm",
        "outputId": "4a13c832-6347-4967-c8b9-39e4c8b81f3b"
      },
      "execution_count": 15,
      "outputs": [
        {
          "output_type": "execute_result",
          "data": {
            "text/plain": [
              "{'block1_conv1': <keras.layers.convolutional.Conv2D at 0x7ff43c02f990>,\n",
              " 'block1_conv2': <keras.layers.convolutional.Conv2D at 0x7ff43ffb5f50>,\n",
              " 'block1_pool': <keras.layers.pooling.MaxPooling2D at 0x7ff43bf6ee50>,\n",
              " 'block2_conv1': <keras.layers.convolutional.Conv2D at 0x7ff43bf8b250>,\n",
              " 'block2_conv2': <keras.layers.convolutional.Conv2D at 0x7ff43bf1aed0>,\n",
              " 'block2_pool': <keras.layers.pooling.MaxPooling2D at 0x7ff43bfc1150>,\n",
              " 'block3_conv1': <keras.layers.convolutional.Conv2D at 0x7ff43bf20390>,\n",
              " 'block3_conv2': <keras.layers.convolutional.Conv2D at 0x7ff43bf27150>,\n",
              " 'block3_conv3': <keras.layers.convolutional.Conv2D at 0x7ff43bf30310>,\n",
              " 'block3_pool': <keras.layers.pooling.MaxPooling2D at 0x7ff43bf30ed0>,\n",
              " 'block4_conv1': <keras.layers.convolutional.Conv2D at 0x7ff43bf27550>,\n",
              " 'block4_conv2': <keras.layers.convolutional.Conv2D at 0x7ff43bf37c50>,\n",
              " 'block4_conv3': <keras.layers.convolutional.Conv2D at 0x7ff43bf42150>,\n",
              " 'block4_pool': <keras.layers.pooling.MaxPooling2D at 0x7ff43c021b90>,\n",
              " 'block5_conv1': <keras.layers.convolutional.Conv2D at 0x7ff43bf477d0>,\n",
              " 'block5_conv2': <keras.layers.convolutional.Conv2D at 0x7ff43bece850>,\n",
              " 'block5_conv3': <keras.layers.convolutional.Conv2D at 0x7ff43bed4850>,\n",
              " 'block5_pool': <keras.layers.pooling.MaxPooling2D at 0x7ff43bed8910>,\n",
              " 'input_1': <keras.engine.input_layer.InputLayer at 0x7ff444732650>}"
            ]
          },
          "metadata": {},
          "execution_count": 15
        }
      ]
    },
    {
      "cell_type": "code",
      "source": [
        "import tensorflow as tf\n",
        "from tensorflow.keras.models import Model\n",
        "from tensorflow.keras.layers import Input, Conv2D, MaxPool2D, Flatten, Dense, Dropout, BatchNormalization\n",
        "\n",
        "x = layer_dict['block2_conv2'].output\n",
        "\n",
        "x = Conv2D(filters=64, kernel_size=(3, 3), activation='relu')(x)\n",
        "x = MaxPool2D()(x)\n",
        "x = Flatten()(x)\n",
        "x = Dense(256, activation='relu')(x)\n",
        "x = Dropout(0.3)(x)\n",
        "x = Dense(10, activation='softmax')(x)\n"
      ],
      "metadata": {
        "id": "phknkq8utNqw"
      },
      "execution_count": 25,
      "outputs": []
    },
    {
      "cell_type": "code",
      "source": [
        "# 새로운 모델 정의\n",
        "custom_model = Model(inputs=vgg_model.input, outputs=x)\n",
        "custom_model.summary()"
      ],
      "metadata": {
        "colab": {
          "base_uri": "https://localhost:8080/"
        },
        "id": "tMxhpLxbiS7O",
        "outputId": "3a01f772-ad65-46d5-e91d-4ef33a95906c"
      },
      "execution_count": 26,
      "outputs": [
        {
          "output_type": "stream",
          "name": "stdout",
          "text": [
            "Model: \"model_1\"\n",
            "_________________________________________________________________\n",
            " Layer (type)                Output Shape              Param #   \n",
            "=================================================================\n",
            " input_1 (InputLayer)        [(None, 48, 48, 3)]       0         \n",
            "                                                                 \n",
            " block1_conv1 (Conv2D)       (None, 48, 48, 64)        1792      \n",
            "                                                                 \n",
            " block1_conv2 (Conv2D)       (None, 48, 48, 64)        36928     \n",
            "                                                                 \n",
            " block1_pool (MaxPooling2D)  (None, 24, 24, 64)        0         \n",
            "                                                                 \n",
            " block2_conv1 (Conv2D)       (None, 24, 24, 128)       73856     \n",
            "                                                                 \n",
            " block2_conv2 (Conv2D)       (None, 24, 24, 128)       147584    \n",
            "                                                                 \n",
            " conv2d_1 (Conv2D)           (None, 22, 22, 64)        73792     \n",
            "                                                                 \n",
            " max_pooling2d_1 (MaxPooling  (None, 11, 11, 64)       0         \n",
            " 2D)                                                             \n",
            "                                                                 \n",
            " flatten_1 (Flatten)         (None, 7744)              0         \n",
            "                                                                 \n",
            " dense_2 (Dense)             (None, 256)               1982720   \n",
            "                                                                 \n",
            " dropout_1 (Dropout)         (None, 256)               0         \n",
            "                                                                 \n",
            " dense_3 (Dense)             (None, 10)                2570      \n",
            "                                                                 \n",
            "=================================================================\n",
            "Total params: 2,319,242\n",
            "Trainable params: 2,059,082\n",
            "Non-trainable params: 260,160\n",
            "_________________________________________________________________\n"
          ]
        }
      ]
    },
    {
      "cell_type": "code",
      "source": [
        "for layer in custom_model.layers[:7]:\n",
        "\tlayer.trainable = False # pre-trained weight를 그대로 사용\n",
        "\n",
        "custom_model.compile(optimizer='adam', loss='sparse_categorical_crossentropy', metrics=['accuracy'])"
      ],
      "metadata": {
        "id": "aNvbHtL-iTXF"
      },
      "execution_count": 27,
      "outputs": []
    },
    {
      "cell_type": "code",
      "source": [
        "from tensorflow.keras.callbacks import ModelCheckpoint, EarlyStopping\n",
        "\n",
        "MODEL_SAVE_FOLDER = '/content/drive/MyDrive/딥러닝 NLP/models/'\n",
        "model_path = f\"{MODEL_SAVE_FOLDER}mmist-vgg-{{epoch:d}}-{{val_loss:.5f}}-{{val_accuracy:.5f}}.hdf5\"\n",
        "\n",
        "cb_checkpoint = ModelCheckpoint(filepath=model_path, \n",
        "                                monitor='val_accuracy',\n",
        "                                save_weights_only=True,\n",
        "                                verbose=1,\n",
        "                                save_best_only=True)\n",
        "\n",
        "cb_early_stopping= EarlyStopping(monitor='val_accuracy',patience=6) # did not imporoved가 연속으로 6번 나오면 학습 stop"
      ],
      "metadata": {
        "id": "_WHAKWGgocnX"
      },
      "execution_count": 29,
      "outputs": []
    },
    {
      "cell_type": "code",
      "source": [
        "hist = custom_model.fit(train_images, train_labels, validation_data=(valid_images, valid_labels),\n",
        "                        epochs=100, batch_size=200,\n",
        "                        callbacks=[cb_checkpoint, cb_early_stopping])"
      ],
      "metadata": {
        "colab": {
          "base_uri": "https://localhost:8080/"
        },
        "id": "9TDDY8hLomIq",
        "outputId": "e918ee43-a220-4540-b528-12e5095ab8ec"
      },
      "execution_count": 30,
      "outputs": [
        {
          "output_type": "stream",
          "name": "stdout",
          "text": [
            "Epoch 1/100\n",
            "300/300 [==============================] - ETA: 0s - loss: 1.3155 - accuracy: 0.8706\n",
            "Epoch 1: val_accuracy improved from -inf to 0.97141, saving model to /content/drive/MyDrive/딥러닝 NLP/models/mmist-vgg-1-0.10049-0.97141.hdf5\n",
            "300/300 [==============================] - 23s 68ms/step - loss: 1.3155 - accuracy: 0.8706 - val_loss: 0.1005 - val_accuracy: 0.9714\n",
            "Epoch 2/100\n",
            "300/300 [==============================] - ETA: 0s - loss: 0.1813 - accuracy: 0.9448\n",
            "Epoch 2: val_accuracy improved from 0.97141 to 0.97706, saving model to /content/drive/MyDrive/딥러닝 NLP/models/mmist-vgg-2-0.07620-0.97706.hdf5\n",
            "300/300 [==============================] - 20s 66ms/step - loss: 0.1813 - accuracy: 0.9448 - val_loss: 0.0762 - val_accuracy: 0.9771\n",
            "Epoch 3/100\n",
            "300/300 [==============================] - ETA: 0s - loss: 0.1675 - accuracy: 0.9494\n",
            "Epoch 3: val_accuracy improved from 0.97706 to 0.97800, saving model to /content/drive/MyDrive/딥러닝 NLP/models/mmist-vgg-3-0.07279-0.97800.hdf5\n",
            "300/300 [==============================] - 20s 65ms/step - loss: 0.1675 - accuracy: 0.9494 - val_loss: 0.0728 - val_accuracy: 0.9780\n",
            "Epoch 4/100\n",
            "300/300 [==============================] - ETA: 0s - loss: 0.1569 - accuracy: 0.9509\n",
            "Epoch 4: val_accuracy improved from 0.97800 to 0.98224, saving model to /content/drive/MyDrive/딥러닝 NLP/models/mmist-vgg-4-0.05875-0.98224.hdf5\n",
            "300/300 [==============================] - 20s 65ms/step - loss: 0.1569 - accuracy: 0.9509 - val_loss: 0.0588 - val_accuracy: 0.9822\n",
            "Epoch 5/100\n",
            "300/300 [==============================] - ETA: 0s - loss: 0.1530 - accuracy: 0.9523\n",
            "Epoch 5: val_accuracy did not improve from 0.98224\n",
            "300/300 [==============================] - 20s 65ms/step - loss: 0.1530 - accuracy: 0.9523 - val_loss: 0.0784 - val_accuracy: 0.9794\n",
            "Epoch 6/100\n",
            "300/300 [==============================] - ETA: 0s - loss: 0.1451 - accuracy: 0.9530\n",
            "Epoch 6: val_accuracy improved from 0.98224 to 0.98294, saving model to /content/drive/MyDrive/딥러닝 NLP/models/mmist-vgg-6-0.06135-0.98294.hdf5\n",
            "300/300 [==============================] - 20s 66ms/step - loss: 0.1451 - accuracy: 0.9530 - val_loss: 0.0613 - val_accuracy: 0.9829\n",
            "Epoch 7/100\n",
            "300/300 [==============================] - ETA: 0s - loss: 0.1361 - accuracy: 0.9560\n",
            "Epoch 7: val_accuracy did not improve from 0.98294\n",
            "300/300 [==============================] - 20s 65ms/step - loss: 0.1361 - accuracy: 0.9560 - val_loss: 0.0641 - val_accuracy: 0.9798\n",
            "Epoch 8/100\n",
            "300/300 [==============================] - ETA: 0s - loss: 0.1142 - accuracy: 0.9629\n",
            "Epoch 8: val_accuracy did not improve from 0.98294\n",
            "300/300 [==============================] - 20s 65ms/step - loss: 0.1142 - accuracy: 0.9629 - val_loss: 0.0599 - val_accuracy: 0.9828\n",
            "Epoch 9/100\n",
            "300/300 [==============================] - ETA: 0s - loss: 0.1187 - accuracy: 0.9611\n",
            "Epoch 9: val_accuracy did not improve from 0.98294\n",
            "300/300 [==============================] - 20s 65ms/step - loss: 0.1187 - accuracy: 0.9611 - val_loss: 0.0582 - val_accuracy: 0.9827\n",
            "Epoch 10/100\n",
            "300/300 [==============================] - ETA: 0s - loss: 0.1106 - accuracy: 0.9634\n",
            "Epoch 10: val_accuracy did not improve from 0.98294\n",
            "300/300 [==============================] - 20s 68ms/step - loss: 0.1106 - accuracy: 0.9634 - val_loss: 0.0661 - val_accuracy: 0.9828\n",
            "Epoch 11/100\n",
            "300/300 [==============================] - ETA: 0s - loss: 0.1083 - accuracy: 0.9638\n",
            "Epoch 11: val_accuracy improved from 0.98294 to 0.98506, saving model to /content/drive/MyDrive/딥러닝 NLP/models/mmist-vgg-11-0.05014-0.98506.hdf5\n",
            "300/300 [==============================] - 20s 68ms/step - loss: 0.1083 - accuracy: 0.9638 - val_loss: 0.0501 - val_accuracy: 0.9851\n",
            "Epoch 12/100\n",
            "300/300 [==============================] - ETA: 0s - loss: 0.1108 - accuracy: 0.9635\n",
            "Epoch 12: val_accuracy improved from 0.98506 to 0.98518, saving model to /content/drive/MyDrive/딥러닝 NLP/models/mmist-vgg-12-0.04648-0.98518.hdf5\n",
            "300/300 [==============================] - 20s 66ms/step - loss: 0.1108 - accuracy: 0.9635 - val_loss: 0.0465 - val_accuracy: 0.9852\n",
            "Epoch 13/100\n",
            "300/300 [==============================] - ETA: 0s - loss: 0.1021 - accuracy: 0.9647\n",
            "Epoch 13: val_accuracy did not improve from 0.98518\n",
            "300/300 [==============================] - 20s 65ms/step - loss: 0.1021 - accuracy: 0.9647 - val_loss: 0.0607 - val_accuracy: 0.9827\n",
            "Epoch 14/100\n",
            "300/300 [==============================] - ETA: 0s - loss: 0.1003 - accuracy: 0.9663\n",
            "Epoch 14: val_accuracy improved from 0.98518 to 0.98576, saving model to /content/drive/MyDrive/딥러닝 NLP/models/mmist-vgg-14-0.05541-0.98576.hdf5\n",
            "300/300 [==============================] - 20s 68ms/step - loss: 0.1003 - accuracy: 0.9663 - val_loss: 0.0554 - val_accuracy: 0.9858\n",
            "Epoch 15/100\n",
            "300/300 [==============================] - ETA: 0s - loss: 0.0891 - accuracy: 0.9700\n",
            "Epoch 15: val_accuracy improved from 0.98576 to 0.98800, saving model to /content/drive/MyDrive/딥러닝 NLP/models/mmist-vgg-15-0.04046-0.98800.hdf5\n",
            "300/300 [==============================] - 20s 68ms/step - loss: 0.0891 - accuracy: 0.9700 - val_loss: 0.0405 - val_accuracy: 0.9880\n",
            "Epoch 16/100\n",
            "300/300 [==============================] - ETA: 0s - loss: 0.0948 - accuracy: 0.9684\n",
            "Epoch 16: val_accuracy did not improve from 0.98800\n",
            "300/300 [==============================] - 20s 65ms/step - loss: 0.0948 - accuracy: 0.9684 - val_loss: 0.0531 - val_accuracy: 0.9847\n",
            "Epoch 17/100\n",
            "300/300 [==============================] - ETA: 0s - loss: 0.1008 - accuracy: 0.9657\n",
            "Epoch 17: val_accuracy did not improve from 0.98800\n",
            "300/300 [==============================] - 20s 65ms/step - loss: 0.1008 - accuracy: 0.9657 - val_loss: 0.0514 - val_accuracy: 0.9868\n",
            "Epoch 18/100\n",
            "300/300 [==============================] - ETA: 0s - loss: 0.0973 - accuracy: 0.9672\n",
            "Epoch 18: val_accuracy improved from 0.98800 to 0.98859, saving model to /content/drive/MyDrive/딥러닝 NLP/models/mmist-vgg-18-0.04607-0.98859.hdf5\n",
            "300/300 [==============================] - 20s 67ms/step - loss: 0.0973 - accuracy: 0.9672 - val_loss: 0.0461 - val_accuracy: 0.9886\n",
            "Epoch 19/100\n",
            "300/300 [==============================] - ETA: 0s - loss: 0.0980 - accuracy: 0.9661\n",
            "Epoch 19: val_accuracy did not improve from 0.98859\n",
            "300/300 [==============================] - 21s 68ms/step - loss: 0.0980 - accuracy: 0.9661 - val_loss: 0.0452 - val_accuracy: 0.9868\n",
            "Epoch 20/100\n",
            "300/300 [==============================] - ETA: 0s - loss: 0.0903 - accuracy: 0.9692\n",
            "Epoch 20: val_accuracy did not improve from 0.98859\n",
            "300/300 [==============================] - 21s 71ms/step - loss: 0.0903 - accuracy: 0.9692 - val_loss: 0.0536 - val_accuracy: 0.9842\n",
            "Epoch 21/100\n",
            "300/300 [==============================] - ETA: 0s - loss: 0.1086 - accuracy: 0.9609\n",
            "Epoch 21: val_accuracy did not improve from 0.98859\n",
            "300/300 [==============================] - 21s 68ms/step - loss: 0.1086 - accuracy: 0.9609 - val_loss: 0.0542 - val_accuracy: 0.9833\n",
            "Epoch 22/100\n",
            "300/300 [==============================] - ETA: 0s - loss: 0.1033 - accuracy: 0.9636\n",
            "Epoch 22: val_accuracy did not improve from 0.98859\n",
            "300/300 [==============================] - 20s 65ms/step - loss: 0.1033 - accuracy: 0.9636 - val_loss: 0.0479 - val_accuracy: 0.9842\n",
            "Epoch 23/100\n",
            "300/300 [==============================] - ETA: 0s - loss: 0.1013 - accuracy: 0.9640\n",
            "Epoch 23: val_accuracy did not improve from 0.98859\n",
            "300/300 [==============================] - 20s 65ms/step - loss: 0.1013 - accuracy: 0.9640 - val_loss: 0.0669 - val_accuracy: 0.9808\n",
            "Epoch 24/100\n",
            "300/300 [==============================] - ETA: 0s - loss: 0.0964 - accuracy: 0.9665\n",
            "Epoch 24: val_accuracy did not improve from 0.98859\n",
            "300/300 [==============================] - 20s 65ms/step - loss: 0.0964 - accuracy: 0.9665 - val_loss: 0.0502 - val_accuracy: 0.9872\n"
          ]
        }
      ]
    },
    {
      "cell_type": "code",
      "source": [
        "!ls -la '/content/drive/MyDrive/딥러닝 NLP/models/'"
      ],
      "metadata": {
        "colab": {
          "base_uri": "https://localhost:8080/"
        },
        "id": "JzeFsokBu9Wl",
        "outputId": "7c2983f0-5a8e-4988-b611-23c53a3a8c25"
      },
      "execution_count": 31,
      "outputs": [
        {
          "output_type": "stream",
          "name": "stdout",
          "text": [
            "total 211738\n",
            "-rw------- 1 root root  404552 Mar  3 02:36 mmist-1-0.06941-0.97847.hdf5\n",
            "-rw------- 1 root root  404552 Mar  3 02:36 mmist-11-0.02098-0.99376.hdf5\n",
            "-rw------- 1 root root  419440 Mar  4 04:58 mmist-1-2.95404-0.21000.hdf5\n",
            "-rw------- 1 root root  419440 Mar  4 06:04 mmist-13-0.02251-0.99341.hdf5\n",
            "-rw------- 1 root root  419440 Mar  4 06:03 mmist-1-4.40705-0.11294.hdf5\n",
            "-rw------- 1 root root  419664 Mar  4 05:33 mmist-1-5.05078-0.11235.hdf5\n",
            "-rw------- 1 root root  404552 Mar  3 02:37 mmist-16-0.02293-0.99412.hdf5\n",
            "-rw------- 1 root root  419440 Mar  4 06:05 mmist-18-0.02067-0.99376.hdf5\n",
            "-rw------- 1 root root  404552 Mar  3 02:37 mmist-20-0.02262-0.99424.hdf5\n",
            "-rw------- 1 root root  404552 Mar  3 02:36 mmist-2-0.04657-0.98506.hdf5\n",
            "-rw------- 1 root root  419440 Mar  4 06:03 mmist-2-0.05850-0.98282.hdf5\n",
            "-rw------- 1 root root  419664 Mar  4 05:33 mmist-2-0.07485-0.97718.hdf5\n",
            "-rw------- 1 root root  419440 Mar  4 04:58 mmist-2-0.12078-0.96376.hdf5\n",
            "-rw------- 1 root root  404552 Mar  3 02:37 mmist-24-0.02115-0.99506.hdf5\n",
            "-rw------- 1 root root  419664 Mar  4 05:33 mmist-3-0.03096-0.99071.hdf5\n",
            "-rw------- 1 root root  404552 Mar  3 02:36 mmist-3-0.04129-0.98753.hdf5\n",
            "-rw------- 1 root root  419440 Mar  4 04:58 mmist-3-0.08658-0.97176.hdf5\n",
            "-rw------- 1 root root  419440 Mar  4 06:03 mmist-4-0.02817-0.99106.hdf5\n",
            "-rw------- 1 root root  419440 Mar  4 04:59 mmist-4-0.03110-0.99082.hdf5\n",
            "-rw------- 1 root root  404552 Mar  3 02:36 mmist-4-0.03284-0.98976.hdf5\n",
            "-rw------- 1 root root  404552 Mar  3 02:36 mmist-5-0.02794-0.99106.hdf5\n",
            "-rw------- 1 root root  419664 Mar  4 05:34 mmist-6-0.02106-0.99329.hdf5\n",
            "-rw------- 1 root root  419440 Mar  4 04:59 mmist-6-0.02188-0.99376.hdf5\n",
            "-rw------- 1 root root  404552 Mar  3 02:36 mmist-6-0.02414-0.99212.hdf5\n",
            "-rw------- 1 root root  419440 Mar  4 06:04 mmist-6-0.02524-0.99118.hdf5\n",
            "-rw------- 1 root root  419664 Mar  4 05:34 mmist-7-0.01984-0.99471.hdf5\n",
            "-rw------- 1 root root  419440 Mar  4 06:04 mmist-7-0.02285-0.99329.hdf5\n",
            "-rw------- 1 root root  419664 Mar  4 05:34 mmist-8-0.01944-0.99482.hdf5\n",
            "-rw------- 1 root root  404552 Mar  3 02:36 mmist-8-0.02252-0.99224.hdf5\n",
            "-rw------- 1 root root 9309328 Mar  4 06:57 mmist-vgg-1-0.10049-0.97141.hdf5\n",
            "-rw------- 1 root root 9309104 Mar  4 06:44 mmist-vgg-10-1.94333-0.30612.hdf5\n",
            "-rw------- 1 root root 9309328 Mar  4 07:00 mmist-vgg-11-0.05014-0.98506.hdf5\n",
            "-rw------- 1 root root 9309104 Mar  4 06:44 mmist-vgg-11-1.91491-0.31247.hdf5\n",
            "-rw------- 1 root root 9309328 Mar  4 07:01 mmist-vgg-12-0.04648-0.98518.hdf5\n",
            "-rw------- 1 root root 9309104 Mar  4 06:41 mmist-vgg-1-2.14676-0.18176.hdf5\n",
            "-rw------- 1 root root 9309328 Mar  4 07:01 mmist-vgg-14-0.05541-0.98576.hdf5\n",
            "-rw------- 1 root root 9309104 Mar  4 06:45 mmist-vgg-14-1.90562-0.31941.hdf5\n",
            "-rw------- 1 root root 9309328 Mar  4 07:02 mmist-vgg-15-0.04046-0.98800.hdf5\n",
            "-rw------- 1 root root 9309104 Mar  4 06:46 mmist-vgg-16-1.89750-0.32200.hdf5\n",
            "-rw------- 1 root root 9309328 Mar  4 07:03 mmist-vgg-18-0.04607-0.98859.hdf5\n",
            "-rw------- 1 root root 9309328 Mar  4 06:57 mmist-vgg-2-0.07620-0.97706.hdf5\n",
            "-rw------- 1 root root 9309104 Mar  4 06:41 mmist-vgg-2-2.08030-0.23047.hdf5\n",
            "-rw------- 1 root root 9309328 Mar  4 06:58 mmist-vgg-3-0.07279-0.97800.hdf5\n",
            "-rw------- 1 root root 9309104 Mar  4 06:41 mmist-vgg-3-2.04972-0.25682.hdf5\n",
            "-rw------- 1 root root 9309328 Mar  4 06:58 mmist-vgg-4-0.05875-0.98224.hdf5\n",
            "-rw------- 1 root root 9309104 Mar  4 06:42 mmist-vgg-4-2.03419-0.26118.hdf5\n",
            "-rw------- 1 root root 9309104 Mar  4 06:42 mmist-vgg-5-2.03387-0.26588.hdf5\n",
            "-rw------- 1 root root 9309328 Mar  4 06:59 mmist-vgg-6-0.06135-0.98294.hdf5\n",
            "-rw------- 1 root root 9309104 Mar  4 06:43 mmist-vgg-7-2.00750-0.27518.hdf5\n",
            "-rw------- 1 root root 9309104 Mar  4 06:43 mmist-vgg-8-1.97807-0.30165.hdf5\n",
            "-rw------- 1 root root 9309104 Mar  4 06:43 mmist-vgg-9-1.95809-0.30306.hdf5\n"
          ]
        }
      ]
    },
    {
      "cell_type": "code",
      "source": [
        "saved_path = \"/content/drive/MyDrive/딥러닝 NLP/models/mmist-vgg-15-0.04046-0.98800.hdf5\"\n",
        "custom_model.load_weights(saved_path)\n",
        "\n",
        "custom_model.evaluate(test_images, test_labels)"
      ],
      "metadata": {
        "colab": {
          "base_uri": "https://localhost:8080/"
        },
        "id": "6-qXxNvEo3PC",
        "outputId": "09cddbaa-aeae-46ea-f1cb-c2ac91049aff"
      },
      "execution_count": 32,
      "outputs": [
        {
          "output_type": "stream",
          "name": "stdout",
          "text": [
            "47/47 [==============================] - 1s 17ms/step - loss: 0.0499 - accuracy: 0.9880\n"
          ]
        },
        {
          "output_type": "execute_result",
          "data": {
            "text/plain": [
              "[0.049854181706905365, 0.9879999756813049]"
            ]
          },
          "metadata": {},
          "execution_count": 32
        }
      ]
    },
    {
      "cell_type": "code",
      "source": [
        ""
      ],
      "metadata": {
        "id": "nJZn4HXVvgth"
      },
      "execution_count": null,
      "outputs": []
    }
  ]
}