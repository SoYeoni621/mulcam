{
  "nbformat": 4,
  "nbformat_minor": 0,
  "metadata": {
    "colab": {
      "name": "0316_Wed_EDA_preprocess.ipynb",
      "provenance": [],
      "mount_file_id": "1oTW5oev6fG2jNQkkfIOLkbI7V_JmuA6Y",
      "authorship_tag": "ABX9TyMF6XsHhZcY2l5/mKjv3gVW",
      "include_colab_link": true
    },
    "kernelspec": {
      "name": "python3",
      "display_name": "Python 3"
    },
    "language_info": {
      "name": "python"
    }
  },
  "cells": [
    {
      "cell_type": "markdown",
      "metadata": {
        "id": "view-in-github",
        "colab_type": "text"
      },
      "source": [
        "<a href=\"https://colab.research.google.com/github/SoYeoni621/mulcam/blob/master/0316_Wed_EDA_preprocess.ipynb\" target=\"_parent\"><img src=\"https://colab.research.google.com/assets/colab-badge.svg\" alt=\"Open In Colab\"/></a>"
      ]
    },
    {
      "cell_type": "code",
      "source": [
        "import sys\n",
        "sys.path.append('/content/drive/MyDrive/딥러닝 NLP')"
      ],
      "metadata": {
        "id": "zzDXFRC-Y3Yi"
      },
      "execution_count": 1,
      "outputs": []
    },
    {
      "cell_type": "code",
      "source": [
        "!pip install konlpy"
      ],
      "metadata": {
        "colab": {
          "base_uri": "https://localhost:8080/"
        },
        "id": "C5RWQHitbB-P",
        "outputId": "655c4577-6a4a-451a-afb2-2f7ac12d35af"
      },
      "execution_count": 2,
      "outputs": [
        {
          "output_type": "stream",
          "name": "stdout",
          "text": [
            "Collecting konlpy\n",
            "  Downloading konlpy-0.6.0-py2.py3-none-any.whl (19.4 MB)\n",
            "\u001b[K     |████████████████████████████████| 19.4 MB 5.9 MB/s \n",
            "\u001b[?25hRequirement already satisfied: lxml>=4.1.0 in /usr/local/lib/python3.7/dist-packages (from konlpy) (4.2.6)\n",
            "Collecting JPype1>=0.7.0\n",
            "  Downloading JPype1-1.3.0-cp37-cp37m-manylinux_2_5_x86_64.manylinux1_x86_64.whl (448 kB)\n",
            "\u001b[K     |████████████████████████████████| 448 kB 64.2 MB/s \n",
            "\u001b[?25hRequirement already satisfied: numpy>=1.6 in /usr/local/lib/python3.7/dist-packages (from konlpy) (1.21.5)\n",
            "Requirement already satisfied: typing-extensions in /usr/local/lib/python3.7/dist-packages (from JPype1>=0.7.0->konlpy) (3.10.0.2)\n",
            "Installing collected packages: JPype1, konlpy\n",
            "Successfully installed JPype1-1.3.0 konlpy-0.6.0\n"
          ]
        }
      ]
    },
    {
      "cell_type": "code",
      "execution_count": 3,
      "metadata": {
        "id": "K--J8tHpYSZG"
      },
      "outputs": [],
      "source": [
        "from preprocess import *\n"
      ]
    },
    {
      "cell_type": "code",
      "source": [
        "!pwd"
      ],
      "metadata": {
        "colab": {
          "base_uri": "https://localhost:8080/"
        },
        "id": "53U_vagNYuET",
        "outputId": "2115a58c-1a69-4c2e-ac1c-88a2fa5b7320"
      },
      "execution_count": 4,
      "outputs": [
        {
          "output_type": "stream",
          "name": "stdout",
          "text": [
            "/content\n"
          ]
        }
      ]
    },
    {
      "cell_type": "code",
      "source": [
        "PATH = '/content/drive/MyDrive/딥러닝 NLP/챗봇/ChatBotData.csv_short'\n",
        "VOCAB_PATH = '/content/drive/MyDrive/딥러닝 NLP/챗봇/vocabulary.txt'"
      ],
      "metadata": {
        "id": "HdNHCfyNZNr9"
      },
      "execution_count": 5,
      "outputs": []
    },
    {
      "cell_type": "code",
      "source": [
        "import pandas as pd"
      ],
      "metadata": {
        "id": "xK4vrcI6EqUH"
      },
      "execution_count": 6,
      "outputs": []
    },
    {
      "cell_type": "code",
      "source": [
        "inputs, outputs = load_data(PATH)"
      ],
      "metadata": {
        "id": "2eiyn3ZuZ0ak"
      },
      "execution_count": 7,
      "outputs": []
    },
    {
      "cell_type": "code",
      "source": [
        "outputs"
      ],
      "metadata": {
        "colab": {
          "base_uri": "https://localhost:8080/"
        },
        "id": "oC3thDQkbH_d",
        "outputId": "ec2a9f61-8a4a-40ff-b959-b3722406faaf"
      },
      "execution_count": 8,
      "outputs": [
        {
          "output_type": "execute_result",
          "data": {
            "text/plain": [
              "['그 사람도 그럴 거예요.',\n",
              " '그 사람도 그럴 거예요.',\n",
              " '혼자를 즐기세요.',\n",
              " '돈은 다시 들어올 거예요.',\n",
              " '땀을 식혀주세요.',\n",
              " '어서 잊고 새출발 하세요.',\n",
              " '빨리 집에 돌아가서 끄고 나오세요.',\n",
              " '빨리 집에 돌아가서 끄고 나오세요.',\n",
              " '다음 달에는 더 절약해봐요.',\n",
              " '따뜻하게 사세요!',\n",
              " '마음을 열 때까지 설득해보세요.',\n",
              " '운동을 함께 해보세요.',\n",
              " '평소에 필요한 것 생각해보세요.',\n",
              " '평소에 필요했던 게 좋을 것 같아요.',\n",
              " '전생에 나라를 구하셨나요.',\n",
              " '결단은 빠를수록 좋아요.',\n",
              " '거짓말 적당히 하세요.',\n",
              " '너무 집착하지 마세요.',\n",
              " '운동을 함께 해보세요.',\n",
              " '전생에 나라를 구하셨나요.']"
            ]
          },
          "metadata": {},
          "execution_count": 8
        }
      ]
    },
    {
      "cell_type": "code",
      "source": [
        "char2idx, idx2char, vocab_size = load_vocabulary(PATH, VOCAB_PATH, tokenize_as_morph=True)"
      ],
      "metadata": {
        "id": "rDoGnUqfdoxb"
      },
      "execution_count": 9,
      "outputs": []
    },
    {
      "cell_type": "code",
      "source": [
        "len(char2idx), len(idx2char), vocab_size"
      ],
      "metadata": {
        "colab": {
          "base_uri": "https://localhost:8080/"
        },
        "id": "b7Pbw_hB9i0_",
        "outputId": "dd074ca6-afbf-48be-abe1-c9971832efbe"
      },
      "execution_count": 10,
      "outputs": [
        {
          "output_type": "execute_result",
          "data": {
            "text/plain": [
              "(125, 125, 125)"
            ]
          },
          "metadata": {},
          "execution_count": 10
        }
      ]
    },
    {
      "cell_type": "code",
      "source": [
        "index_inputs, input_seq_len = enc_processing(inputs, char2idx, tokenize_as_morph=True)\n",
        "index_outputs, output_seq_len = dec_output_processing(outputs, char2idx, tokenize_as_morph=False)\n",
        "index_targets = dec_target_processing(outputs, char2idx, tokenize_as_morph=False)"
      ],
      "metadata": {
        "colab": {
          "base_uri": "https://localhost:8080/"
        },
        "id": "d1EZGxzt9rOx",
        "outputId": "cc485925-ee28-4517-8e11-bf899318324b"
      },
      "execution_count": 11,
      "outputs": [
        {
          "output_type": "stream",
          "name": "stderr",
          "text": [
            "100%|██████████| 20/20 [00:07<00:00,  2.54it/s]\n",
            "/content/drive/MyDrive/딥러닝 NLP/preprocess.py:106: VisibleDeprecationWarning: Creating an ndarray from ragged nested sequences (which is a list-or-tuple of lists-or-tuples-or ndarrays with different lengths or shapes) is deprecated. If you meant to do this, you must specify 'dtype=object' when creating the ndarray.\n",
            "  return np.asarray(sequences_input_index), sequences_length\n",
            "/content/drive/MyDrive/딥러닝 NLP/preprocess.py:175: VisibleDeprecationWarning: Creating an ndarray from ragged nested sequences (which is a list-or-tuple of lists-or-tuples-or ndarrays with different lengths or shapes) is deprecated. If you meant to do this, you must specify 'dtype=object' when creating the ndarray.\n",
            "  return np.asarray(sequences_target_index)\n"
          ]
        }
      ]
    },
    {
      "cell_type": "code",
      "source": [
        "type(index_outputs)"
      ],
      "metadata": {
        "colab": {
          "base_uri": "https://localhost:8080/"
        },
        "id": "RUMqChoe36lk",
        "outputId": "fc864c11-f203-4dfa-a574-c57f9a242e46"
      },
      "execution_count": 17,
      "outputs": [
        {
          "output_type": "execute_result",
          "data": {
            "text/plain": [
              "numpy.ndarray"
            ]
          },
          "metadata": {},
          "execution_count": 17
        }
      ]
    },
    {
      "cell_type": "code",
      "source": [
        "data_configs = {}\n",
        "data_configs['char2idx'] = char2idx # 딕셔너리\n",
        "data_configs['idx2char'] = idx2char \n",
        "data_configs['vocab_size'] = vocab_size\n",
        "data_configs['pad_symbol'] = PAD\n",
        "data_configs['std_symbol'] = SOS\n",
        "data_configs['end_symbol'] = EOS\n",
        "data_configs['unk_symbol'] = UNK"
      ],
      "metadata": {
        "id": "7FPE6tMh2Rlg"
      },
      "execution_count": 12,
      "outputs": []
    },
    {
      "cell_type": "code",
      "source": [
        "import json\n",
        "\n",
        "DATA_IN_PATH = '/content/drive/MyDrive/딥러닝 NLP/챗봇/'\n",
        "TRAIN_INPUTS = 'train_inputs.npy'\n",
        "TRAIN_OUTPUTS = 'train_outputs.npy'\n",
        "TRAIN_TARGETS = 'train_targets.npy'\n",
        "DATA_CONFIGS = 'data_configs.json'\n",
        "\n",
        "np.save(open(DATA_IN_PATH + TRAIN_INPUTS, 'wb'), index_inputs)\n",
        "np.save(open(DATA_IN_PATH + TRAIN_OUTPUTS , 'wb'), index_outputs)\n",
        "np.save(open(DATA_IN_PATH + TRAIN_TARGETS , 'wb'), index_targets)\n",
        "\n",
        "json.dump(data_configs, open(DATA_IN_PATH + DATA_CONFIGS, 'w'))"
      ],
      "metadata": {
        "id": "NcqsUlm-3Utt"
      },
      "execution_count": 15,
      "outputs": []
    },
    {
      "cell_type": "code",
      "source": [
        "char2idx"
      ],
      "metadata": {
        "colab": {
          "base_uri": "https://localhost:8080/"
        },
        "id": "12GXsPjZ3ru6",
        "outputId": "e63bfeeb-bc8a-4737-87f6-f6f712229c62"
      },
      "execution_count": 20,
      "outputs": [
        {
          "output_type": "execute_result",
          "data": {
            "text/plain": [
              "{'<EOS>': 2,\n",
              " '<PAD>': 0,\n",
              " '<SOS>': 1,\n",
              " '<UNK>': 3,\n",
              " '가': 54,\n",
              " '가끔': 83,\n",
              " '가난한': 116,\n",
              " '가만': 101,\n",
              " '가상': 65,\n",
              " '가스': 85,\n",
              " '감기': 47,\n",
              " '갔어': 50,\n",
              " '같아': 97,\n",
              " '같아요': 122,\n",
              " '거': 33,\n",
              " '거짓말': 31,\n",
              " '걸리겠어': 15,\n",
              " '것': 41,\n",
              " '게': 117,\n",
              " '결단': 34,\n",
              " '교회': 71,\n",
              " '구': 110,\n",
              " '궁금해': 24,\n",
              " '그': 45,\n",
              " '그럴': 39,\n",
              " '까지': 67,\n",
              " '끄고': 76,\n",
              " '나': 44,\n",
              " '나갔어': 121,\n",
              " '나라': 60,\n",
              " '나오세요': 103,\n",
              " '나온거': 94,\n",
              " '나왔다': 123,\n",
              " '난다': 18,\n",
              " '남자친구': 23,\n",
              " '너무': 9,\n",
              " '다시': 56,\n",
              " '다음': 38,\n",
              " '달': 30,\n",
              " '더': 109,\n",
              " '데려가고': 28,\n",
              " '도': 7,\n",
              " '돈': 74,\n",
              " '돌아가서': 106,\n",
              " '들어올': 26,\n",
              " '따뜻하게': 61,\n",
              " '따라': 99,\n",
              " '땀': 111,\n",
              " '때': 17,\n",
              " '또': 73,\n",
              " '로': 95,\n",
              " '를': 108,\n",
              " '마세요': 69,\n",
              " '마음': 92,\n",
              " '만': 90,\n",
              " '많이': 29,\n",
              " '망함': 14,\n",
              " '뭐': 10,\n",
              " '뭘': 79,\n",
              " '믿어줘': 13,\n",
              " '바빠': 52,\n",
              " '보인다': 105,\n",
              " '불': 78,\n",
              " '비': 5,\n",
              " '비싼데': 43,\n",
              " '빠를수록': 12,\n",
              " '빨리': 114,\n",
              " '사람': 37,\n",
              " '사세요': 58,\n",
              " '새': 113,\n",
              " '생각': 124,\n",
              " '생일': 35,\n",
              " '선물': 32,\n",
              " '설득': 107,\n",
              " '설움': 70,\n",
              " '승진': 46,\n",
              " '식혀주세요': 48,\n",
              " '싶어': 4,\n",
              " '안': 66,\n",
              " '어서': 98,\n",
              " '에': 25,\n",
              " '에는': 16,\n",
              " '열': 63,\n",
              " '예요': 20,\n",
              " '오늘': 77,\n",
              " '운동': 6,\n",
              " '은': 115,\n",
              " '을': 36,\n",
              " '인게': 49,\n",
              " '인데': 55,\n",
              " '있어도': 120,\n",
              " '잊고': 11,\n",
              " '자의': 112,\n",
              " '잘생겼어': 104,\n",
              " '적당히': 93,\n",
              " '전생': 88,\n",
              " '절약': 118,\n",
              " '좀': 59,\n",
              " '좋다': 51,\n",
              " '좋아요': 86,\n",
              " '좋을': 22,\n",
              " '좋을까': 100,\n",
              " '줄까': 19,\n",
              " '즐기세요': 75,\n",
              " '질린다': 84,\n",
              " '집': 80,\n",
              " '집착': 40,\n",
              " '쫄딱': 81,\n",
              " '출발': 82,\n",
              " '켜고': 64,\n",
              " '켜놓고': 89,\n",
              " '평소': 57,\n",
              " '필요한': 87,\n",
              " '필요했던': 91,\n",
              " '하는지': 42,\n",
              " '하세요': 8,\n",
              " '하셨나요': 102,\n",
              " '하지': 62,\n",
              " '함께': 96,\n",
              " '해': 53,\n",
              " '해보세요': 119,\n",
              " '해봐요': 21,\n",
              " '혼자': 72,\n",
              " '화폐': 27,\n",
              " '훈훈해': 68}"
            ]
          },
          "metadata": {},
          "execution_count": 20
        }
      ]
    },
    {
      "cell_type": "code",
      "source": [
        ""
      ],
      "metadata": {
        "id": "Nrc5lXv64KGP"
      },
      "execution_count": null,
      "outputs": []
    }
  ]
}