{
  "nbformat": 4,
  "nbformat_minor": 0,
  "metadata": {
    "colab": {
      "name": "02_16_Wed.ipynb",
      "provenance": [],
      "authorship_tag": "ABX9TyMU6QYwNzMbS64cxBTEO+2V",
      "include_colab_link": true
    },
    "kernelspec": {
      "name": "python3",
      "display_name": "Python 3"
    },
    "language_info": {
      "name": "python"
    }
  },
  "cells": [
    {
      "cell_type": "markdown",
      "metadata": {
        "id": "view-in-github",
        "colab_type": "text"
      },
      "source": [
        "<a href=\"https://colab.research.google.com/github/SoYeoni621/mulcam/blob/master/02_16_Wed.ipynb\" target=\"_parent\"><img src=\"https://colab.research.google.com/assets/colab-badge.svg\" alt=\"Open In Colab\"/></a>"
      ]
    },
    {
      "cell_type": "markdown",
      "source": [
        "# 신경망 학습(책 4장)"
      ],
      "metadata": {
        "id": "G0jHPA4z9iJe"
      }
    },
    {
      "cell_type": "code",
      "execution_count": 1,
      "metadata": {
        "id": "7HI73ZAK3-LT"
      },
      "outputs": [],
      "source": [
        "import numpy as np"
      ]
    },
    {
      "cell_type": "code",
      "source": [
        "y = [0.1, 0.05, 0.6, 0.0, 0.05, 0.1, 0.0, 0.1, 0.0, 0.0]\n",
        "t = [0, 0, 1, 0, 0, 0, 0, 0, 0, 0]"
      ],
      "metadata": {
        "id": "W6G6OjY6LtHH"
      },
      "execution_count": 2,
      "outputs": []
    },
    {
      "cell_type": "code",
      "source": [
        "def sum_squares_error(y, t):\n",
        "  return 0.5 * np.sum((y-t)**2)"
      ],
      "metadata": {
        "id": "do9sl2p6Lzk0"
      },
      "execution_count": 8,
      "outputs": []
    },
    {
      "cell_type": "code",
      "source": [
        "sum_squares_error(np.array(y), np.array(t))"
      ],
      "metadata": {
        "colab": {
          "base_uri": "https://localhost:8080/"
        },
        "id": "BCIUz5cFMIfx",
        "outputId": "78d0582c-2f2d-45fa-886e-c3b8baa0eb4b"
      },
      "execution_count": 9,
      "outputs": [
        {
          "output_type": "execute_result",
          "data": {
            "text/plain": [
              "0.09750000000000003"
            ]
          },
          "metadata": {},
          "execution_count": 9
        }
      ]
    },
    {
      "cell_type": "code",
      "source": [
        "y = [0.1, 0.05, 0.6, 0.0, 0.05, 0.1, 0.0, 0.6, 0.0, 0.0]\n",
        "sum_squares_error(np.array(y), np.array(t))"
      ],
      "metadata": {
        "colab": {
          "base_uri": "https://localhost:8080/"
        },
        "id": "Qew6HmVqMjPh",
        "outputId": "3d1cd0f6-e93f-4d54-e9c5-212ff2f633e1"
      },
      "execution_count": 11,
      "outputs": [
        {
          "output_type": "execute_result",
          "data": {
            "text/plain": [
              "0.2725"
            ]
          },
          "metadata": {},
          "execution_count": 11
        }
      ]
    },
    {
      "cell_type": "markdown",
      "source": [
        "# 교차 엔트로피"
      ],
      "metadata": {
        "id": "B1BYemJjOOng"
      }
    },
    {
      "cell_type": "code",
      "source": [
        "def cross_entropy(Y, P):\n",
        "  P = np.array(P)\n",
        "  Y = np.array(Y)\n",
        "  return -np.sum(Y * np.log(P) + (1-Y) * np.log(1-P)).round(3)"
      ],
      "metadata": {
        "id": "fFc2suZyOEjH"
      },
      "execution_count": 26,
      "outputs": []
    },
    {
      "cell_type": "code",
      "source": [
        "P = [[0.6, 0.2, 0.9, 0.3], [0.7, 0.9, 0.2, 0.4]]\n",
        "Y = [[1., 1., 0., 0.], [1., 1., 0., 0.]]"
      ],
      "metadata": {
        "id": "NsmkZPT-OUuh"
      },
      "execution_count": 13,
      "outputs": []
    },
    {
      "cell_type": "code",
      "source": [
        "for p, y in zip(P,Y):\n",
        "  print(cross_entropy(y,p))"
      ],
      "metadata": {
        "colab": {
          "base_uri": "https://localhost:8080/"
        },
        "id": "M8xPwAeFOYqL",
        "outputId": "c1ba94b8-79f4-4dc3-e9cc-d7a7a52f38b2"
      },
      "execution_count": 27,
      "outputs": [
        {
          "output_type": "stream",
          "name": "stdout",
          "text": [
            "4.78\n",
            "1.196\n"
          ]
        }
      ]
    },
    {
      "cell_type": "code",
      "source": [
        "def cross_entropy_error(y, t):\n",
        "  delta = 1e-7\n",
        "  return -np.sum(t * np.log(y + delta))"
      ],
      "metadata": {
        "id": "dNsi7NVlO95M"
      },
      "execution_count": 28,
      "outputs": []
    },
    {
      "cell_type": "code",
      "source": [
        "y = [0.1, 0.05, 0.6, 0.0, 0.05, 0.1, 0.0, 0.1, 0.0, 0.0]\n",
        "t = [0, 0, 1, 0, 0, 0, 0, 0, 0, 0]\n",
        "\n",
        "cross_entropy_error(np.array(y), np.array(t))"
      ],
      "metadata": {
        "colab": {
          "base_uri": "https://localhost:8080/"
        },
        "id": "SwjaJZzdRF64",
        "outputId": "8702f6d9-b5b1-4ac6-df57-ad96cf0496f0"
      },
      "execution_count": 30,
      "outputs": [
        {
          "output_type": "execute_result",
          "data": {
            "text/plain": [
              "0.510825457099338"
            ]
          },
          "metadata": {},
          "execution_count": 30
        }
      ]
    },
    {
      "cell_type": "code",
      "source": [
        "y = [0.1, 0.05, 0.4, 0.0, 0.05, 0.1, 0.0, 0.3, 0.0, 0.0]\n",
        "\n",
        "cross_entropy_error(np.array(y), np.array(t))"
      ],
      "metadata": {
        "colab": {
          "base_uri": "https://localhost:8080/"
        },
        "id": "uVDqVGM2Rjdc",
        "outputId": "bfcd96a0-f15e-47db-b056-48430ef28ef8"
      },
      "execution_count": 31,
      "outputs": [
        {
          "output_type": "execute_result",
          "data": {
            "text/plain": [
              "0.9162904818741863"
            ]
          },
          "metadata": {},
          "execution_count": 31
        }
      ]
    },
    {
      "cell_type": "code",
      "source": [
        "def cross_entropy_error_error(y, t):\n",
        "  if y.ndim == 1:\n",
        "    t = t.reshape(1, t.size)\n",
        "    y = y.reshape(1, y.size) # 1차원이면 나눌 batch가 없으므로 2차원으로 만들어준다.\n",
        "  batch_size = y.shape[0]\n",
        "\n",
        "  delta = 1e-7\n",
        "  return -np.sum(t * np.log(y + delta))/batch_size"
      ],
      "metadata": {
        "id": "VNpOV-cVR5Wy"
      },
      "execution_count": 32,
      "outputs": []
    },
    {
      "cell_type": "code",
      "source": [
        "def numerical_diff(f, x):\n",
        "  h = 1e-4\n",
        "  return (f(x+h) - f(x)) / h"
      ],
      "metadata": {
        "id": "GoS1UIAlwOFj"
      },
      "execution_count": 41,
      "outputs": []
    },
    {
      "cell_type": "code",
      "source": [
        "def numerical_diff(f, x):\n",
        "  h = 1e-4\n",
        "  return (f(x+h) - f(x-h)) / (2*h)"
      ],
      "metadata": {
        "id": "2kvf-zNOxYih"
      },
      "execution_count": 43,
      "outputs": []
    },
    {
      "cell_type": "code",
      "source": [
        "def func_1(x):\n",
        "  return 0.01*x**2 + 0.1*x"
      ],
      "metadata": {
        "id": "J_4ctFSywqwp"
      },
      "execution_count": 37,
      "outputs": []
    },
    {
      "cell_type": "code",
      "source": [
        "numerical_diff(func_1, 5)"
      ],
      "metadata": {
        "colab": {
          "base_uri": "https://localhost:8080/"
        },
        "id": "ABEQMOwRw1Vh",
        "outputId": "b31c4f53-fea2-4c4b-e505-fdcb46cf511c"
      },
      "execution_count": 42,
      "outputs": [
        {
          "output_type": "execute_result",
          "data": {
            "text/plain": [
              "0.20000099999917254"
            ]
          },
          "metadata": {},
          "execution_count": 42
        }
      ]
    },
    {
      "cell_type": "code",
      "source": [
        "numerical_diff(func_1, 5)"
      ],
      "metadata": {
        "colab": {
          "base_uri": "https://localhost:8080/"
        },
        "id": "bJqVpKPGw5Sg",
        "outputId": "880ac6ad-151e-4b3a-8fa1-58faff63339f"
      },
      "execution_count": 44,
      "outputs": [
        {
          "output_type": "execute_result",
          "data": {
            "text/plain": [
              "0.1999999999990898"
            ]
          },
          "metadata": {},
          "execution_count": 44
        }
      ]
    },
    {
      "cell_type": "code",
      "source": [
        "import matplotlib.pylab as plt"
      ],
      "metadata": {
        "id": "bamNWKszxuHM"
      },
      "execution_count": 45,
      "outputs": []
    },
    {
      "cell_type": "code",
      "source": [
        "def tangent_line(f, x):\n",
        "  d = numerical_diff(f, x)\n",
        "  y = f(x) - d*x\n",
        "  return lambda t: d*t + y"
      ],
      "metadata": {
        "id": "Q-uNZTclx7fN"
      },
      "execution_count": 46,
      "outputs": []
    },
    {
      "cell_type": "code",
      "source": [
        "x = np.arange(0.0, 20.0, 0.1)\n",
        "y = func_1(x)\n",
        "\n",
        "# 접선의 기울기\n",
        "tf = tangent_line(func_1, 5)\n",
        "y2 = tf(x)\n",
        "\n",
        "plt.xlabel(\"x\")\n",
        "plt.ylabel(\"f(x)\")\n",
        "plt.plot(x, y)\n",
        "plt.plot(x, y2)\n",
        "plt.show()"
      ],
      "metadata": {
        "colab": {
          "base_uri": "https://localhost:8080/",
          "height": 279
        },
        "id": "dwbUf94jyJCN",
        "outputId": "af76c17b-7608-436c-c093-29a5d8a133fa"
      },
      "execution_count": 48,
      "outputs": [
        {
          "output_type": "display_data",
          "data": {
            "image/png": "[encoded data removed]",
            "text/plain": [
              "<Figure size 432x288 with 1 Axes>"
            ]
          },
          "metadata": {
            "needs_background": "light"
          }
        }
      ]
    },
    {
      "cell_type": "code",
      "source": [
        "def func_2(x):\n",
        "  return x[0]**2 + x[1]**2"
      ],
      "metadata": {
        "id": "1Em_rDqlya6a"
      },
      "execution_count": 49,
      "outputs": []
    },
    {
      "cell_type": "markdown",
      "source": [
        "# 편미분"
      ],
      "metadata": {
        "id": "1TJaWApB1xTB"
      }
    },
    {
      "cell_type": "code",
      "source": [
        "def numerical_gradient(f, x):\n",
        "  h = 1e-4\n",
        "  grad = np.zeros_like(x) #x와 같은 배열 생성\n",
        "\n",
        "  for idx in range(x.size):\n",
        "    tmp_val = x[idx]\n",
        "\n",
        "    #f(x+h)\n",
        "    x[idx] = float(tmp_val) + h\n",
        "    fxh1 = f(x)\n",
        "\n",
        "    #f(x-h)\n",
        "    x[idx] = float(tmp_val) - h\n",
        "    fxh2 = f(x)\n",
        "\n",
        "    grad[idx] = (fxh1 - fxh2) / (2*h)  #미분/기울기\n",
        "    x[idx] = tmp_val   # 값 복원\n",
        " \n",
        "  return grad"
      ],
      "metadata": {
        "id": "8HCwHbxsz239"
      },
      "execution_count": 50,
      "outputs": []
    },
    {
      "cell_type": "code",
      "source": [
        "numerical_gradient(func_2, np.array([3.0, 4.0]))"
      ],
      "metadata": {
        "colab": {
          "base_uri": "https://localhost:8080/"
        },
        "id": "-TuukxpU1N2G",
        "outputId": "a11259e8-4a9d-4d5b-952b-078053062587"
      },
      "execution_count": 51,
      "outputs": [
        {
          "output_type": "execute_result",
          "data": {
            "text/plain": [
              "array([6., 8.])"
            ]
          },
          "metadata": {},
          "execution_count": 51
        }
      ]
    },
    {
      "cell_type": "markdown",
      "source": [
        "# 경사하강법🤔"
      ],
      "metadata": {
        "id": "krK34wAi9s5c"
      }
    },
    {
      "cell_type": "code",
      "source": [
        "def gradient_descent(f, init_x, lr=0.01, step_num=100):\n",
        "  x = init_x\n",
        "  x_history = []\n",
        "\n",
        "  for i in range(step_num):\n",
        "    x_history.append(x.copy())\n",
        "\n",
        "    grad = numerical_gradient(f, x)\n",
        "    x -= lr*grad # x = x - lr*grad\n",
        "\n",
        "  return x, np.array(x_history)"
      ],
      "metadata": {
        "id": "8Ax2V3B24MKG"
      },
      "execution_count": 52,
      "outputs": []
    },
    {
      "cell_type": "code",
      "source": [
        "init_x = np.array([-3.0, 4.0]) # 초기 weight값\n",
        "\n",
        "lr = 0.1\n",
        "step_num = 100\n",
        "x, x_history = gradient_descent(func_2, init_x, lr=lr, step_num=step_num)\n"
      ],
      "metadata": {
        "id": "NRTTOf0-Bs7P"
      },
      "execution_count": 53,
      "outputs": []
    },
    {
      "cell_type": "code",
      "source": [
        "x"
      ],
      "metadata": {
        "colab": {
          "base_uri": "https://localhost:8080/"
        },
        "id": "p4tO5RM1CFSh",
        "outputId": "d16dd779-79c7-45fa-c6de-8cb486777f47"
      },
      "execution_count": 54,
      "outputs": [
        {
          "output_type": "execute_result",
          "data": {
            "text/plain": [
              "array([-6.11110793e-10,  8.14814391e-10])"
            ]
          },
          "metadata": {},
          "execution_count": 54
        }
      ]
    },
    {
      "cell_type": "code",
      "source": [
        "np.set_printoptions(formatter={'float_kind':lambda x: \"{0:0.5f}\".format(x)})"
      ],
      "metadata": {
        "id": "f3AZIOpoCG_-"
      },
      "execution_count": 58,
      "outputs": []
    },
    {
      "cell_type": "code",
      "source": [
        "x_history"
      ],
      "metadata": {
        "id": "Khbb9kmJCJd4"
      },
      "execution_count": null,
      "outputs": []
    },
    {
      "cell_type": "code",
      "source": [
        "def softmax(x):\n",
        "  exp_x = np.exp(x)\n",
        "  sum_exp_x = np.sum(exp_x)\n",
        "  y = exp_x / sum_exp_x\n",
        "\n",
        "  return y"
      ],
      "metadata": {
        "id": "-1TZEvBBC1U6"
      },
      "execution_count": 60,
      "outputs": []
    },
    {
      "cell_type": "code",
      "source": [
        "def _numerical_gradient_no_batch(f, x):\n",
        "  h = 1e-4\n",
        "  grad = np.zeros_like(x) #x와 같은 배열 생성\n",
        "\n",
        "  for idx in range(x.size):\n",
        "    tmp_val = x[idx]\n",
        "\n",
        "    #f(x+h)\n",
        "    x[idx] = float(tmp_val) + h\n",
        "    fxh1 = f(x)\n",
        "\n",
        "    #f(x-h)\n",
        "    x[idx] = float(tmp_val) - h\n",
        "    fxh2 = f(x)\n",
        "\n",
        "    grad[idx] = (fxh1 - fxh2) / (2*h)  #미분/기울기\n",
        "    x[idx] = tmp_val   # 값 복원\n",
        " \n",
        "  return grad"
      ],
      "metadata": {
        "id": "1brCa7ygMvGj"
      },
      "execution_count": 61,
      "outputs": []
    },
    {
      "cell_type": "code",
      "source": [
        "def numerical_gradient(f, X):\n",
        "  if X.ndim == 1:\n",
        "    return _numerical_gradient_no_batch(f, X)\n",
        "  else:\n",
        "    grad = np.zeros_like(X)\n",
        "\n",
        "    for idx, x in enumerate(X):\n",
        "      grad[idx] = _numerical_gradient_no_batch(f, x)\n",
        "\n",
        "    return grad"
      ],
      "metadata": {
        "id": "OwA5pfToMVLd"
      },
      "execution_count": 62,
      "outputs": []
    },
    {
      "cell_type": "code",
      "source": [
        "from re import T\n",
        "class SimpleNet:\n",
        "  def __init__(self):\n",
        "    self.W = np.random.rand(2,3)\n",
        "\n",
        "  def predict(self, x):\n",
        "    return np.dot(x, self.W)\n",
        "\n",
        "  def loss(self, x, t):    #t가 라벨 \n",
        "    z = self.predict(x)\n",
        "    y = softmax(z)\n",
        "    loss = cross_entropy_error(y, t)\n",
        "\n",
        "    return loss   "
      ],
      "metadata": {
        "id": "nQrJfq-UM5XB"
      },
      "execution_count": 63,
      "outputs": []
    },
    {
      "cell_type": "code",
      "source": [
        "net = SimpleNet()\n",
        "net.W"
      ],
      "metadata": {
        "colab": {
          "base_uri": "https://localhost:8080/"
        },
        "id": "heQiC66ONjQF",
        "outputId": "6a4bc086-25db-4c17-bb61-803baf4b896b"
      },
      "execution_count": 64,
      "outputs": [
        {
          "output_type": "execute_result",
          "data": {
            "text/plain": [
              "array([[0.87852, 0.91313, 0.53130],\n",
              "       [0.30967, 0.44956, 0.85355]])"
            ]
          },
          "metadata": {},
          "execution_count": 64
        }
      ]
    },
    {
      "cell_type": "code",
      "source": [
        "x = np.array([0.6, 0.9])"
      ],
      "metadata": {
        "id": "vcSmjJrONmWs"
      },
      "execution_count": 65,
      "outputs": []
    },
    {
      "cell_type": "code",
      "source": [
        "p = net.predict(x)\n",
        "p  # 처음 p"
      ],
      "metadata": {
        "colab": {
          "base_uri": "https://localhost:8080/"
        },
        "id": "tJSsOg7ENrXK",
        "outputId": "f4fd1c1c-f394-48ee-c296-9e7404c4584b"
      },
      "execution_count": 66,
      "outputs": [
        {
          "output_type": "execute_result",
          "data": {
            "text/plain": [
              "array([0.80581, 0.95248, 1.08697])"
            ]
          },
          "metadata": {},
          "execution_count": 66
        }
      ]
    },
    {
      "cell_type": "code",
      "source": [
        "np.argmax(p)  #최댓값의 인덱스"
      ],
      "metadata": {
        "colab": {
          "base_uri": "https://localhost:8080/"
        },
        "id": "qdKdzhVANtw1",
        "outputId": "4c686700-85e8-4e80-9e73-edee072cf0fd"
      },
      "execution_count": 67,
      "outputs": [
        {
          "output_type": "execute_result",
          "data": {
            "text/plain": [
              "2"
            ]
          },
          "metadata": {},
          "execution_count": 67
        }
      ]
    },
    {
      "cell_type": "code",
      "source": [
        "t = np.array([0, 0, 1])  # 정답 레이블\n",
        "net.loss(x, t)"
      ],
      "metadata": {
        "colab": {
          "base_uri": "https://localhost:8080/"
        },
        "id": "VYo-OUszNxZk",
        "outputId": "f1ad4c6f-0271-4933-9056-584add957b15"
      },
      "execution_count": 68,
      "outputs": [
        {
          "output_type": "execute_result",
          "data": {
            "text/plain": [
              "0.9666295121165748"
            ]
          },
          "metadata": {},
          "execution_count": 68
        }
      ]
    },
    {
      "cell_type": "code",
      "source": [
        "def f(W):\n",
        "  return net.loss(x, t)"
      ],
      "metadata": {
        "id": "swj11BEQN80Y"
      },
      "execution_count": 69,
      "outputs": []
    },
    {
      "cell_type": "code",
      "source": [
        "dw = numerical_gradient(f, net.W)\n",
        "print(dw)"
      ],
      "metadata": {
        "colab": {
          "base_uri": "https://localhost:8080/"
        },
        "id": "8TrD_tpNOVbc",
        "outputId": "1e628141-316c-4527-d338-8f73ba9b0ca4"
      },
      "execution_count": 70,
      "outputs": [
        {
          "output_type": "stream",
          "name": "stdout",
          "text": [
            "[[0.17228 0.19950 -0.37178]\n",
            " [0.25842 0.29925 -0.55767]]\n"
          ]
        }
      ]
    },
    {
      "cell_type": "code",
      "source": [
        "dw = numerical_gradient(lambda w: net.loss(x, t), net.W)\n",
        "dw"
      ],
      "metadata": {
        "colab": {
          "base_uri": "https://localhost:8080/"
        },
        "id": "1IYsO-83OdAB",
        "outputId": "ed1002a8-c587-49eb-a952-59ee3c27eede"
      },
      "execution_count": 72,
      "outputs": [
        {
          "output_type": "execute_result",
          "data": {
            "text/plain": [
              "array([[0.17228, 0.19950, -0.37178],\n",
              "       [0.25842, 0.29925, -0.55767]])"
            ]
          },
          "metadata": {},
          "execution_count": 72
        }
      ]
    },
    {
      "cell_type": "code",
      "source": [
        "net.W = net.W - 0.001 * dw  #learning rate=0.001, 새로운 w가 업데이트된다"
      ],
      "metadata": {
        "id": "hGYimH0GTtiF"
      },
      "execution_count": 73,
      "outputs": []
    },
    {
      "cell_type": "code",
      "source": [
        "net.W -= 0.001 * dw"
      ],
      "metadata": {
        "id": "8zsvXHXVUDe6"
      },
      "execution_count": 74,
      "outputs": []
    },
    {
      "cell_type": "code",
      "source": [
        "p = net.predict(x)\n",
        "p # 2번째 p"
      ],
      "metadata": {
        "colab": {
          "base_uri": "https://localhost:8080/"
        },
        "id": "OJliC_hRUHcp",
        "outputId": "fb69867e-002c-46dd-cbbc-5054d9877f9d"
      },
      "execution_count": 75,
      "outputs": [
        {
          "output_type": "execute_result",
          "data": {
            "text/plain": [
              "array([0.80514, 0.95171, 1.08842])"
            ]
          },
          "metadata": {},
          "execution_count": 75
        }
      ]
    },
    {
      "cell_type": "code",
      "source": [
        "np.argmax(p)"
      ],
      "metadata": {
        "colab": {
          "base_uri": "https://localhost:8080/"
        },
        "id": "Ck_8p-YlUOS1",
        "outputId": "4a51529c-039a-4ca3-d1ef-7d88c464d3de"
      },
      "execution_count": 76,
      "outputs": [
        {
          "output_type": "execute_result",
          "data": {
            "text/plain": [
              "2"
            ]
          },
          "metadata": {},
          "execution_count": 76
        }
      ]
    },
    {
      "cell_type": "code",
      "source": [
        "net.loss(x, t)"
      ],
      "metadata": {
        "colab": {
          "base_uri": "https://localhost:8080/"
        },
        "id": "sEMKEcmnUYq6",
        "outputId": "c71e51cf-8930-4654-85e1-c3f2d10e9758"
      },
      "execution_count": 77,
      "outputs": [
        {
          "output_type": "execute_result",
          "data": {
            "text/plain": [
              "0.965280000486026"
            ]
          },
          "metadata": {},
          "execution_count": 77
        }
      ]
    },
    {
      "cell_type": "code",
      "source": [
        "dw = numerical_gradient(lambda w: net.loss(x, t), net.W)\n",
        "net.W -= 0.001 * dw\n",
        "net.loss(x, t)"
      ],
      "metadata": {
        "colab": {
          "base_uri": "https://localhost:8080/"
        },
        "id": "BzYMAcjSUcpN",
        "outputId": "5a70648d-4927-4d2b-e28b-0decf1ddbf23"
      },
      "execution_count": 87,
      "outputs": [
        {
          "output_type": "execute_result",
          "data": {
            "text/plain": [
              "0.9585673838486508"
            ]
          },
          "metadata": {},
          "execution_count": 87
        }
      ]
    },
    {
      "cell_type": "code",
      "source": [
        "dw"
      ],
      "metadata": {
        "colab": {
          "base_uri": "https://localhost:8080/"
        },
        "id": "hFUr1xU1ZSMX",
        "outputId": "569e9b97-29b5-4832-ad15-82ee2ca3c9bd"
      },
      "execution_count": 90,
      "outputs": [
        {
          "output_type": "execute_result",
          "data": {
            "text/plain": [
              "array([[0.17155, 0.19854, -0.37009],\n",
              "       [0.25733, 0.29781, -0.55513]])"
            ]
          },
          "metadata": {},
          "execution_count": 90
        }
      ]
    },
    {
      "cell_type": "code",
      "source": [
        ""
      ],
      "metadata": {
        "id": "pMCGp3dyZZZw"
      },
      "execution_count": null,
      "outputs": []
    }
  ]
}