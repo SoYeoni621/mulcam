{
  "nbformat": 4,
  "nbformat_minor": 0,
  "metadata": {
    "colab": {
      "name": "02_17_Thurs.ipynb",
      "provenance": [],
      "collapsed_sections": [],
      "mount_file_id": "1NInC_BSe4-hgNNe53Ej7R91CbMDWuzD-",
      "authorship_tag": "ABX9TyNWuQv54AMXGA7gwGqOCI9F",
      "include_colab_link": true
    },
    "kernelspec": {
      "name": "python3",
      "display_name": "Python 3"
    },
    "language_info": {
      "name": "python"
    }
  },
  "cells": [
    {
      "cell_type": "markdown",
      "metadata": {
        "id": "view-in-github",
        "colab_type": "text"
      },
      "source": [
        "<a href=\"https://colab.research.google.com/github/SoYeoni621/mulcam/blob/master/02_17_Thurs.ipynb\" target=\"_parent\"><img src=\"https://colab.research.google.com/assets/colab-badge.svg\" alt=\"Open In Colab\"/></a>"
      ]
    },
    {
      "cell_type": "code",
      "execution_count": null,
      "metadata": {
        "id": "1FNAxpiVMTUs"
      },
      "outputs": [],
      "source": [
        "import numpy as np"
      ]
    },
    {
      "cell_type": "code",
      "source": [
        "import pickle\n",
        "def load_mnist(normalize=True, flatten=True, one_hot_label=False):\n",
        "  def _change_one_hot_label(X):\n",
        "    T = np.zeros((X.size, 10))\n",
        "    for idx, row  in enumerate(T):\n",
        "      row[X[idx]] = 1\n",
        "\n",
        "      return T\n",
        "\n",
        "  with open('/content/drive/MyDrive/딥러닝/mnist.pkl', 'rb') as f:\n",
        "      dataset = pickle.load(f)\n",
        "\n",
        "\n",
        "  if normalize:\n",
        "      for key in ('train_img', 'test_img'):\n",
        "        dataset[key] = dataset[key].astype(np.float32)\n",
        "        dataset[key] /= 255.0\n",
        "    \n",
        "  if one_hot_label:\n",
        "    dataset['train_label'] = _change_one_hot_label(dataset['train_label'])\n",
        "    dataset['test_label'] = _change_one_hot_label(dataset['test_label'])\n",
        "\n",
        "  if not flatten:\n",
        "    for key in ('train_img', 'test_img'):\n",
        "      dataset[key] = dataset[key].reshape(-1, 1, 28, 28)\n",
        "\n",
        "  return (dataset['train_img'], dataset['train_label']), (dataset['test_img'], dataset['test_label'])"
      ],
      "metadata": {
        "id": "m9NyUepEQ4c5"
      },
      "execution_count": null,
      "outputs": []
    },
    {
      "cell_type": "code",
      "source": [
        "def sigmoid(x):\n",
        "  return 1 / (1 + np.exp(-x))"
      ],
      "metadata": {
        "id": "d8BuwmxDThxn"
      },
      "execution_count": null,
      "outputs": []
    },
    {
      "cell_type": "code",
      "source": [
        "def softmax(x):\n",
        "  exp_x = np.exp(x)\n",
        "  sum_exp_x = np.sum(exp_x)\n",
        "  y = exp_x / sum_exp_x\n",
        "\n",
        "  return y"
      ],
      "metadata": {
        "id": "zVQ2VXlMTscA"
      },
      "execution_count": null,
      "outputs": []
    },
    {
      "cell_type": "code",
      "source": [
        "def cross_entropy_error(y, t):\n",
        "    if y.ndim == 1:\n",
        "        t = t.reshape(1, t.size)\n",
        "        y = y.reshape(1, y.size)\n",
        "\n",
        "    batch_size = y.shape[0]\n",
        "\n",
        "    if y.size == t.size:\n",
        "        t = t.argmax(axis=1)\n",
        "\n",
        "    delta = 1e-7\n",
        "    return -np.sum(np.log(y[np.arange(batch_size), t] + delta))/batch_size"
      ],
      "metadata": {
        "id": "K86qH8WfUCGq"
      },
      "execution_count": null,
      "outputs": []
    },
    {
      "cell_type": "code",
      "source": [
        "def _numerical_gradient_no_batch(f, x):\n",
        "  h = 1e-4\n",
        "  grad = np.zeros_like(x) #x와 같은 배열 생성\n",
        "\n",
        "  for idx in range(x.size):\n",
        "    tmp_val = x[idx]\n",
        "\n",
        "    #f(x+h)\n",
        "    x[idx] = float(tmp_val) + h\n",
        "    fxh1 = f(x)\n",
        "\n",
        "    #f(x-h)\n",
        "    x[idx] = float(tmp_val) - h\n",
        "    fxh2 = f(x)\n",
        "\n",
        "    grad[idx] = (fxh1 - fxh2) / (2*h)  #미분/기울기\n",
        "    x[idx] = tmp_val   # 값 복원\n",
        " \n",
        "  return grad"
      ],
      "metadata": {
        "id": "ivKJ4do4U-1K"
      },
      "execution_count": null,
      "outputs": []
    },
    {
      "cell_type": "code",
      "source": [
        "def numerical_gradient(f, X):\n",
        "  if X.ndim == 1:\n",
        "    return _numerical_gradient_no_batch(f, X)\n",
        "  else:\n",
        "    grad = np.zeros_like(X)\n",
        "\n",
        "    for idx, x in enumerate(X):\n",
        "      grad[idx] = _numerical_gradient_no_batch(f, x)\n",
        "\n",
        "    return grad"
      ],
      "metadata": {
        "id": "tWa2JCxgU9aJ"
      },
      "execution_count": null,
      "outputs": []
    },
    {
      "cell_type": "code",
      "source": [
        "class TwoLayerNet:\n",
        "    def __init__(self, input_size, hidden_size, output_size, weight_init_std=0.01):\n",
        "        # 파라미터 랜덤 초기화\n",
        "        self.params = {}\n",
        "        self.params['W1'] = weight_init_std * np.random.randn(input_size, hidden_size)\n",
        "        self.params['b1'] = np.zeros(hidden_size)\n",
        "        self.params['W2'] = weight_init_std * np.random.randn(hidden_size, output_size)\n",
        "        self.params['b2'] = np.zeros(output_size)\n",
        "\n",
        "\n",
        "\n",
        "    # forward 연산\n",
        "    def predict(self, x):\n",
        "        W1, W2 = self.params['W1'], self.params['W2']\n",
        "        b1, b2 = self.params['b1'], self.params['b2']\n",
        "\n",
        "        a1 = np.dot(x, W1) + b1\n",
        "        #활성화 함수\n",
        "        z1 = sigmoid(a1)\n",
        "        a2 = np.dot(z1, W2) + b2\n",
        "        #소트프맥스 함수 적용\n",
        "        y = softmax(a2)\n",
        "\n",
        "        return y\n",
        "\n",
        "    # loss(cross entropy 값) 값 구하기\n",
        "    def loss(self, x, t):\n",
        "        #x는 입력, t라벨\n",
        "        y = self.predict(x)\n",
        "        #y 소프트 맥스 통과한 값(예측값)\n",
        "        return cross_entropy_error(y, t)\n",
        "\n",
        "    #정확도 계산\n",
        "    def accuracy(self, x, t):\n",
        "        y = self.predict(x)\n",
        "        #y, t 는 원핫 형식 -> 라벨 형식\n",
        "        y = np.argmax(y, axis=1)\n",
        "        t = np.argmax(t, axis=1)\n",
        "\n",
        "        \n",
        "        accuracy = np.sum(y == t)/float(x.shape[0]) #x.shape[0] 는 전체 갯수\n",
        "        return accuracy\n",
        "\n",
        "    #각 파라미터의 기울기 구하기\n",
        "    def numerical_gradient(self, x, t):\n",
        "        #목적 함수 - Cross Entropy \n",
        "        loss_W = lambda W: self.loss(x, t)\n",
        "\n",
        "        grads = {}\n",
        "        #목적함수에 대해 각 파라메터 별로 편미분\n",
        "        grads['W1'] = numerical_gradient(loss_W, self.params['W1'])\n",
        "        grads['b1'] = numerical_gradient(loss_W, self.params['b1'])\n",
        "        grads['W2'] = numerical_gradient(loss_W, self.params['W2'])\n",
        "        grads['b2'] = numerical_gradient(loss_W, self.params['b2'])\n",
        "\n",
        "        return grads"
      ],
      "metadata": {
        "id": "1Ih1j776RbIw"
      },
      "execution_count": null,
      "outputs": []
    },
    {
      "cell_type": "code",
      "source": [
        " # 데이터 로딩 - 원핫 형식으로 \n",
        "(x_train, y_train), (x_test, y_test) = load_mnist(normalize=True, flatten=True, one_hot_label=True)"
      ],
      "metadata": {
        "id": "VkZ_tHuDV4T7"
      },
      "execution_count": null,
      "outputs": []
    },
    {
      "cell_type": "code",
      "source": [
        "y_train.shape"
      ],
      "metadata": {
        "colab": {
          "base_uri": "https://localhost:8080/"
        },
        "id": "2NLbAK2tWIzE",
        "outputId": "c440b2bc-fad4-4733-bc69-0adf254546e1"
      },
      "execution_count": null,
      "outputs": [
        {
          "output_type": "execute_result",
          "data": {
            "text/plain": [
              "(60000, 10)"
            ]
          },
          "metadata": {},
          "execution_count": 25
        }
      ]
    },
    {
      "cell_type": "code",
      "source": [
        "# 2층 신경망 객체 생성\n",
        "network = TwoLayerNet(input_size=784, hidden_size=50, output_size=10)"
      ],
      "metadata": {
        "id": "85Spj275WkHj"
      },
      "execution_count": null,
      "outputs": []
    },
    {
      "cell_type": "code",
      "source": [
        "print(network.params['W1'].shape)\n",
        "print(network.params['b1'].shape)\n",
        "print(network.params['W2'].shape)\n",
        "print(network.params['b2'].shape)"
      ],
      "metadata": {
        "colab": {
          "base_uri": "https://localhost:8080/"
        },
        "id": "_gq-C9PEXXUH",
        "outputId": "2f9f8b3d-856b-4255-afcc-0676de3037d2"
      },
      "execution_count": null,
      "outputs": [
        {
          "output_type": "stream",
          "name": "stdout",
          "text": [
            "(784, 50)\n",
            "(50,)\n",
            "(50, 10)\n",
            "(10,)\n"
          ]
        }
      ]
    },
    {
      "cell_type": "code",
      "source": [
        "x = np.random.rand(50, 784)\n",
        "y = network.predict(x)\n",
        "np.argmax(y[0])"
      ],
      "metadata": {
        "colab": {
          "base_uri": "https://localhost:8080/"
        },
        "id": "AEgM_aY0Xm-x",
        "outputId": "ff4b2e25-8f47-476a-848a-0cd8ba0b9cf4"
      },
      "execution_count": null,
      "outputs": [
        {
          "output_type": "execute_result",
          "data": {
            "text/plain": [
              "2"
            ]
          },
          "metadata": {},
          "execution_count": 37
        }
      ]
    },
    {
      "cell_type": "code",
      "source": [
        "iters_num = 10000 #반복 횟수\n",
        "train_size = x_train.shape[0] #훈련 데이터 크기\n",
        "batch_size = 100 #미니배치 사이즈\n",
        "learning_rate = 0.01 #학습률\n",
        "\n",
        "train_loss_list = []\n",
        "train_acc_list = []\n",
        "test_acc_list = []\n",
        "\n",
        "iter_per_epoch = max(train_size/batch_size, 1) #1에폭당 반복 횟수, 최소 한번\n"
      ],
      "metadata": {
        "id": "Xwq1js-GY8KW"
      },
      "execution_count": null,
      "outputs": []
    },
    {
      "cell_type": "code",
      "source": [
        "for i in range(iters_num):\n",
        "  batch_mask = np.random.choice(train_size, batch_size) # 랜덤하게 0~train_size-1 안에 있는 숫자를 batch_size만큼 가져옴\n",
        "  x_batch = x_train[batch_mask] # 랜덤하게 batch_size만큼 훈련 데이터에서 선택\n",
        "  y_batch = y_train[batch_mask] # 랜덤하게 batch_size만큼 라벨에서 선택\n",
        "\n",
        "  # 기울기 계산\n",
        "  grad = network.numerical_gradient(x_batch, y_batch)\n",
        "  \n",
        "  # 매개 변수 갱신 (ex. w = w - learning_rate * 기울기(미분값))\n",
        "  for key in ('W1', 'b1', 'W2', 'b2'):\n",
        "    network.params[key] -= learning_rate * grad[key]\n",
        "\n",
        "  # 학습 경과 기록(loss구하기)\n",
        "  loss = network.loss(x_batch, y_batch)\n",
        "  train_loss_list.append(loss) # loss 값을 train_loss_list 에 추가\n",
        "\n",
        "  # 파라미터 업데이트 후의 정확도 계산\n",
        "  train_acc = network.accuracy(x_train, y_train)\n",
        "  test_acc = network.accuracy(x_test, y_test)\n",
        "\n",
        "  train_acc_list.append(train_acc)\n",
        "  test_acc_list.append(test_acc)\n",
        "\n",
        "  print(f\"loss {loss}, train_accuracy {train_acc}, test_accuracy {test_acc}\")"
      ],
      "metadata": {
        "id": "KhBWg255jSVH",
        "colab": {
          "base_uri": "https://localhost:8080/",
          "height": 951
        },
        "outputId": "602922a9-aa43-44e3-c5ca-2db6e8009532"
      },
      "execution_count": 41,
      "outputs": [
        {
          "metadata": {
            "tags": null
          },
          "name": "stdout",
          "output_type": "stream",
          "text": [
            "loss 6.561431094367921, train_accuracy 0.9999833333333333, test_accuracy 0.9999\n",
            "loss 6.450112874964179, train_accuracy 0.9999833333333333, test_accuracy 0.9999\n",
            "loss 6.343897447789523, train_accuracy 0.9999833333333333, test_accuracy 0.9999\n",
            "loss 6.241609376852648, train_accuracy 0.9999833333333333, test_accuracy 0.9999\n",
            "loss 6.143685654285284, train_accuracy 0.9999833333333333, test_accuracy 0.9999\n",
            "loss 6.049802581520046, train_accuracy 0.9999833333333333, test_accuracy 0.9999\n",
            "loss 5.961747698171604, train_accuracy 0.9999833333333333, test_accuracy 0.9999\n",
            "loss 5.87721068195389, train_accuracy 0.9999833333333333, test_accuracy 0.9999\n",
            "loss 5.797147011717912, train_accuracy 0.9999833333333333, test_accuracy 0.9999\n",
            "loss 5.722746718637222, train_accuracy 0.9999833333333333, test_accuracy 0.9999\n",
            "loss 5.651386565414426, train_accuracy 0.9999833333333333, test_accuracy 0.9999\n",
            "loss 5.5870811622884675, train_accuracy 0.9999833333333333, test_accuracy 0.9999\n",
            "loss 5.525788806005039, train_accuracy 0.9999833333333333, test_accuracy 0.9999\n",
            "loss 5.467235766506118, train_accuracy 0.9999833333333333, test_accuracy 0.9999\n",
            "loss 5.415225814278118, train_accuracy 0.9999833333333333, test_accuracy 0.9999\n",
            "loss 5.367185896587399, train_accuracy 0.9999833333333333, test_accuracy 0.9999\n",
            "loss 5.320915172968235, train_accuracy 0.9999833333333333, test_accuracy 0.9999\n",
            "loss 5.280537646322362, train_accuracy 0.9999833333333333, test_accuracy 0.9999\n",
            "loss 5.239296118279355, train_accuracy 0.9999833333333333, test_accuracy 0.9999\n",
            "loss 5.204609462728374, train_accuracy 0.9999833333333333, test_accuracy 0.9999\n",
            "loss 5.170651361040948, train_accuracy 0.9999833333333333, test_accuracy 0.9999\n",
            "loss 5.140456872033954, train_accuracy 0.9999833333333333, test_accuracy 0.9999\n",
            "loss 5.110793151615734, train_accuracy 0.9999833333333333, test_accuracy 0.9999\n",
            "loss 5.085529300763826, train_accuracy 0.9999833333333333, test_accuracy 0.9999\n",
            "loss 5.06036686550195, train_accuracy 0.9999833333333333, test_accuracy 0.9999\n",
            "loss 5.039153161397027, train_accuracy 0.9999833333333333, test_accuracy 0.9999\n",
            "loss 5.018484869209791, train_accuracy 0.9999833333333333, test_accuracy 0.9999\n",
            "loss 4.999702922233065, train_accuracy 0.9999833333333333, test_accuracy 0.9999\n",
            "loss 4.980980664611513, train_accuracy 0.9999833333333333, test_accuracy 0.9999\n"
          ]
        },
        {
          "output_type": "error",
          "ename": "KeyboardInterrupt",
          "evalue": "ignored",
          "traceback": [
            "\u001b[0;31m---------------------------------------------------------------------------\u001b[0m",
            "\u001b[0;31mKeyboardInterrupt\u001b[0m                         Traceback (most recent call last)",
            "\u001b[0;32m<ipython-input-41-13a00fba16a9>\u001b[0m in \u001b[0;36m<module>\u001b[0;34m()\u001b[0m\n\u001b[1;32m      5\u001b[0m \u001b[0;34m\u001b[0m\u001b[0m\n\u001b[1;32m      6\u001b[0m   \u001b[0;31m# 기울기 계산\u001b[0m\u001b[0;34m\u001b[0m\u001b[0;34m\u001b[0m\u001b[0;34m\u001b[0m\u001b[0m\n\u001b[0;32m----> 7\u001b[0;31m   \u001b[0mgrad\u001b[0m \u001b[0;34m=\u001b[0m \u001b[0mnetwork\u001b[0m\u001b[0;34m.\u001b[0m\u001b[0mnumerical_gradient\u001b[0m\u001b[0;34m(\u001b[0m\u001b[0mx_batch\u001b[0m\u001b[0;34m,\u001b[0m \u001b[0my_batch\u001b[0m\u001b[0;34m)\u001b[0m\u001b[0;34m\u001b[0m\u001b[0;34m\u001b[0m\u001b[0m\n\u001b[0m\u001b[1;32m      8\u001b[0m \u001b[0;34m\u001b[0m\u001b[0m\n\u001b[1;32m      9\u001b[0m   \u001b[0;31m# 매개 변수 갱신 (ex. w = w - learning_rate * 기울기(미분값))\u001b[0m\u001b[0;34m\u001b[0m\u001b[0;34m\u001b[0m\u001b[0;34m\u001b[0m\u001b[0m\n",
            "\u001b[0;32m<ipython-input-34-7971b90b6b56>\u001b[0m in \u001b[0;36mnumerical_gradient\u001b[0;34m(self, x, t)\u001b[0m\n\u001b[1;32m     49\u001b[0m         \u001b[0mgrads\u001b[0m \u001b[0;34m=\u001b[0m \u001b[0;34m{\u001b[0m\u001b[0;34m}\u001b[0m\u001b[0;34m\u001b[0m\u001b[0;34m\u001b[0m\u001b[0m\n\u001b[1;32m     50\u001b[0m         \u001b[0;31m#목적함수에 대해 각 파라메터 별로 편미분\u001b[0m\u001b[0;34m\u001b[0m\u001b[0;34m\u001b[0m\u001b[0;34m\u001b[0m\u001b[0m\n\u001b[0;32m---> 51\u001b[0;31m         \u001b[0mgrads\u001b[0m\u001b[0;34m[\u001b[0m\u001b[0;34m'W1'\u001b[0m\u001b[0;34m]\u001b[0m \u001b[0;34m=\u001b[0m \u001b[0mnumerical_gradient\u001b[0m\u001b[0;34m(\u001b[0m\u001b[0mloss_W\u001b[0m\u001b[0;34m,\u001b[0m \u001b[0mself\u001b[0m\u001b[0;34m.\u001b[0m\u001b[0mparams\u001b[0m\u001b[0;34m[\u001b[0m\u001b[0;34m'W1'\u001b[0m\u001b[0;34m]\u001b[0m\u001b[0;34m)\u001b[0m\u001b[0;34m\u001b[0m\u001b[0;34m\u001b[0m\u001b[0m\n\u001b[0m\u001b[1;32m     52\u001b[0m         \u001b[0mgrads\u001b[0m\u001b[0;34m[\u001b[0m\u001b[0;34m'b1'\u001b[0m\u001b[0;34m]\u001b[0m \u001b[0;34m=\u001b[0m \u001b[0mnumerical_gradient\u001b[0m\u001b[0;34m(\u001b[0m\u001b[0mloss_W\u001b[0m\u001b[0;34m,\u001b[0m \u001b[0mself\u001b[0m\u001b[0;34m.\u001b[0m\u001b[0mparams\u001b[0m\u001b[0;34m[\u001b[0m\u001b[0;34m'b1'\u001b[0m\u001b[0;34m]\u001b[0m\u001b[0;34m)\u001b[0m\u001b[0;34m\u001b[0m\u001b[0;34m\u001b[0m\u001b[0m\n\u001b[1;32m     53\u001b[0m         \u001b[0mgrads\u001b[0m\u001b[0;34m[\u001b[0m\u001b[0;34m'W2'\u001b[0m\u001b[0;34m]\u001b[0m \u001b[0;34m=\u001b[0m \u001b[0mnumerical_gradient\u001b[0m\u001b[0;34m(\u001b[0m\u001b[0mloss_W\u001b[0m\u001b[0;34m,\u001b[0m \u001b[0mself\u001b[0m\u001b[0;34m.\u001b[0m\u001b[0mparams\u001b[0m\u001b[0;34m[\u001b[0m\u001b[0;34m'W2'\u001b[0m\u001b[0;34m]\u001b[0m\u001b[0;34m)\u001b[0m\u001b[0;34m\u001b[0m\u001b[0;34m\u001b[0m\u001b[0m\n",
            "\u001b[0;32m<ipython-input-22-9ac917d8167a>\u001b[0m in \u001b[0;36mnumerical_gradient\u001b[0;34m(f, X)\u001b[0m\n\u001b[1;32m      6\u001b[0m \u001b[0;34m\u001b[0m\u001b[0m\n\u001b[1;32m      7\u001b[0m     \u001b[0;32mfor\u001b[0m \u001b[0midx\u001b[0m\u001b[0;34m,\u001b[0m \u001b[0mx\u001b[0m \u001b[0;32min\u001b[0m \u001b[0menumerate\u001b[0m\u001b[0;34m(\u001b[0m\u001b[0mX\u001b[0m\u001b[0;34m)\u001b[0m\u001b[0;34m:\u001b[0m\u001b[0;34m\u001b[0m\u001b[0;34m\u001b[0m\u001b[0m\n\u001b[0;32m----> 8\u001b[0;31m       \u001b[0mgrad\u001b[0m\u001b[0;34m[\u001b[0m\u001b[0midx\u001b[0m\u001b[0;34m]\u001b[0m \u001b[0;34m=\u001b[0m \u001b[0m_numerical_gradient_no_batch\u001b[0m\u001b[0;34m(\u001b[0m\u001b[0mf\u001b[0m\u001b[0;34m,\u001b[0m \u001b[0mx\u001b[0m\u001b[0;34m)\u001b[0m\u001b[0;34m\u001b[0m\u001b[0;34m\u001b[0m\u001b[0m\n\u001b[0m\u001b[1;32m      9\u001b[0m \u001b[0;34m\u001b[0m\u001b[0m\n\u001b[1;32m     10\u001b[0m     \u001b[0;32mreturn\u001b[0m \u001b[0mgrad\u001b[0m\u001b[0;34m\u001b[0m\u001b[0;34m\u001b[0m\u001b[0m\n",
            "\u001b[0;32m<ipython-input-21-f280adf1d6d1>\u001b[0m in \u001b[0;36m_numerical_gradient_no_batch\u001b[0;34m(f, x)\u001b[0m\n\u001b[1;32m      8\u001b[0m     \u001b[0;31m#f(x+h)\u001b[0m\u001b[0;34m\u001b[0m\u001b[0;34m\u001b[0m\u001b[0;34m\u001b[0m\u001b[0m\n\u001b[1;32m      9\u001b[0m     \u001b[0mx\u001b[0m\u001b[0;34m[\u001b[0m\u001b[0midx\u001b[0m\u001b[0;34m]\u001b[0m \u001b[0;34m=\u001b[0m \u001b[0mfloat\u001b[0m\u001b[0;34m(\u001b[0m\u001b[0mtmp_val\u001b[0m\u001b[0;34m)\u001b[0m \u001b[0;34m+\u001b[0m \u001b[0mh\u001b[0m\u001b[0;34m\u001b[0m\u001b[0;34m\u001b[0m\u001b[0m\n\u001b[0;32m---> 10\u001b[0;31m     \u001b[0mfxh1\u001b[0m \u001b[0;34m=\u001b[0m \u001b[0mf\u001b[0m\u001b[0;34m(\u001b[0m\u001b[0mx\u001b[0m\u001b[0;34m)\u001b[0m\u001b[0;34m\u001b[0m\u001b[0;34m\u001b[0m\u001b[0m\n\u001b[0m\u001b[1;32m     11\u001b[0m \u001b[0;34m\u001b[0m\u001b[0m\n\u001b[1;32m     12\u001b[0m     \u001b[0;31m#f(x-h)\u001b[0m\u001b[0;34m\u001b[0m\u001b[0;34m\u001b[0m\u001b[0;34m\u001b[0m\u001b[0m\n",
            "\u001b[0;32m<ipython-input-34-7971b90b6b56>\u001b[0m in \u001b[0;36m<lambda>\u001b[0;34m(W)\u001b[0m\n\u001b[1;32m     45\u001b[0m     \u001b[0;32mdef\u001b[0m \u001b[0mnumerical_gradient\u001b[0m\u001b[0;34m(\u001b[0m\u001b[0mself\u001b[0m\u001b[0;34m,\u001b[0m \u001b[0mx\u001b[0m\u001b[0;34m,\u001b[0m \u001b[0mt\u001b[0m\u001b[0;34m)\u001b[0m\u001b[0;34m:\u001b[0m\u001b[0;34m\u001b[0m\u001b[0;34m\u001b[0m\u001b[0m\n\u001b[1;32m     46\u001b[0m         \u001b[0;31m#목적 함수 - Cross Entropy\u001b[0m\u001b[0;34m\u001b[0m\u001b[0;34m\u001b[0m\u001b[0;34m\u001b[0m\u001b[0m\n\u001b[0;32m---> 47\u001b[0;31m         \u001b[0mloss_W\u001b[0m \u001b[0;34m=\u001b[0m \u001b[0;32mlambda\u001b[0m \u001b[0mW\u001b[0m\u001b[0;34m:\u001b[0m \u001b[0mself\u001b[0m\u001b[0;34m.\u001b[0m\u001b[0mloss\u001b[0m\u001b[0;34m(\u001b[0m\u001b[0mx\u001b[0m\u001b[0;34m,\u001b[0m \u001b[0mt\u001b[0m\u001b[0;34m)\u001b[0m\u001b[0;34m\u001b[0m\u001b[0;34m\u001b[0m\u001b[0m\n\u001b[0m\u001b[1;32m     48\u001b[0m \u001b[0;34m\u001b[0m\u001b[0m\n\u001b[1;32m     49\u001b[0m         \u001b[0mgrads\u001b[0m \u001b[0;34m=\u001b[0m \u001b[0;34m{\u001b[0m\u001b[0;34m}\u001b[0m\u001b[0;34m\u001b[0m\u001b[0;34m\u001b[0m\u001b[0m\n",
            "\u001b[0;32m<ipython-input-34-7971b90b6b56>\u001b[0m in \u001b[0;36mloss\u001b[0;34m(self, x, t)\u001b[0m\n\u001b[1;32m     27\u001b[0m     \u001b[0;32mdef\u001b[0m \u001b[0mloss\u001b[0m\u001b[0;34m(\u001b[0m\u001b[0mself\u001b[0m\u001b[0;34m,\u001b[0m \u001b[0mx\u001b[0m\u001b[0;34m,\u001b[0m \u001b[0mt\u001b[0m\u001b[0;34m)\u001b[0m\u001b[0;34m:\u001b[0m\u001b[0;34m\u001b[0m\u001b[0;34m\u001b[0m\u001b[0m\n\u001b[1;32m     28\u001b[0m         \u001b[0;31m#x는 입력, t라벨\u001b[0m\u001b[0;34m\u001b[0m\u001b[0;34m\u001b[0m\u001b[0;34m\u001b[0m\u001b[0m\n\u001b[0;32m---> 29\u001b[0;31m         \u001b[0my\u001b[0m \u001b[0;34m=\u001b[0m \u001b[0mself\u001b[0m\u001b[0;34m.\u001b[0m\u001b[0mpredict\u001b[0m\u001b[0;34m(\u001b[0m\u001b[0mx\u001b[0m\u001b[0;34m)\u001b[0m\u001b[0;34m\u001b[0m\u001b[0;34m\u001b[0m\u001b[0m\n\u001b[0m\u001b[1;32m     30\u001b[0m         \u001b[0;31m#y 소프트 맥스 통과한 값(예측값)\u001b[0m\u001b[0;34m\u001b[0m\u001b[0;34m\u001b[0m\u001b[0;34m\u001b[0m\u001b[0m\n\u001b[1;32m     31\u001b[0m         \u001b[0;32mreturn\u001b[0m \u001b[0mcross_entropy_error\u001b[0m\u001b[0;34m(\u001b[0m\u001b[0my\u001b[0m\u001b[0;34m,\u001b[0m \u001b[0mt\u001b[0m\u001b[0;34m)\u001b[0m\u001b[0;34m\u001b[0m\u001b[0;34m\u001b[0m\u001b[0m\n",
            "\u001b[0;32m<ipython-input-34-7971b90b6b56>\u001b[0m in \u001b[0;36mpredict\u001b[0;34m(self, x)\u001b[0m\n\u001b[1;32m     15\u001b[0m         \u001b[0mb1\u001b[0m\u001b[0;34m,\u001b[0m \u001b[0mb2\u001b[0m \u001b[0;34m=\u001b[0m \u001b[0mself\u001b[0m\u001b[0;34m.\u001b[0m\u001b[0mparams\u001b[0m\u001b[0;34m[\u001b[0m\u001b[0;34m'b1'\u001b[0m\u001b[0;34m]\u001b[0m\u001b[0;34m,\u001b[0m \u001b[0mself\u001b[0m\u001b[0;34m.\u001b[0m\u001b[0mparams\u001b[0m\u001b[0;34m[\u001b[0m\u001b[0;34m'b2'\u001b[0m\u001b[0;34m]\u001b[0m\u001b[0;34m\u001b[0m\u001b[0;34m\u001b[0m\u001b[0m\n\u001b[1;32m     16\u001b[0m \u001b[0;34m\u001b[0m\u001b[0m\n\u001b[0;32m---> 17\u001b[0;31m         \u001b[0ma1\u001b[0m \u001b[0;34m=\u001b[0m \u001b[0mnp\u001b[0m\u001b[0;34m.\u001b[0m\u001b[0mdot\u001b[0m\u001b[0;34m(\u001b[0m\u001b[0mx\u001b[0m\u001b[0;34m,\u001b[0m \u001b[0mW1\u001b[0m\u001b[0;34m)\u001b[0m \u001b[0;34m+\u001b[0m \u001b[0mb1\u001b[0m\u001b[0;34m\u001b[0m\u001b[0;34m\u001b[0m\u001b[0m\n\u001b[0m\u001b[1;32m     18\u001b[0m         \u001b[0;31m#활성화 함수\u001b[0m\u001b[0;34m\u001b[0m\u001b[0;34m\u001b[0m\u001b[0;34m\u001b[0m\u001b[0m\n\u001b[1;32m     19\u001b[0m         \u001b[0mz1\u001b[0m \u001b[0;34m=\u001b[0m \u001b[0msigmoid\u001b[0m\u001b[0;34m(\u001b[0m\u001b[0ma1\u001b[0m\u001b[0;34m)\u001b[0m\u001b[0;34m\u001b[0m\u001b[0;34m\u001b[0m\u001b[0m\n",
            "\u001b[0;32m<__array_function__ internals>\u001b[0m in \u001b[0;36mdot\u001b[0;34m(*args, **kwargs)\u001b[0m\n",
            "\u001b[0;31mKeyboardInterrupt\u001b[0m: "
          ]
        }
      ]
    },
    {
      "cell_type": "code",
      "source": [
        ""
      ],
      "metadata": {
        "id": "iK5sB3a8l_aw"
      },
      "execution_count": null,
      "outputs": []
    }
  ]
}