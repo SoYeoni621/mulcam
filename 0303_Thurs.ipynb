{
  "nbformat": 4,
  "nbformat_minor": 0,
  "metadata": {
    "colab": {
      "name": "0303_Thurs.ipynb",
      "provenance": [],
      "mount_file_id": "1JyBiuPkWeeYkl2VpdguD3AYrblfvUMbK",
      "authorship_tag": "ABX9TyNXRh8ODGNxMDSwRgVM42rY",
      "include_colab_link": true
    },
    "kernelspec": {
      "name": "python3",
      "display_name": "Python 3"
    },
    "language_info": {
      "name": "python"
    },
    "accelerator": "GPU"
  },
  "cells": [
    {
      "cell_type": "markdown",
      "metadata": {
        "id": "view-in-github",
        "colab_type": "text"
      },
      "source": [
        "<a href=\"https://colab.research.google.com/github/SoYeoni621/mulcam/blob/master/0303_Thurs.ipynb\" target=\"_parent\"><img src=\"https://colab.research.google.com/assets/colab-badge.svg\" alt=\"Open In Colab\"/></a>"
      ]
    },
    {
      "cell_type": "code",
      "execution_count": null,
      "metadata": {
        "colab": {
          "base_uri": "https://localhost:8080/"
        },
        "id": "pEw_Zj-wUIdJ",
        "outputId": "4d10b4a0-0ad7-4da9-b54c-a4f5bb2714f8"
      },
      "outputs": [
        {
          "output_type": "stream",
          "name": "stdout",
          "text": [
            "Downloading data from https://storage.googleapis.com/tensorflow/tf-keras-datasets/mnist.npz\n",
            "11493376/11490434 [==============================] - 0s 0us/step\n",
            "11501568/11490434 [==============================] - 0s 0us/step\n"
          ]
        }
      ],
      "source": [
        "from tensorflow.keras.datasets import mnist\n",
        "from sklearn.model_selection import train_test_split\n",
        "\n",
        "(train_images, train_labels), (test_images, test_labels) = mnist.load_data()\n",
        "train_images = train_images.reshape((-1, 28, 28, 1))\n",
        "test_images = test_images.reshape((-1, 28, 28, 1))\n",
        "\n",
        "# normalization\n",
        "train_images = train_images/255.\n",
        "test_images = test_images/255.\n",
        "\n",
        "valid_images, test_images, valid_labels, test_labels = train_test_split(test_images, test_labels, test_size=0.15, shuffle=True)"
      ]
    },
    {
      "cell_type": "markdown",
      "source": [
        "# Functional API 사용"
      ],
      "metadata": {
        "id": "5AMLm9IPAAQd"
      }
    },
    {
      "cell_type": "code",
      "source": [
        "import tensorflow as tf\n",
        "from tensorflow.keras.models import Model\n",
        "from tensorflow.keras.layers import Input, Conv2D, MaxPool2D, Flatten, Dense, Dropout\n",
        "\n",
        "inputs = Input(shape=(28, 28, 1))\n",
        "conv1 = Conv2D(32, (3, 3), activation=tf.nn.relu)(inputs) # 필터의 개수, 필터의 shape, 활성함수\n",
        "pool1 = MaxPool2D((2, 2))(conv1)\n",
        "\n",
        "conv2 = Conv2D(64, (3, 3), activation=tf.nn.relu)(pool1)\n",
        "pool2 = MaxPool2D((2, 2))(conv2) \n",
        "\n",
        "conv3 = Conv2D(64, (3, 3), activation=tf.nn.relu)(pool2)\n",
        "flat = Flatten()(conv3) # Dense layer에 넣기 위해 flatten\n",
        "\n",
        "# Dropout 적용\n",
        "dense4 = Dense(64, activation='relu')(flat)\n",
        "drop4 = Dropout(rate=0.2)(dense4) # 정규화 20% 비율로 스킵, 뉴런을 임의로 삭제하면서 학습\n",
        "outputs = Dense(10, activation='softmax')(drop4)\n",
        "\n",
        "model = Model(inputs=inputs, outputs=outputs)\n",
        "model.summary()"
      ],
      "metadata": {
        "colab": {
          "base_uri": "https://localhost:8080/"
        },
        "id": "inWhr8W0VjGD",
        "outputId": "f23f3659-eb1e-48f4-c88f-8801135c4942"
      },
      "execution_count": null,
      "outputs": [
        {
          "output_type": "stream",
          "name": "stdout",
          "text": [
            "Model: \"model\"\n",
            "_________________________________________________________________\n",
            " Layer (type)                Output Shape              Param #   \n",
            "=================================================================\n",
            " input_1 (InputLayer)        [(None, 28, 28, 1)]       0         \n",
            "                                                                 \n",
            " conv2d (Conv2D)             (None, 26, 26, 32)        320       \n",
            "                                                                 \n",
            " max_pooling2d (MaxPooling2D  (None, 13, 13, 32)       0         \n",
            " )                                                               \n",
            "                                                                 \n",
            " conv2d_1 (Conv2D)           (None, 11, 11, 64)        18496     \n",
            "                                                                 \n",
            " max_pooling2d_1 (MaxPooling  (None, 5, 5, 64)         0         \n",
            " 2D)                                                             \n",
            "                                                                 \n",
            " conv2d_2 (Conv2D)           (None, 3, 3, 64)          36928     \n",
            "                                                                 \n",
            " flatten (Flatten)           (None, 576)               0         \n",
            "                                                                 \n",
            " dense (Dense)               (None, 64)                36928     \n",
            "                                                                 \n",
            " dropout (Dropout)           (None, 64)                0         \n",
            "                                                                 \n",
            " dense_1 (Dense)             (None, 10)                650       \n",
            "                                                                 \n",
            "=================================================================\n",
            "Total params: 93,322\n",
            "Trainable params: 93,322\n",
            "Non-trainable params: 0\n",
            "_________________________________________________________________\n"
          ]
        }
      ]
    },
    {
      "cell_type": "markdown",
      "source": [
        "# ModelCheckpoint - 중간에 모델 저장\n",
        "# EarlyStopping - 모델 성능이 더이상 향상되지 않으면 정지"
      ],
      "metadata": {
        "id": "enA62gyrAgeB"
      }
    },
    {
      "cell_type": "code",
      "source": [
        "from tensorflow.keras.callbacks import ModelCheckpoint, EarlyStopping\n",
        "\n",
        "MODEL_SAVE_FOLDER = '/content/drive/MyDrive/딥러닝 NLP/models/'\n",
        "model_path = f\"{MODEL_SAVE_FOLDER}mmist-{{epoch:d}}-{{val_loss:.5f}}-{{val_accuracy:.5f}}.hdf5\"\n",
        "\n",
        "cb_checkpoint = ModelCheckpoint(filepath=model_path, \n",
        "                                monitor='val_accuracy',\n",
        "                                save_weights_only=True,\n",
        "                                verbose=1,\n",
        "                                save_best_only=True)\n",
        "cb_early_stopping= EarlyStopping(monitor='val_accuracy',patience=6) # did not imporoved가 연속으로 6번 나오면 학습 stop"
      ],
      "metadata": {
        "id": "BFByxknoWM5A"
      },
      "execution_count": null,
      "outputs": []
    },
    {
      "cell_type": "code",
      "source": [
        "model.compile(optimizer='adam', loss='sparse_categorical_crossentropy', metrics=['accuracy'])\n",
        "hist = model.fit(train_images, train_labels, validation_data=(valid_images, valid_labels),\n",
        "                 epochs=100, batch_size=200,\n",
        "                 callbacks=[cb_checkpoint, cb_early_stopping]) # callbacks 는 내가 부르는게 아니고 시스템에서 부르는거(내가 정의해두긴함)"
      ],
      "metadata": {
        "colab": {
          "base_uri": "https://localhost:8080/"
        },
        "id": "zl6f6xDIXxI3",
        "outputId": "6c41149a-f933-446b-ef24-a5946f00ee46"
      },
      "execution_count": null,
      "outputs": [
        {
          "output_type": "stream",
          "name": "stdout",
          "text": [
            "Epoch 1/100\n",
            "297/300 [============================>.] - ETA: 0s - loss: 0.0138 - accuracy: 0.9951\n",
            "Epoch 1: val_accuracy improved from -inf to 0.99224, saving model to /content/drive/MyDrive/딥러닝 NLP/models/mmist-1-0.02966-0.99224.hdf5\n",
            "300/300 [==============================] - 6s 16ms/step - loss: 0.0138 - accuracy: 0.9951 - val_loss: 0.0297 - val_accuracy: 0.9922\n",
            "Epoch 2/100\n",
            "300/300 [==============================] - ETA: 0s - loss: 0.0119 - accuracy: 0.9964\n",
            "Epoch 2: val_accuracy did not improve from 0.99224\n",
            "300/300 [==============================] - 4s 14ms/step - loss: 0.0119 - accuracy: 0.9964 - val_loss: 0.0375 - val_accuracy: 0.9906\n",
            "Epoch 3/100\n",
            "299/300 [============================>.] - ETA: 0s - loss: 0.0110 - accuracy: 0.9963\n",
            "Epoch 3: val_accuracy improved from 0.99224 to 0.99282, saving model to /content/drive/MyDrive/딥러닝 NLP/models/mmist-3-0.02908-0.99282.hdf5\n",
            "300/300 [==============================] - 4s 14ms/step - loss: 0.0109 - accuracy: 0.9963 - val_loss: 0.0291 - val_accuracy: 0.9928\n",
            "Epoch 4/100\n",
            "300/300 [==============================] - ETA: 0s - loss: 0.0087 - accuracy: 0.9971\n",
            "Epoch 4: val_accuracy did not improve from 0.99282\n",
            "300/300 [==============================] - 4s 14ms/step - loss: 0.0087 - accuracy: 0.9971 - val_loss: 0.0366 - val_accuracy: 0.9907\n",
            "Epoch 5/100\n",
            "299/300 [============================>.] - ETA: 0s - loss: 0.0108 - accuracy: 0.9964\n",
            "Epoch 5: val_accuracy did not improve from 0.99282\n",
            "300/300 [==============================] - 4s 14ms/step - loss: 0.0108 - accuracy: 0.9964 - val_loss: 0.0352 - val_accuracy: 0.9914\n",
            "Epoch 6/100\n",
            "299/300 [============================>.] - ETA: 0s - loss: 0.0092 - accuracy: 0.9968\n",
            "Epoch 6: val_accuracy did not improve from 0.99282\n",
            "300/300 [==============================] - 4s 14ms/step - loss: 0.0093 - accuracy: 0.9968 - val_loss: 0.0322 - val_accuracy: 0.9915\n",
            "Epoch 7/100\n",
            "297/300 [============================>.] - ETA: 0s - loss: 0.0080 - accuracy: 0.9972\n",
            "Epoch 7: val_accuracy did not improve from 0.99282\n",
            "300/300 [==============================] - 4s 14ms/step - loss: 0.0081 - accuracy: 0.9971 - val_loss: 0.0298 - val_accuracy: 0.9927\n",
            "Epoch 8/100\n",
            "299/300 [============================>.] - ETA: 0s - loss: 0.0067 - accuracy: 0.9976\n",
            "Epoch 8: val_accuracy did not improve from 0.99282\n",
            "300/300 [==============================] - 4s 14ms/step - loss: 0.0068 - accuracy: 0.9976 - val_loss: 0.0363 - val_accuracy: 0.9925\n",
            "Epoch 9/100\n",
            "300/300 [==============================] - ETA: 0s - loss: 0.0064 - accuracy: 0.9978\n",
            "Epoch 9: val_accuracy did not improve from 0.99282\n",
            "300/300 [==============================] - 4s 14ms/step - loss: 0.0064 - accuracy: 0.9978 - val_loss: 0.0375 - val_accuracy: 0.9927\n"
          ]
        }
      ]
    },
    {
      "cell_type": "code",
      "source": [
        "import matplotlib.pyplot as plt\n",
        "\n",
        "fig, loss_ax = plt.subplots()\n",
        "acc_ax = loss_ax.twinx()\n",
        "\n",
        "loss_ax.plot(hist.history['loss'], 'y', label='train_loss')\n",
        "loss_ax.plot(hist.history['val_loss'], 'r', label='valid_loss')\n",
        "loss_ax.set_xlabel('epochs')\n",
        "loss_ax.set_ylabel('loss')\n",
        "loss_ax.legend(loc='upper left')\n",
        "\n",
        "loss_ax.plot(hist.history['accuracy'], 'b', label='train_accuracy')\n",
        "loss_ax.plot(hist.history['val_accuracy'], 'g', label='valid_accuracy')\n",
        "loss_ax.set_xlabel('epochs')\n",
        "loss_ax.set_ylabel('loss')\n",
        "loss_ax.legend(loc='upper roght', bbox_to_anchor=(1, 0.5))\n",
        "\n",
        "plt.show()"
      ],
      "metadata": {
        "colab": {
          "base_uri": "https://localhost:8080/",
          "height": 546
        },
        "id": "dZIlazkjauvu",
        "outputId": "04d07929-e224-45ee-da87-547f6ddba5cf"
      },
      "execution_count": null,
      "outputs": [
        {
          "output_type": "stream",
          "name": "stderr",
          "text": [
            "/usr/local/lib/python3.7/dist-packages/ipykernel_launcher.py:16: MatplotlibDeprecationWarning: Unrecognized location 'upper roght'. Falling back on 'best'; valid locations are\n",
            "\tbest\n",
            "\tupper right\n",
            "\tupper left\n",
            "\tlower left\n",
            "\tlower right\n",
            "\tright\n",
            "\tcenter left\n",
            "\tcenter right\n",
            "\tlower center\n",
            "\tupper center\n",
            "\tcenter\n",
            "This will raise an exception in 3.3.\n",
            "  app.launch_new_instance()\n"
          ]
        },
        {
          "output_type": "display_data",
          "data": {
            "image/png": "[encoded data removed]",
            "text/plain": [
              "<Figure size 432x288 with 2 Axes>"
            ]
          },
          "metadata": {
            "needs_background": "light"
          }
        }
      ]
    },
    {
      "cell_type": "code",
      "source": [
        "!ls -la models"
      ],
      "metadata": {
        "colab": {
          "base_uri": "https://localhost:8080/"
        },
        "id": "N0Duzq7qbZY2",
        "outputId": "db2682b7-af51-41b0-d9be-a7aa1a4fa56c"
      },
      "execution_count": null,
      "outputs": [
        {
          "output_type": "stream",
          "name": "stdout",
          "text": [
            "total 2752\n",
            "drwxr-xr-x 2 root root   4096 Mar  3 01:36 .\n",
            "drwxr-xr-x 1 root root   4096 Mar  3 01:18 ..\n",
            "-rw-r--r-- 1 root root 400264 Mar  3 01:36 mmist-10-0.02655-0.99200.hdf5\n",
            "-rw-r--r-- 1 root root 400264 Mar  3 01:35 mmist-1-0.06942-0.97988.hdf5\n",
            "-rw-r--r-- 1 root root 400264 Mar  3 01:36 mmist-13-0.02808-0.99247.hdf5\n",
            "-rw-r--r-- 1 root root 400264 Mar  3 01:36 mmist-14-0.02939-0.99306.hdf5\n",
            "-rw-r--r-- 1 root root 400264 Mar  3 01:35 mmist-2-0.04619-0.98424.hdf5\n",
            "-rw-r--r-- 1 root root 400264 Mar  3 01:35 mmist-3-0.03493-0.98965.hdf5\n",
            "-rw-r--r-- 1 root root 400264 Mar  3 01:35 mmist-4-0.03209-0.99129.hdf5\n"
          ]
        }
      ]
    },
    {
      "cell_type": "code",
      "source": [
        "saved_path = '/content/drive/MyDrive/딥러닝 NLP/models/mmist-3-0.02908-0.99282.hdf5'\n",
        "model.compile(optimizer='adam', loss='sparse_categorical_crossentropy', metrics=['accuracy'])\n",
        "model.load_weights(saved_path)\n",
        "\n",
        "print(f\"Loss, Accuracy {model.evaluate(test_images, test_labels)}\")"
      ],
      "metadata": {
        "colab": {
          "base_uri": "https://localhost:8080/"
        },
        "id": "53hXw2fLbvdt",
        "outputId": "eea70116-3b6f-4a92-b429-b595b2bae088"
      },
      "execution_count": null,
      "outputs": [
        {
          "output_type": "stream",
          "name": "stdout",
          "text": [
            "47/47 [==============================] - 9s 4ms/step - loss: 0.0378 - accuracy: 0.9913\n",
            "Loss, Accuracy [0.03775019198656082, 0.9913333058357239]\n"
          ]
        }
      ]
    },
    {
      "cell_type": "code",
      "source": [
        "!rm '/content/drive/MyDrive/딥러닝 NLP/models/'*"
      ],
      "metadata": {
        "id": "tpTcMU14ccC-"
      },
      "execution_count": null,
      "outputs": []
    },
    {
      "cell_type": "code",
      "source": [
        "import tensorflow as tf\n",
        "from tensorflow.keras.models import Model\n",
        "from tensorflow.keras.layers import Input, Conv2D, MaxPool2D, Flatten, Dense, Dropout\n",
        "\n",
        "class MNISTModel(Model):\n",
        "    def __init__(self):\n",
        "        super(MNISTModel, self).__init__()\n",
        "        self.conv1 = Conv2D(32, (3, 3), activation='relu')\n",
        "        self.pool1 = MaxPool2D()\n",
        "        self.conv2 = Conv2D(64, (3, 3), activation='relu')\n",
        "        self.pool2 = MaxPool2D()\n",
        "        self.conv3 = Conv2D(64, (3, 3), activation='relu')\n",
        "        self.flat = Flatten()\n",
        "        self.dense4 = Dense(64, activation='relu')\n",
        "        self.drop = Dropout(0.2)\n",
        "        self.outputs = Dense(10, activation='softmax')\n",
        "\n",
        "    #Forward \n",
        "    def call(self, inputs, training=False):\n",
        "        net = self.conv1(inputs)\n",
        "        net = self.pool1(net)\n",
        "        net = self.conv2(net)\n",
        "        net = self.pool2(net)\n",
        "        net = self.conv3(net)\n",
        "        net = self.flat(net)\n",
        "        net = self.dense4(net)\n",
        "        net = self.drop(net)\n",
        "        net = self.outputs(net)\n",
        "\n",
        "        return net\n",
        "\n",
        "model = MNISTModel()\n",
        "inputs = Input(shape=(28, 28, 1))\n",
        "model(inputs)\n",
        "\n",
        "model.summary()"
      ],
      "metadata": {
        "colab": {
          "base_uri": "https://localhost:8080/"
        },
        "id": "oQj8-OfslIKf",
        "outputId": "5a5efc93-45f0-420d-cdb1-4fcdaff80c32"
      },
      "execution_count": null,
      "outputs": [
        {
          "output_type": "stream",
          "name": "stdout",
          "text": [
            "Model: \"mnist_model\"\n",
            "_________________________________________________________________\n",
            " Layer (type)                Output Shape              Param #   \n",
            "=================================================================\n",
            " conv2d (Conv2D)             multiple                  320       \n",
            "                                                                 \n",
            " max_pooling2d (MaxPooling2D  multiple                 0         \n",
            " )                                                               \n",
            "                                                                 \n",
            " conv2d_1 (Conv2D)           multiple                  18496     \n",
            "                                                                 \n",
            " max_pooling2d_1 (MaxPooling  multiple                 0         \n",
            " 2D)                                                             \n",
            "                                                                 \n",
            " conv2d_2 (Conv2D)           multiple                  36928     \n",
            "                                                                 \n",
            " flatten (Flatten)           multiple                  0         \n",
            "                                                                 \n",
            " dense (Dense)               multiple                  36928     \n",
            "                                                                 \n",
            " dropout (Dropout)           multiple                  0         \n",
            "                                                                 \n",
            " dense_1 (Dense)             multiple                  650       \n",
            "                                                                 \n",
            "=================================================================\n",
            "Total params: 93,322\n",
            "Trainable params: 93,322\n",
            "Non-trainable params: 0\n",
            "_________________________________________________________________\n"
          ]
        }
      ]
    },
    {
      "cell_type": "code",
      "source": [
        "from tensorflow.keras.callbacks import ModelCheckpoint, EarlyStopping\n",
        "\n",
        "MODEL_SAVE_FOLDER = '/content/drive/MyDrive/딥러닝 NLP/models/'\n",
        "model_path = f\"{MODEL_SAVE_FOLDER}mmist-{{epoch:d}}-{{val_loss:.5f}}-{{val_accuracy:.5f}}.hdf5\"\n",
        "\n",
        "cb_checkpoint = ModelCheckpoint(filepath=model_path, \n",
        "                                monitor='val_accuracy',\n",
        "                                save_weights_only=True,\n",
        "                                verbose=1,\n",
        "                                save_best_only=True)\n",
        "cb_early_stopping= EarlyStopping(monitor='val_accuracy',patience=6)"
      ],
      "metadata": {
        "id": "zKKqyXr6n_Zx"
      },
      "execution_count": null,
      "outputs": []
    },
    {
      "cell_type": "code",
      "source": [
        "model.compile(optimizer='adam', loss='sparse_categorical_crossentropy', metrics=['accuracy'])\n",
        "hist = model.fit(train_images, train_labels, validation_data=(valid_images, valid_labels),\n",
        "                 epochs=100, batch_size=200,\n",
        "                 callbacks=[cb_checkpoint, cb_early_stopping])"
      ],
      "metadata": {
        "colab": {
          "base_uri": "https://localhost:8080/"
        },
        "id": "u_5JOzT8opS-",
        "outputId": "f4f75ae4-af0f-402f-ace3-838cc228bc21"
      },
      "execution_count": null,
      "outputs": [
        {
          "output_type": "stream",
          "name": "stdout",
          "text": [
            "Epoch 1/100\n",
            "297/300 [============================>.] - ETA: 0s - loss: 0.3806 - accuracy: 0.8856\n",
            "Epoch 1: val_accuracy improved from -inf to 0.97847, saving model to /content/drive/MyDrive/딥러닝 NLP/models/mmist-1-0.06941-0.97847.hdf5\n",
            "300/300 [==============================] - 4s 8ms/step - loss: 0.3782 - accuracy: 0.8863 - val_loss: 0.0694 - val_accuracy: 0.9785\n",
            "Epoch 2/100\n",
            "295/300 [============================>.] - ETA: 0s - loss: 0.0984 - accuracy: 0.9705\n",
            "Epoch 2: val_accuracy improved from 0.97847 to 0.98506, saving model to /content/drive/MyDrive/딥러닝 NLP/models/mmist-2-0.04657-0.98506.hdf5\n",
            "300/300 [==============================] - 2s 6ms/step - loss: 0.0978 - accuracy: 0.9707 - val_loss: 0.0466 - val_accuracy: 0.9851\n",
            "Epoch 3/100\n",
            "297/300 [============================>.] - ETA: 0s - loss: 0.0657 - accuracy: 0.9798\n",
            "Epoch 3: val_accuracy improved from 0.98506 to 0.98753, saving model to /content/drive/MyDrive/딥러닝 NLP/models/mmist-3-0.04129-0.98753.hdf5\n",
            "300/300 [==============================] - 2s 6ms/step - loss: 0.0659 - accuracy: 0.9798 - val_loss: 0.0413 - val_accuracy: 0.9875\n",
            "Epoch 4/100\n",
            "300/300 [==============================] - ETA: 0s - loss: 0.0535 - accuracy: 0.9839\n",
            "Epoch 4: val_accuracy improved from 0.98753 to 0.98976, saving model to /content/drive/MyDrive/딥러닝 NLP/models/mmist-4-0.03284-0.98976.hdf5\n",
            "300/300 [==============================] - 2s 7ms/step - loss: 0.0535 - accuracy: 0.9839 - val_loss: 0.0328 - val_accuracy: 0.9898\n",
            "Epoch 5/100\n",
            "293/300 [============================>.] - ETA: 0s - loss: 0.0437 - accuracy: 0.9871\n",
            "Epoch 5: val_accuracy improved from 0.98976 to 0.99106, saving model to /content/drive/MyDrive/딥러닝 NLP/models/mmist-5-0.02794-0.99106.hdf5\n",
            "300/300 [==============================] - 3s 9ms/step - loss: 0.0437 - accuracy: 0.9871 - val_loss: 0.0279 - val_accuracy: 0.9911\n",
            "Epoch 6/100\n",
            "300/300 [==============================] - ETA: 0s - loss: 0.0365 - accuracy: 0.9891\n",
            "Epoch 6: val_accuracy improved from 0.99106 to 0.99212, saving model to /content/drive/MyDrive/딥러닝 NLP/models/mmist-6-0.02414-0.99212.hdf5\n",
            "300/300 [==============================] - 2s 7ms/step - loss: 0.0365 - accuracy: 0.9891 - val_loss: 0.0241 - val_accuracy: 0.9921\n",
            "Epoch 7/100\n",
            "295/300 [============================>.] - ETA: 0s - loss: 0.0319 - accuracy: 0.9904\n",
            "Epoch 7: val_accuracy did not improve from 0.99212\n",
            "300/300 [==============================] - 2s 6ms/step - loss: 0.0319 - accuracy: 0.9904 - val_loss: 0.0252 - val_accuracy: 0.9920\n",
            "Epoch 8/100\n",
            "298/300 [============================>.] - ETA: 0s - loss: 0.0273 - accuracy: 0.9918\n",
            "Epoch 8: val_accuracy improved from 0.99212 to 0.99224, saving model to /content/drive/MyDrive/딥러닝 NLP/models/mmist-8-0.02252-0.99224.hdf5\n",
            "300/300 [==============================] - 2s 6ms/step - loss: 0.0275 - accuracy: 0.9917 - val_loss: 0.0225 - val_accuracy: 0.9922\n",
            "Epoch 9/100\n",
            "296/300 [============================>.] - ETA: 0s - loss: 0.0252 - accuracy: 0.9923\n",
            "Epoch 9: val_accuracy did not improve from 0.99224\n",
            "300/300 [==============================] - 2s 6ms/step - loss: 0.0252 - accuracy: 0.9923 - val_loss: 0.0237 - val_accuracy: 0.9921\n",
            "Epoch 10/100\n",
            "296/300 [============================>.] - ETA: 0s - loss: 0.0200 - accuracy: 0.9937\n",
            "Epoch 10: val_accuracy did not improve from 0.99224\n",
            "300/300 [==============================] - 2s 6ms/step - loss: 0.0201 - accuracy: 0.9938 - val_loss: 0.0256 - val_accuracy: 0.9918\n",
            "Epoch 11/100\n",
            "296/300 [============================>.] - ETA: 0s - loss: 0.0203 - accuracy: 0.9935\n",
            "Epoch 11: val_accuracy improved from 0.99224 to 0.99376, saving model to /content/drive/MyDrive/딥러닝 NLP/models/mmist-11-0.02098-0.99376.hdf5\n",
            "300/300 [==============================] - 2s 7ms/step - loss: 0.0203 - accuracy: 0.9935 - val_loss: 0.0210 - val_accuracy: 0.9938\n",
            "Epoch 12/100\n",
            "296/300 [============================>.] - ETA: 0s - loss: 0.0178 - accuracy: 0.9944\n",
            "Epoch 12: val_accuracy did not improve from 0.99376\n",
            "300/300 [==============================] - 2s 6ms/step - loss: 0.0178 - accuracy: 0.9944 - val_loss: 0.0213 - val_accuracy: 0.9934\n",
            "Epoch 13/100\n",
            "298/300 [============================>.] - ETA: 0s - loss: 0.0160 - accuracy: 0.9949\n",
            "Epoch 13: val_accuracy did not improve from 0.99376\n",
            "300/300 [==============================] - 2s 6ms/step - loss: 0.0159 - accuracy: 0.9949 - val_loss: 0.0202 - val_accuracy: 0.9938\n",
            "Epoch 14/100\n",
            "298/300 [============================>.] - ETA: 0s - loss: 0.0140 - accuracy: 0.9956\n",
            "Epoch 14: val_accuracy did not improve from 0.99376\n",
            "300/300 [==============================] - 2s 6ms/step - loss: 0.0141 - accuracy: 0.9956 - val_loss: 0.0218 - val_accuracy: 0.9935\n",
            "Epoch 15/100\n",
            "299/300 [============================>.] - ETA: 0s - loss: 0.0136 - accuracy: 0.9957\n",
            "Epoch 15: val_accuracy did not improve from 0.99376\n",
            "300/300 [==============================] - 2s 6ms/step - loss: 0.0136 - accuracy: 0.9957 - val_loss: 0.0235 - val_accuracy: 0.9929\n",
            "Epoch 16/100\n",
            "297/300 [============================>.] - ETA: 0s - loss: 0.0117 - accuracy: 0.9962\n",
            "Epoch 16: val_accuracy improved from 0.99376 to 0.99412, saving model to /content/drive/MyDrive/딥러닝 NLP/models/mmist-16-0.02293-0.99412.hdf5\n",
            "300/300 [==============================] - 2s 6ms/step - loss: 0.0117 - accuracy: 0.9962 - val_loss: 0.0229 - val_accuracy: 0.9941\n",
            "Epoch 17/100\n",
            "296/300 [============================>.] - ETA: 0s - loss: 0.0116 - accuracy: 0.9963\n",
            "Epoch 17: val_accuracy did not improve from 0.99412\n",
            "300/300 [==============================] - 2s 6ms/step - loss: 0.0116 - accuracy: 0.9963 - val_loss: 0.0261 - val_accuracy: 0.9926\n",
            "Epoch 18/100\n",
            "297/300 [============================>.] - ETA: 0s - loss: 0.0092 - accuracy: 0.9970\n",
            "Epoch 18: val_accuracy did not improve from 0.99412\n",
            "300/300 [==============================] - 2s 6ms/step - loss: 0.0092 - accuracy: 0.9970 - val_loss: 0.0243 - val_accuracy: 0.9933\n",
            "Epoch 19/100\n",
            "296/300 [============================>.] - ETA: 0s - loss: 0.0091 - accuracy: 0.9969\n",
            "Epoch 19: val_accuracy did not improve from 0.99412\n",
            "300/300 [==============================] - 2s 6ms/step - loss: 0.0092 - accuracy: 0.9969 - val_loss: 0.0219 - val_accuracy: 0.9935\n",
            "Epoch 20/100\n",
            "296/300 [============================>.] - ETA: 0s - loss: 0.0092 - accuracy: 0.9969\n",
            "Epoch 20: val_accuracy improved from 0.99412 to 0.99424, saving model to /content/drive/MyDrive/딥러닝 NLP/models/mmist-20-0.02262-0.99424.hdf5\n",
            "300/300 [==============================] - 2s 6ms/step - loss: 0.0094 - accuracy: 0.9969 - val_loss: 0.0226 - val_accuracy: 0.9942\n",
            "Epoch 21/100\n",
            "295/300 [============================>.] - ETA: 0s - loss: 0.0089 - accuracy: 0.9971\n",
            "Epoch 21: val_accuracy did not improve from 0.99424\n",
            "300/300 [==============================] - 2s 6ms/step - loss: 0.0088 - accuracy: 0.9971 - val_loss: 0.0220 - val_accuracy: 0.9939\n",
            "Epoch 22/100\n",
            "295/300 [============================>.] - ETA: 0s - loss: 0.0080 - accuracy: 0.9974\n",
            "Epoch 22: val_accuracy did not improve from 0.99424\n",
            "300/300 [==============================] - 2s 6ms/step - loss: 0.0080 - accuracy: 0.9974 - val_loss: 0.0233 - val_accuracy: 0.9942\n",
            "Epoch 23/100\n",
            "298/300 [============================>.] - ETA: 0s - loss: 0.0075 - accuracy: 0.9976\n",
            "Epoch 23: val_accuracy did not improve from 0.99424\n",
            "300/300 [==============================] - 2s 6ms/step - loss: 0.0074 - accuracy: 0.9976 - val_loss: 0.0237 - val_accuracy: 0.9941\n",
            "Epoch 24/100\n",
            "296/300 [============================>.] - ETA: 0s - loss: 0.0072 - accuracy: 0.9975\n",
            "Epoch 24: val_accuracy improved from 0.99424 to 0.99506, saving model to /content/drive/MyDrive/딥러닝 NLP/models/mmist-24-0.02115-0.99506.hdf5\n",
            "300/300 [==============================] - 2s 6ms/step - loss: 0.0073 - accuracy: 0.9975 - val_loss: 0.0211 - val_accuracy: 0.9951\n",
            "Epoch 25/100\n",
            "298/300 [============================>.] - ETA: 0s - loss: 0.0069 - accuracy: 0.9977\n",
            "Epoch 25: val_accuracy did not improve from 0.99506\n",
            "300/300 [==============================] - 2s 6ms/step - loss: 0.0069 - accuracy: 0.9977 - val_loss: 0.0216 - val_accuracy: 0.9947\n",
            "Epoch 26/100\n",
            "296/300 [============================>.] - ETA: 0s - loss: 0.0062 - accuracy: 0.9980\n",
            "Epoch 26: val_accuracy did not improve from 0.99506\n",
            "300/300 [==============================] - 2s 6ms/step - loss: 0.0062 - accuracy: 0.9980 - val_loss: 0.0288 - val_accuracy: 0.9932\n",
            "Epoch 27/100\n",
            "297/300 [============================>.] - ETA: 0s - loss: 0.0049 - accuracy: 0.9984\n",
            "Epoch 27: val_accuracy did not improve from 0.99506\n",
            "300/300 [==============================] - 2s 6ms/step - loss: 0.0049 - accuracy: 0.9984 - val_loss: 0.0342 - val_accuracy: 0.9938\n",
            "Epoch 28/100\n",
            "294/300 [============================>.] - ETA: 0s - loss: 0.0053 - accuracy: 0.9982\n",
            "Epoch 28: val_accuracy did not improve from 0.99506\n",
            "300/300 [==============================] - 2s 6ms/step - loss: 0.0054 - accuracy: 0.9981 - val_loss: 0.0305 - val_accuracy: 0.9933\n",
            "Epoch 29/100\n",
            "296/300 [============================>.] - ETA: 0s - loss: 0.0063 - accuracy: 0.9979\n",
            "Epoch 29: val_accuracy did not improve from 0.99506\n",
            "300/300 [==============================] - 2s 6ms/step - loss: 0.0063 - accuracy: 0.9978 - val_loss: 0.0329 - val_accuracy: 0.9933\n",
            "Epoch 30/100\n",
            "297/300 [============================>.] - ETA: 0s - loss: 0.0063 - accuracy: 0.9979\n",
            "Epoch 30: val_accuracy did not improve from 0.99506\n",
            "300/300 [==============================] - 2s 6ms/step - loss: 0.0062 - accuracy: 0.9980 - val_loss: 0.0275 - val_accuracy: 0.9936\n"
          ]
        }
      ]
    },
    {
      "cell_type": "code",
      "source": [
        "saved_path = '/content/drive/MyDrive/딥러닝 NLP/models/mmist-20-0.02262-0.99424.hdf5'\n",
        "model.compile(optimizer='adam', loss='sparse_categorical_crossentropy', metrics=['accuracy'])\n",
        "model.load_weights(saved_path)\n",
        "\n",
        "print(f\"Loss, Accuracy {model.evaluate(test_images, test_labels)}\")"
      ],
      "metadata": {
        "colab": {
          "base_uri": "https://localhost:8080/"
        },
        "id": "YHKV5qnBotgf",
        "outputId": "f7f8922c-8231-44ed-e50a-88b91894e87e"
      },
      "execution_count": null,
      "outputs": [
        {
          "output_type": "stream",
          "name": "stdout",
          "text": [
            "47/47 [==============================] - 9s 6ms/step - loss: 0.0126 - accuracy: 0.9973\n",
            "Loss, Accuracy [0.01257546991109848, 0.9973333477973938]\n"
          ]
        }
      ]
    },
    {
      "cell_type": "code",
      "source": [
        "output = model(test_images)\n",
        "output.shape"
      ],
      "metadata": {
        "colab": {
          "base_uri": "https://localhost:8080/"
        },
        "id": "jRyrcbeopYDv",
        "outputId": "edbfd598-80fb-43eb-ebcf-c2fb67c99c42"
      },
      "execution_count": null,
      "outputs": [
        {
          "output_type": "execute_result",
          "data": {
            "text/plain": [
              "TensorShape([1500, 10])"
            ]
          },
          "metadata": {},
          "execution_count": 4
        }
      ]
    },
    {
      "cell_type": "code",
      "source": [
        "import numpy as np\n",
        "output[0] # softmax를 거친 값\n",
        "np.argmax(output[0])"
      ],
      "metadata": {
        "colab": {
          "base_uri": "https://localhost:8080/"
        },
        "id": "3uNRMFW3CViC",
        "outputId": "94677403-4891-4175-f1f2-61f82f72a696"
      },
      "execution_count": null,
      "outputs": [
        {
          "output_type": "execute_result",
          "data": {
            "text/plain": [
              "5"
            ]
          },
          "metadata": {},
          "execution_count": 8
        }
      ]
    },
    {
      "cell_type": "code",
      "source": [
        "test_labels[0]"
      ],
      "metadata": {
        "colab": {
          "base_uri": "https://localhost:8080/"
        },
        "id": "z8PmkAPTCYLx",
        "outputId": "390641ec-fa6d-42c7-9d06-a0461a775ebb"
      },
      "execution_count": null,
      "outputs": [
        {
          "output_type": "execute_result",
          "data": {
            "text/plain": [
              "5"
            ]
          },
          "metadata": {},
          "execution_count": 10
        }
      ]
    },
    {
      "cell_type": "code",
      "source": [
        ""
      ],
      "metadata": {
        "id": "l7U6eMvmCoGg"
      },
      "execution_count": null,
      "outputs": []
    }
  ]
}